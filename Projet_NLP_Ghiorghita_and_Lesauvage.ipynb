{
  "nbformat": 4,
  "nbformat_minor": 0,
  "metadata": {
    "kernelspec": {
      "display_name": "Python 3",
      "language": "python",
      "name": "python3"
    },
    "language_info": {
      "codemirror_mode": {
        "name": "ipython",
        "version": 3
      },
      "file_extension": ".py",
      "mimetype": "text/x-python",
      "name": "python",
      "nbconvert_exporter": "python",
      "pygments_lexer": "ipython3",
      "version": "3.6.5"
    },
    "colab": {
      "name": "Projet NLP - Ghiorghita and Lesauvage.ipynb",
      "provenance": [],
      "collapsed_sections": [],
      "toc_visible": true
    },
    "accelerator": "GPU",
    "widgets": {
      "application/vnd.jupyter.widget-state+json": {
        "b31d0eda76564ae8834b47c79cce9546": {
          "model_module": "@jupyter-widgets/controls",
          "model_name": "HBoxModel",
          "state": {
            "_view_name": "HBoxView",
            "_dom_classes": [],
            "_model_name": "HBoxModel",
            "_view_module": "@jupyter-widgets/controls",
            "_model_module_version": "1.5.0",
            "_view_count": null,
            "_view_module_version": "1.5.0",
            "box_style": "",
            "layout": "IPY_MODEL_c10c382329cb4142a87899757c71af03",
            "_model_module": "@jupyter-widgets/controls",
            "children": [
              "IPY_MODEL_4752d301048d424096c6452837ef29dc",
              "IPY_MODEL_b032838c5ff34157a42f3a6640395152"
            ]
          }
        },
        "c10c382329cb4142a87899757c71af03": {
          "model_module": "@jupyter-widgets/base",
          "model_name": "LayoutModel",
          "state": {
            "_view_name": "LayoutView",
            "grid_template_rows": null,
            "right": null,
            "justify_content": null,
            "_view_module": "@jupyter-widgets/base",
            "overflow": null,
            "_model_module_version": "1.2.0",
            "_view_count": null,
            "flex_flow": null,
            "width": null,
            "min_width": null,
            "border": null,
            "align_items": null,
            "bottom": null,
            "_model_module": "@jupyter-widgets/base",
            "top": null,
            "grid_column": null,
            "overflow_y": null,
            "overflow_x": null,
            "grid_auto_flow": null,
            "grid_area": null,
            "grid_template_columns": null,
            "flex": null,
            "_model_name": "LayoutModel",
            "justify_items": null,
            "grid_row": null,
            "max_height": null,
            "align_content": null,
            "visibility": null,
            "align_self": null,
            "height": null,
            "min_height": null,
            "padding": null,
            "grid_auto_rows": null,
            "grid_gap": null,
            "max_width": null,
            "order": null,
            "_view_module_version": "1.2.0",
            "grid_template_areas": null,
            "object_position": null,
            "object_fit": null,
            "grid_auto_columns": null,
            "margin": null,
            "display": null,
            "left": null
          }
        },
        "4752d301048d424096c6452837ef29dc": {
          "model_module": "@jupyter-widgets/controls",
          "model_name": "FloatProgressModel",
          "state": {
            "_view_name": "ProgressView",
            "style": "IPY_MODEL_cac7290cee864415bfd1e9ed1d89aa74",
            "_dom_classes": [],
            "description": "Downloading: 100%",
            "_model_name": "FloatProgressModel",
            "bar_style": "success",
            "max": 433,
            "_view_module": "@jupyter-widgets/controls",
            "_model_module_version": "1.5.0",
            "value": 433,
            "_view_count": null,
            "_view_module_version": "1.5.0",
            "orientation": "horizontal",
            "min": 0,
            "description_tooltip": null,
            "_model_module": "@jupyter-widgets/controls",
            "layout": "IPY_MODEL_8b785cb118e2421889659351ecf65e6a"
          }
        },
        "b032838c5ff34157a42f3a6640395152": {
          "model_module": "@jupyter-widgets/controls",
          "model_name": "HTMLModel",
          "state": {
            "_view_name": "HTMLView",
            "style": "IPY_MODEL_3cd061236de942e9a6ba5a5d06b33e2d",
            "_dom_classes": [],
            "description": "",
            "_model_name": "HTMLModel",
            "placeholder": "​",
            "_view_module": "@jupyter-widgets/controls",
            "_model_module_version": "1.5.0",
            "value": " 433/433 [00:01&lt;00:00, 371B/s]",
            "_view_count": null,
            "_view_module_version": "1.5.0",
            "description_tooltip": null,
            "_model_module": "@jupyter-widgets/controls",
            "layout": "IPY_MODEL_d624fa36098044989db6e70e6c9c921d"
          }
        },
        "cac7290cee864415bfd1e9ed1d89aa74": {
          "model_module": "@jupyter-widgets/controls",
          "model_name": "ProgressStyleModel",
          "state": {
            "_view_name": "StyleView",
            "_model_name": "ProgressStyleModel",
            "description_width": "initial",
            "_view_module": "@jupyter-widgets/base",
            "_model_module_version": "1.5.0",
            "_view_count": null,
            "_view_module_version": "1.2.0",
            "bar_color": null,
            "_model_module": "@jupyter-widgets/controls"
          }
        },
        "8b785cb118e2421889659351ecf65e6a": {
          "model_module": "@jupyter-widgets/base",
          "model_name": "LayoutModel",
          "state": {
            "_view_name": "LayoutView",
            "grid_template_rows": null,
            "right": null,
            "justify_content": null,
            "_view_module": "@jupyter-widgets/base",
            "overflow": null,
            "_model_module_version": "1.2.0",
            "_view_count": null,
            "flex_flow": null,
            "width": null,
            "min_width": null,
            "border": null,
            "align_items": null,
            "bottom": null,
            "_model_module": "@jupyter-widgets/base",
            "top": null,
            "grid_column": null,
            "overflow_y": null,
            "overflow_x": null,
            "grid_auto_flow": null,
            "grid_area": null,
            "grid_template_columns": null,
            "flex": null,
            "_model_name": "LayoutModel",
            "justify_items": null,
            "grid_row": null,
            "max_height": null,
            "align_content": null,
            "visibility": null,
            "align_self": null,
            "height": null,
            "min_height": null,
            "padding": null,
            "grid_auto_rows": null,
            "grid_gap": null,
            "max_width": null,
            "order": null,
            "_view_module_version": "1.2.0",
            "grid_template_areas": null,
            "object_position": null,
            "object_fit": null,
            "grid_auto_columns": null,
            "margin": null,
            "display": null,
            "left": null
          }
        },
        "3cd061236de942e9a6ba5a5d06b33e2d": {
          "model_module": "@jupyter-widgets/controls",
          "model_name": "DescriptionStyleModel",
          "state": {
            "_view_name": "StyleView",
            "_model_name": "DescriptionStyleModel",
            "description_width": "",
            "_view_module": "@jupyter-widgets/base",
            "_model_module_version": "1.5.0",
            "_view_count": null,
            "_view_module_version": "1.2.0",
            "_model_module": "@jupyter-widgets/controls"
          }
        },
        "d624fa36098044989db6e70e6c9c921d": {
          "model_module": "@jupyter-widgets/base",
          "model_name": "LayoutModel",
          "state": {
            "_view_name": "LayoutView",
            "grid_template_rows": null,
            "right": null,
            "justify_content": null,
            "_view_module": "@jupyter-widgets/base",
            "overflow": null,
            "_model_module_version": "1.2.0",
            "_view_count": null,
            "flex_flow": null,
            "width": null,
            "min_width": null,
            "border": null,
            "align_items": null,
            "bottom": null,
            "_model_module": "@jupyter-widgets/base",
            "top": null,
            "grid_column": null,
            "overflow_y": null,
            "overflow_x": null,
            "grid_auto_flow": null,
            "grid_area": null,
            "grid_template_columns": null,
            "flex": null,
            "_model_name": "LayoutModel",
            "justify_items": null,
            "grid_row": null,
            "max_height": null,
            "align_content": null,
            "visibility": null,
            "align_self": null,
            "height": null,
            "min_height": null,
            "padding": null,
            "grid_auto_rows": null,
            "grid_gap": null,
            "max_width": null,
            "order": null,
            "_view_module_version": "1.2.0",
            "grid_template_areas": null,
            "object_position": null,
            "object_fit": null,
            "grid_auto_columns": null,
            "margin": null,
            "display": null,
            "left": null
          }
        },
        "4a5f9f19f5bf4eba9e91efa6cbf190d4": {
          "model_module": "@jupyter-widgets/controls",
          "model_name": "HBoxModel",
          "state": {
            "_view_name": "HBoxView",
            "_dom_classes": [],
            "_model_name": "HBoxModel",
            "_view_module": "@jupyter-widgets/controls",
            "_model_module_version": "1.5.0",
            "_view_count": null,
            "_view_module_version": "1.5.0",
            "box_style": "",
            "layout": "IPY_MODEL_532d12e533494ffc8a643ecd996da5bd",
            "_model_module": "@jupyter-widgets/controls",
            "children": [
              "IPY_MODEL_0cd58a2189d74d059ca63dbc973c9701",
              "IPY_MODEL_3ca0fbbe645b4177bba2c0f4e7bc3664"
            ]
          }
        },
        "532d12e533494ffc8a643ecd996da5bd": {
          "model_module": "@jupyter-widgets/base",
          "model_name": "LayoutModel",
          "state": {
            "_view_name": "LayoutView",
            "grid_template_rows": null,
            "right": null,
            "justify_content": null,
            "_view_module": "@jupyter-widgets/base",
            "overflow": null,
            "_model_module_version": "1.2.0",
            "_view_count": null,
            "flex_flow": null,
            "width": null,
            "min_width": null,
            "border": null,
            "align_items": null,
            "bottom": null,
            "_model_module": "@jupyter-widgets/base",
            "top": null,
            "grid_column": null,
            "overflow_y": null,
            "overflow_x": null,
            "grid_auto_flow": null,
            "grid_area": null,
            "grid_template_columns": null,
            "flex": null,
            "_model_name": "LayoutModel",
            "justify_items": null,
            "grid_row": null,
            "max_height": null,
            "align_content": null,
            "visibility": null,
            "align_self": null,
            "height": null,
            "min_height": null,
            "padding": null,
            "grid_auto_rows": null,
            "grid_gap": null,
            "max_width": null,
            "order": null,
            "_view_module_version": "1.2.0",
            "grid_template_areas": null,
            "object_position": null,
            "object_fit": null,
            "grid_auto_columns": null,
            "margin": null,
            "display": null,
            "left": null
          }
        },
        "0cd58a2189d74d059ca63dbc973c9701": {
          "model_module": "@jupyter-widgets/controls",
          "model_name": "FloatProgressModel",
          "state": {
            "_view_name": "ProgressView",
            "style": "IPY_MODEL_f56813f9312e4b51a73746ad9664767d",
            "_dom_classes": [],
            "description": "Downloading: 100%",
            "_model_name": "FloatProgressModel",
            "bar_style": "success",
            "max": 231508,
            "_view_module": "@jupyter-widgets/controls",
            "_model_module_version": "1.5.0",
            "value": 231508,
            "_view_count": null,
            "_view_module_version": "1.5.0",
            "orientation": "horizontal",
            "min": 0,
            "description_tooltip": null,
            "_model_module": "@jupyter-widgets/controls",
            "layout": "IPY_MODEL_e8d6d9d1a06d44679215d67f2c752ec2"
          }
        },
        "3ca0fbbe645b4177bba2c0f4e7bc3664": {
          "model_module": "@jupyter-widgets/controls",
          "model_name": "HTMLModel",
          "state": {
            "_view_name": "HTMLView",
            "style": "IPY_MODEL_d9b8ddbc30ea4805807dcdb4050514b6",
            "_dom_classes": [],
            "description": "",
            "_model_name": "HTMLModel",
            "placeholder": "​",
            "_view_module": "@jupyter-widgets/controls",
            "_model_module_version": "1.5.0",
            "value": " 232k/232k [00:00&lt;00:00, 328kB/s]",
            "_view_count": null,
            "_view_module_version": "1.5.0",
            "description_tooltip": null,
            "_model_module": "@jupyter-widgets/controls",
            "layout": "IPY_MODEL_8d1ab2a281bc4d68aede9dd4cdb88425"
          }
        },
        "f56813f9312e4b51a73746ad9664767d": {
          "model_module": "@jupyter-widgets/controls",
          "model_name": "ProgressStyleModel",
          "state": {
            "_view_name": "StyleView",
            "_model_name": "ProgressStyleModel",
            "description_width": "initial",
            "_view_module": "@jupyter-widgets/base",
            "_model_module_version": "1.5.0",
            "_view_count": null,
            "_view_module_version": "1.2.0",
            "bar_color": null,
            "_model_module": "@jupyter-widgets/controls"
          }
        },
        "e8d6d9d1a06d44679215d67f2c752ec2": {
          "model_module": "@jupyter-widgets/base",
          "model_name": "LayoutModel",
          "state": {
            "_view_name": "LayoutView",
            "grid_template_rows": null,
            "right": null,
            "justify_content": null,
            "_view_module": "@jupyter-widgets/base",
            "overflow": null,
            "_model_module_version": "1.2.0",
            "_view_count": null,
            "flex_flow": null,
            "width": null,
            "min_width": null,
            "border": null,
            "align_items": null,
            "bottom": null,
            "_model_module": "@jupyter-widgets/base",
            "top": null,
            "grid_column": null,
            "overflow_y": null,
            "overflow_x": null,
            "grid_auto_flow": null,
            "grid_area": null,
            "grid_template_columns": null,
            "flex": null,
            "_model_name": "LayoutModel",
            "justify_items": null,
            "grid_row": null,
            "max_height": null,
            "align_content": null,
            "visibility": null,
            "align_self": null,
            "height": null,
            "min_height": null,
            "padding": null,
            "grid_auto_rows": null,
            "grid_gap": null,
            "max_width": null,
            "order": null,
            "_view_module_version": "1.2.0",
            "grid_template_areas": null,
            "object_position": null,
            "object_fit": null,
            "grid_auto_columns": null,
            "margin": null,
            "display": null,
            "left": null
          }
        },
        "d9b8ddbc30ea4805807dcdb4050514b6": {
          "model_module": "@jupyter-widgets/controls",
          "model_name": "DescriptionStyleModel",
          "state": {
            "_view_name": "StyleView",
            "_model_name": "DescriptionStyleModel",
            "description_width": "",
            "_view_module": "@jupyter-widgets/base",
            "_model_module_version": "1.5.0",
            "_view_count": null,
            "_view_module_version": "1.2.0",
            "_model_module": "@jupyter-widgets/controls"
          }
        },
        "8d1ab2a281bc4d68aede9dd4cdb88425": {
          "model_module": "@jupyter-widgets/base",
          "model_name": "LayoutModel",
          "state": {
            "_view_name": "LayoutView",
            "grid_template_rows": null,
            "right": null,
            "justify_content": null,
            "_view_module": "@jupyter-widgets/base",
            "overflow": null,
            "_model_module_version": "1.2.0",
            "_view_count": null,
            "flex_flow": null,
            "width": null,
            "min_width": null,
            "border": null,
            "align_items": null,
            "bottom": null,
            "_model_module": "@jupyter-widgets/base",
            "top": null,
            "grid_column": null,
            "overflow_y": null,
            "overflow_x": null,
            "grid_auto_flow": null,
            "grid_area": null,
            "grid_template_columns": null,
            "flex": null,
            "_model_name": "LayoutModel",
            "justify_items": null,
            "grid_row": null,
            "max_height": null,
            "align_content": null,
            "visibility": null,
            "align_self": null,
            "height": null,
            "min_height": null,
            "padding": null,
            "grid_auto_rows": null,
            "grid_gap": null,
            "max_width": null,
            "order": null,
            "_view_module_version": "1.2.0",
            "grid_template_areas": null,
            "object_position": null,
            "object_fit": null,
            "grid_auto_columns": null,
            "margin": null,
            "display": null,
            "left": null
          }
        },
        "5275f048376f4ad3b53a194b701a17a6": {
          "model_module": "@jupyter-widgets/controls",
          "model_name": "HBoxModel",
          "state": {
            "_view_name": "HBoxView",
            "_dom_classes": [],
            "_model_name": "HBoxModel",
            "_view_module": "@jupyter-widgets/controls",
            "_model_module_version": "1.5.0",
            "_view_count": null,
            "_view_module_version": "1.5.0",
            "box_style": "",
            "layout": "IPY_MODEL_99205ce3cddd458cb8f12df60a1f14fc",
            "_model_module": "@jupyter-widgets/controls",
            "children": [
              "IPY_MODEL_2ce3c1afc8ea4a4dbd5d37b5ef103795",
              "IPY_MODEL_7fa42ccf35234688ab5d2d2aa442e9de"
            ]
          }
        },
        "99205ce3cddd458cb8f12df60a1f14fc": {
          "model_module": "@jupyter-widgets/base",
          "model_name": "LayoutModel",
          "state": {
            "_view_name": "LayoutView",
            "grid_template_rows": null,
            "right": null,
            "justify_content": null,
            "_view_module": "@jupyter-widgets/base",
            "overflow": null,
            "_model_module_version": "1.2.0",
            "_view_count": null,
            "flex_flow": null,
            "width": null,
            "min_width": null,
            "border": null,
            "align_items": null,
            "bottom": null,
            "_model_module": "@jupyter-widgets/base",
            "top": null,
            "grid_column": null,
            "overflow_y": null,
            "overflow_x": null,
            "grid_auto_flow": null,
            "grid_area": null,
            "grid_template_columns": null,
            "flex": null,
            "_model_name": "LayoutModel",
            "justify_items": null,
            "grid_row": null,
            "max_height": null,
            "align_content": null,
            "visibility": null,
            "align_self": null,
            "height": null,
            "min_height": null,
            "padding": null,
            "grid_auto_rows": null,
            "grid_gap": null,
            "max_width": null,
            "order": null,
            "_view_module_version": "1.2.0",
            "grid_template_areas": null,
            "object_position": null,
            "object_fit": null,
            "grid_auto_columns": null,
            "margin": null,
            "display": null,
            "left": null
          }
        },
        "2ce3c1afc8ea4a4dbd5d37b5ef103795": {
          "model_module": "@jupyter-widgets/controls",
          "model_name": "FloatProgressModel",
          "state": {
            "_view_name": "ProgressView",
            "style": "IPY_MODEL_182f642d39c442c497bcf1db17625a4f",
            "_dom_classes": [],
            "description": "Downloading: 100%",
            "_model_name": "FloatProgressModel",
            "bar_style": "success",
            "max": 466062,
            "_view_module": "@jupyter-widgets/controls",
            "_model_module_version": "1.5.0",
            "value": 466062,
            "_view_count": null,
            "_view_module_version": "1.5.0",
            "orientation": "horizontal",
            "min": 0,
            "description_tooltip": null,
            "_model_module": "@jupyter-widgets/controls",
            "layout": "IPY_MODEL_f3a0f7afd3034b37904cf0307bd3b207"
          }
        },
        "7fa42ccf35234688ab5d2d2aa442e9de": {
          "model_module": "@jupyter-widgets/controls",
          "model_name": "HTMLModel",
          "state": {
            "_view_name": "HTMLView",
            "style": "IPY_MODEL_d5e73789712047a7abe703a0a6d504cb",
            "_dom_classes": [],
            "description": "",
            "_model_name": "HTMLModel",
            "placeholder": "​",
            "_view_module": "@jupyter-widgets/controls",
            "_model_module_version": "1.5.0",
            "value": " 466k/466k [15:57&lt;00:00, 487B/s]",
            "_view_count": null,
            "_view_module_version": "1.5.0",
            "description_tooltip": null,
            "_model_module": "@jupyter-widgets/controls",
            "layout": "IPY_MODEL_17874940128a4fb492c849a6fe36ed99"
          }
        },
        "182f642d39c442c497bcf1db17625a4f": {
          "model_module": "@jupyter-widgets/controls",
          "model_name": "ProgressStyleModel",
          "state": {
            "_view_name": "StyleView",
            "_model_name": "ProgressStyleModel",
            "description_width": "initial",
            "_view_module": "@jupyter-widgets/base",
            "_model_module_version": "1.5.0",
            "_view_count": null,
            "_view_module_version": "1.2.0",
            "bar_color": null,
            "_model_module": "@jupyter-widgets/controls"
          }
        },
        "f3a0f7afd3034b37904cf0307bd3b207": {
          "model_module": "@jupyter-widgets/base",
          "model_name": "LayoutModel",
          "state": {
            "_view_name": "LayoutView",
            "grid_template_rows": null,
            "right": null,
            "justify_content": null,
            "_view_module": "@jupyter-widgets/base",
            "overflow": null,
            "_model_module_version": "1.2.0",
            "_view_count": null,
            "flex_flow": null,
            "width": null,
            "min_width": null,
            "border": null,
            "align_items": null,
            "bottom": null,
            "_model_module": "@jupyter-widgets/base",
            "top": null,
            "grid_column": null,
            "overflow_y": null,
            "overflow_x": null,
            "grid_auto_flow": null,
            "grid_area": null,
            "grid_template_columns": null,
            "flex": null,
            "_model_name": "LayoutModel",
            "justify_items": null,
            "grid_row": null,
            "max_height": null,
            "align_content": null,
            "visibility": null,
            "align_self": null,
            "height": null,
            "min_height": null,
            "padding": null,
            "grid_auto_rows": null,
            "grid_gap": null,
            "max_width": null,
            "order": null,
            "_view_module_version": "1.2.0",
            "grid_template_areas": null,
            "object_position": null,
            "object_fit": null,
            "grid_auto_columns": null,
            "margin": null,
            "display": null,
            "left": null
          }
        },
        "d5e73789712047a7abe703a0a6d504cb": {
          "model_module": "@jupyter-widgets/controls",
          "model_name": "DescriptionStyleModel",
          "state": {
            "_view_name": "StyleView",
            "_model_name": "DescriptionStyleModel",
            "description_width": "",
            "_view_module": "@jupyter-widgets/base",
            "_model_module_version": "1.5.0",
            "_view_count": null,
            "_view_module_version": "1.2.0",
            "_model_module": "@jupyter-widgets/controls"
          }
        },
        "17874940128a4fb492c849a6fe36ed99": {
          "model_module": "@jupyter-widgets/base",
          "model_name": "LayoutModel",
          "state": {
            "_view_name": "LayoutView",
            "grid_template_rows": null,
            "right": null,
            "justify_content": null,
            "_view_module": "@jupyter-widgets/base",
            "overflow": null,
            "_model_module_version": "1.2.0",
            "_view_count": null,
            "flex_flow": null,
            "width": null,
            "min_width": null,
            "border": null,
            "align_items": null,
            "bottom": null,
            "_model_module": "@jupyter-widgets/base",
            "top": null,
            "grid_column": null,
            "overflow_y": null,
            "overflow_x": null,
            "grid_auto_flow": null,
            "grid_area": null,
            "grid_template_columns": null,
            "flex": null,
            "_model_name": "LayoutModel",
            "justify_items": null,
            "grid_row": null,
            "max_height": null,
            "align_content": null,
            "visibility": null,
            "align_self": null,
            "height": null,
            "min_height": null,
            "padding": null,
            "grid_auto_rows": null,
            "grid_gap": null,
            "max_width": null,
            "order": null,
            "_view_module_version": "1.2.0",
            "grid_template_areas": null,
            "object_position": null,
            "object_fit": null,
            "grid_auto_columns": null,
            "margin": null,
            "display": null,
            "left": null
          }
        },
        "a70ce33dccaf406b8401a0676b0e1ec0": {
          "model_module": "@jupyter-widgets/controls",
          "model_name": "HBoxModel",
          "state": {
            "_view_name": "HBoxView",
            "_dom_classes": [],
            "_model_name": "HBoxModel",
            "_view_module": "@jupyter-widgets/controls",
            "_model_module_version": "1.5.0",
            "_view_count": null,
            "_view_module_version": "1.5.0",
            "box_style": "",
            "layout": "IPY_MODEL_79f4a952096b4d469e7aaec034a548d1",
            "_model_module": "@jupyter-widgets/controls",
            "children": [
              "IPY_MODEL_76d8160de2cb4266b9e4aa3a843ad47d",
              "IPY_MODEL_1ff379b194f54bf78c4290c560db7975"
            ]
          }
        },
        "79f4a952096b4d469e7aaec034a548d1": {
          "model_module": "@jupyter-widgets/base",
          "model_name": "LayoutModel",
          "state": {
            "_view_name": "LayoutView",
            "grid_template_rows": null,
            "right": null,
            "justify_content": null,
            "_view_module": "@jupyter-widgets/base",
            "overflow": null,
            "_model_module_version": "1.2.0",
            "_view_count": null,
            "flex_flow": null,
            "width": null,
            "min_width": null,
            "border": null,
            "align_items": null,
            "bottom": null,
            "_model_module": "@jupyter-widgets/base",
            "top": null,
            "grid_column": null,
            "overflow_y": null,
            "overflow_x": null,
            "grid_auto_flow": null,
            "grid_area": null,
            "grid_template_columns": null,
            "flex": null,
            "_model_name": "LayoutModel",
            "justify_items": null,
            "grid_row": null,
            "max_height": null,
            "align_content": null,
            "visibility": null,
            "align_self": null,
            "height": null,
            "min_height": null,
            "padding": null,
            "grid_auto_rows": null,
            "grid_gap": null,
            "max_width": null,
            "order": null,
            "_view_module_version": "1.2.0",
            "grid_template_areas": null,
            "object_position": null,
            "object_fit": null,
            "grid_auto_columns": null,
            "margin": null,
            "display": null,
            "left": null
          }
        },
        "76d8160de2cb4266b9e4aa3a843ad47d": {
          "model_module": "@jupyter-widgets/controls",
          "model_name": "FloatProgressModel",
          "state": {
            "_view_name": "ProgressView",
            "style": "IPY_MODEL_3673eb3b861f483988dc219e62b713a5",
            "_dom_classes": [],
            "description": "Downloading: 100%",
            "_model_name": "FloatProgressModel",
            "bar_style": "success",
            "max": 28,
            "_view_module": "@jupyter-widgets/controls",
            "_model_module_version": "1.5.0",
            "value": 28,
            "_view_count": null,
            "_view_module_version": "1.5.0",
            "orientation": "horizontal",
            "min": 0,
            "description_tooltip": null,
            "_model_module": "@jupyter-widgets/controls",
            "layout": "IPY_MODEL_f4ef57fddce841e2b144531ab0366679"
          }
        },
        "1ff379b194f54bf78c4290c560db7975": {
          "model_module": "@jupyter-widgets/controls",
          "model_name": "HTMLModel",
          "state": {
            "_view_name": "HTMLView",
            "style": "IPY_MODEL_412ea12794cb45bdbbac94e67a30f7d4",
            "_dom_classes": [],
            "description": "",
            "_model_name": "HTMLModel",
            "placeholder": "​",
            "_view_module": "@jupyter-widgets/controls",
            "_model_module_version": "1.5.0",
            "value": " 28.0/28.0 [00:09&lt;00:00, 3.05B/s]",
            "_view_count": null,
            "_view_module_version": "1.5.0",
            "description_tooltip": null,
            "_model_module": "@jupyter-widgets/controls",
            "layout": "IPY_MODEL_b29979dbb67549209c428b5955e59e88"
          }
        },
        "3673eb3b861f483988dc219e62b713a5": {
          "model_module": "@jupyter-widgets/controls",
          "model_name": "ProgressStyleModel",
          "state": {
            "_view_name": "StyleView",
            "_model_name": "ProgressStyleModel",
            "description_width": "initial",
            "_view_module": "@jupyter-widgets/base",
            "_model_module_version": "1.5.0",
            "_view_count": null,
            "_view_module_version": "1.2.0",
            "bar_color": null,
            "_model_module": "@jupyter-widgets/controls"
          }
        },
        "f4ef57fddce841e2b144531ab0366679": {
          "model_module": "@jupyter-widgets/base",
          "model_name": "LayoutModel",
          "state": {
            "_view_name": "LayoutView",
            "grid_template_rows": null,
            "right": null,
            "justify_content": null,
            "_view_module": "@jupyter-widgets/base",
            "overflow": null,
            "_model_module_version": "1.2.0",
            "_view_count": null,
            "flex_flow": null,
            "width": null,
            "min_width": null,
            "border": null,
            "align_items": null,
            "bottom": null,
            "_model_module": "@jupyter-widgets/base",
            "top": null,
            "grid_column": null,
            "overflow_y": null,
            "overflow_x": null,
            "grid_auto_flow": null,
            "grid_area": null,
            "grid_template_columns": null,
            "flex": null,
            "_model_name": "LayoutModel",
            "justify_items": null,
            "grid_row": null,
            "max_height": null,
            "align_content": null,
            "visibility": null,
            "align_self": null,
            "height": null,
            "min_height": null,
            "padding": null,
            "grid_auto_rows": null,
            "grid_gap": null,
            "max_width": null,
            "order": null,
            "_view_module_version": "1.2.0",
            "grid_template_areas": null,
            "object_position": null,
            "object_fit": null,
            "grid_auto_columns": null,
            "margin": null,
            "display": null,
            "left": null
          }
        },
        "412ea12794cb45bdbbac94e67a30f7d4": {
          "model_module": "@jupyter-widgets/controls",
          "model_name": "DescriptionStyleModel",
          "state": {
            "_view_name": "StyleView",
            "_model_name": "DescriptionStyleModel",
            "description_width": "",
            "_view_module": "@jupyter-widgets/base",
            "_model_module_version": "1.5.0",
            "_view_count": null,
            "_view_module_version": "1.2.0",
            "_model_module": "@jupyter-widgets/controls"
          }
        },
        "b29979dbb67549209c428b5955e59e88": {
          "model_module": "@jupyter-widgets/base",
          "model_name": "LayoutModel",
          "state": {
            "_view_name": "LayoutView",
            "grid_template_rows": null,
            "right": null,
            "justify_content": null,
            "_view_module": "@jupyter-widgets/base",
            "overflow": null,
            "_model_module_version": "1.2.0",
            "_view_count": null,
            "flex_flow": null,
            "width": null,
            "min_width": null,
            "border": null,
            "align_items": null,
            "bottom": null,
            "_model_module": "@jupyter-widgets/base",
            "top": null,
            "grid_column": null,
            "overflow_y": null,
            "overflow_x": null,
            "grid_auto_flow": null,
            "grid_area": null,
            "grid_template_columns": null,
            "flex": null,
            "_model_name": "LayoutModel",
            "justify_items": null,
            "grid_row": null,
            "max_height": null,
            "align_content": null,
            "visibility": null,
            "align_self": null,
            "height": null,
            "min_height": null,
            "padding": null,
            "grid_auto_rows": null,
            "grid_gap": null,
            "max_width": null,
            "order": null,
            "_view_module_version": "1.2.0",
            "grid_template_areas": null,
            "object_position": null,
            "object_fit": null,
            "grid_auto_columns": null,
            "margin": null,
            "display": null,
            "left": null
          }
        },
        "f3a4123452c74458bdffe1c65407bf34": {
          "model_module": "@jupyter-widgets/controls",
          "model_name": "HBoxModel",
          "state": {
            "_view_name": "HBoxView",
            "_dom_classes": [],
            "_model_name": "HBoxModel",
            "_view_module": "@jupyter-widgets/controls",
            "_model_module_version": "1.5.0",
            "_view_count": null,
            "_view_module_version": "1.5.0",
            "box_style": "",
            "layout": "IPY_MODEL_320f2f0024984ee49209934b13d49110",
            "_model_module": "@jupyter-widgets/controls",
            "children": [
              "IPY_MODEL_e997ec34009d4379be67ac7c57102dc6",
              "IPY_MODEL_0ccd24a9cd34422a904824ab04e38f41"
            ]
          }
        },
        "320f2f0024984ee49209934b13d49110": {
          "model_module": "@jupyter-widgets/base",
          "model_name": "LayoutModel",
          "state": {
            "_view_name": "LayoutView",
            "grid_template_rows": null,
            "right": null,
            "justify_content": null,
            "_view_module": "@jupyter-widgets/base",
            "overflow": null,
            "_model_module_version": "1.2.0",
            "_view_count": null,
            "flex_flow": null,
            "width": null,
            "min_width": null,
            "border": null,
            "align_items": null,
            "bottom": null,
            "_model_module": "@jupyter-widgets/base",
            "top": null,
            "grid_column": null,
            "overflow_y": null,
            "overflow_x": null,
            "grid_auto_flow": null,
            "grid_area": null,
            "grid_template_columns": null,
            "flex": null,
            "_model_name": "LayoutModel",
            "justify_items": null,
            "grid_row": null,
            "max_height": null,
            "align_content": null,
            "visibility": null,
            "align_self": null,
            "height": null,
            "min_height": null,
            "padding": null,
            "grid_auto_rows": null,
            "grid_gap": null,
            "max_width": null,
            "order": null,
            "_view_module_version": "1.2.0",
            "grid_template_areas": null,
            "object_position": null,
            "object_fit": null,
            "grid_auto_columns": null,
            "margin": null,
            "display": null,
            "left": null
          }
        },
        "e997ec34009d4379be67ac7c57102dc6": {
          "model_module": "@jupyter-widgets/controls",
          "model_name": "FloatProgressModel",
          "state": {
            "_view_name": "ProgressView",
            "style": "IPY_MODEL_0af2b6e40cf5414e81c2f0c2ff4ada11",
            "_dom_classes": [],
            "description": "Downloading: 100%",
            "_model_name": "FloatProgressModel",
            "bar_style": "success",
            "max": 440473133,
            "_view_module": "@jupyter-widgets/controls",
            "_model_module_version": "1.5.0",
            "value": 440473133,
            "_view_count": null,
            "_view_module_version": "1.5.0",
            "orientation": "horizontal",
            "min": 0,
            "description_tooltip": null,
            "_model_module": "@jupyter-widgets/controls",
            "layout": "IPY_MODEL_6061fe13cf1f459dbc3a207f98199b4b"
          }
        },
        "0ccd24a9cd34422a904824ab04e38f41": {
          "model_module": "@jupyter-widgets/controls",
          "model_name": "HTMLModel",
          "state": {
            "_view_name": "HTMLView",
            "style": "IPY_MODEL_b2094d5efbfd4feb807ec85490d5c66e",
            "_dom_classes": [],
            "description": "",
            "_model_name": "HTMLModel",
            "placeholder": "​",
            "_view_module": "@jupyter-widgets/controls",
            "_model_module_version": "1.5.0",
            "value": " 440M/440M [00:50&lt;00:00, 8.67MB/s]",
            "_view_count": null,
            "_view_module_version": "1.5.0",
            "description_tooltip": null,
            "_model_module": "@jupyter-widgets/controls",
            "layout": "IPY_MODEL_a6bd94498c0f4a1b8dcda450d2fb5520"
          }
        },
        "0af2b6e40cf5414e81c2f0c2ff4ada11": {
          "model_module": "@jupyter-widgets/controls",
          "model_name": "ProgressStyleModel",
          "state": {
            "_view_name": "StyleView",
            "_model_name": "ProgressStyleModel",
            "description_width": "initial",
            "_view_module": "@jupyter-widgets/base",
            "_model_module_version": "1.5.0",
            "_view_count": null,
            "_view_module_version": "1.2.0",
            "bar_color": null,
            "_model_module": "@jupyter-widgets/controls"
          }
        },
        "6061fe13cf1f459dbc3a207f98199b4b": {
          "model_module": "@jupyter-widgets/base",
          "model_name": "LayoutModel",
          "state": {
            "_view_name": "LayoutView",
            "grid_template_rows": null,
            "right": null,
            "justify_content": null,
            "_view_module": "@jupyter-widgets/base",
            "overflow": null,
            "_model_module_version": "1.2.0",
            "_view_count": null,
            "flex_flow": null,
            "width": null,
            "min_width": null,
            "border": null,
            "align_items": null,
            "bottom": null,
            "_model_module": "@jupyter-widgets/base",
            "top": null,
            "grid_column": null,
            "overflow_y": null,
            "overflow_x": null,
            "grid_auto_flow": null,
            "grid_area": null,
            "grid_template_columns": null,
            "flex": null,
            "_model_name": "LayoutModel",
            "justify_items": null,
            "grid_row": null,
            "max_height": null,
            "align_content": null,
            "visibility": null,
            "align_self": null,
            "height": null,
            "min_height": null,
            "padding": null,
            "grid_auto_rows": null,
            "grid_gap": null,
            "max_width": null,
            "order": null,
            "_view_module_version": "1.2.0",
            "grid_template_areas": null,
            "object_position": null,
            "object_fit": null,
            "grid_auto_columns": null,
            "margin": null,
            "display": null,
            "left": null
          }
        },
        "b2094d5efbfd4feb807ec85490d5c66e": {
          "model_module": "@jupyter-widgets/controls",
          "model_name": "DescriptionStyleModel",
          "state": {
            "_view_name": "StyleView",
            "_model_name": "DescriptionStyleModel",
            "description_width": "",
            "_view_module": "@jupyter-widgets/base",
            "_model_module_version": "1.5.0",
            "_view_count": null,
            "_view_module_version": "1.2.0",
            "_model_module": "@jupyter-widgets/controls"
          }
        },
        "a6bd94498c0f4a1b8dcda450d2fb5520": {
          "model_module": "@jupyter-widgets/base",
          "model_name": "LayoutModel",
          "state": {
            "_view_name": "LayoutView",
            "grid_template_rows": null,
            "right": null,
            "justify_content": null,
            "_view_module": "@jupyter-widgets/base",
            "overflow": null,
            "_model_module_version": "1.2.0",
            "_view_count": null,
            "flex_flow": null,
            "width": null,
            "min_width": null,
            "border": null,
            "align_items": null,
            "bottom": null,
            "_model_module": "@jupyter-widgets/base",
            "top": null,
            "grid_column": null,
            "overflow_y": null,
            "overflow_x": null,
            "grid_auto_flow": null,
            "grid_area": null,
            "grid_template_columns": null,
            "flex": null,
            "_model_name": "LayoutModel",
            "justify_items": null,
            "grid_row": null,
            "max_height": null,
            "align_content": null,
            "visibility": null,
            "align_self": null,
            "height": null,
            "min_height": null,
            "padding": null,
            "grid_auto_rows": null,
            "grid_gap": null,
            "max_width": null,
            "order": null,
            "_view_module_version": "1.2.0",
            "grid_template_areas": null,
            "object_position": null,
            "object_fit": null,
            "grid_auto_columns": null,
            "margin": null,
            "display": null,
            "left": null
          }
        }
      }
    }
  },
  "cells": [
    {
      "cell_type": "markdown",
      "metadata": {
        "id": "Mb9GXkRdKwHR"
      },
      "source": [
        "**COVID-19 vaccines : how do we feel about it ?**\n",
        "\n",
        "*Eliza Ghiorghita - Romain Lesauvage*\n",
        "\n",
        "---\n",
        "\n"
      ]
    },
    {
      "cell_type": "markdown",
      "metadata": {
        "id": "FBab2vp7K0lg"
      },
      "source": [
        "# Preparation"
      ]
    },
    {
      "cell_type": "code",
      "metadata": {
        "id": "0jPB71INhy1y"
      },
      "source": [
        "# Packages import\n",
        "import numpy as np\n",
        "import pandas as pd\n",
        "import re\n",
        "from tqdm import tqdm\n",
        "import nltk\n",
        "from gensim.models.phrases import Phrases, Phraser\n",
        "from sklearn.model_selection import train_test_split\n",
        "from nltk.tokenize import TreebankWordTokenizer, TweetTokenizer\n",
        "from functools import reduce\n",
        "from operator import add\n",
        "import pdb\n",
        "import plotly.express as px"
      ],
      "execution_count": null,
      "outputs": []
    },
    {
      "cell_type": "code",
      "metadata": {
        "colab": {
          "base_uri": "https://localhost:8080/"
        },
        "id": "FMOj2WH3a0fk",
        "outputId": "6cdd6acd-7d67-486b-e42e-5234ff1ae42b"
      },
      "source": [
        "# Google drive to export/import csv\n",
        "from google.colab import drive\n",
        "drive.mount('/content/drive')"
      ],
      "execution_count": null,
      "outputs": [
        {
          "output_type": "stream",
          "text": [
            "Drive already mounted at /content/drive; to attempt to forcibly remount, call drive.mount(\"/content/drive\", force_remount=True).\n"
          ],
          "name": "stdout"
        }
      ]
    },
    {
      "cell_type": "code",
      "metadata": {
        "colab": {
          "base_uri": "https://localhost:8080/"
        },
        "id": "8LO2g04AiohB",
        "outputId": "a5c1e943-d0c5-4a8c-edf2-5681076abfa6"
      },
      "source": [
        "# Datasets recuperation : one to train the model and one with the effective tweets\n",
        "!wget https://dazzling-payne-62d225.netlify.app/data/tweet_dataset.csv\n",
        "!wget https://dazzling-payne-62d225.netlify.app/data/vaccination_all_tweets.csv"
      ],
      "execution_count": null,
      "outputs": [
        {
          "output_type": "stream",
          "text": [
            "--2021-04-17 19:20:16--  https://dazzling-payne-62d225.netlify.app/data/tweet_dataset.csv\n",
            "Resolving dazzling-payne-62d225.netlify.app (dazzling-payne-62d225.netlify.app)... 138.68.50.15, 184.72.37.151, 2604:a880:2:d0::212a:f001, ...\n",
            "Connecting to dazzling-payne-62d225.netlify.app (dazzling-payne-62d225.netlify.app)|138.68.50.15|:443... connected.\n",
            "HTTP request sent, awaiting response... 200 OK\n",
            "Length: 8729178 (8.3M) [text/csv]\n",
            "Saving to: ‘tweet_dataset.csv’\n",
            "\n",
            "tweet_dataset.csv   100%[===================>]   8.32M  1.53MB/s    in 5.5s    \n",
            "\n",
            "2021-04-17 19:20:22 (1.51 MB/s) - ‘tweet_dataset.csv’ saved [8729178/8729178]\n",
            "\n",
            "--2021-04-17 19:20:22--  https://dazzling-payne-62d225.netlify.app/data/vaccination_all_tweets.csv\n",
            "Resolving dazzling-payne-62d225.netlify.app (dazzling-payne-62d225.netlify.app)... 138.197.214.0, 50.18.120.10, 2604:a880:2:d0::212a:f001, ...\n",
            "Connecting to dazzling-payne-62d225.netlify.app (dazzling-payne-62d225.netlify.app)|138.197.214.0|:443... connected.\n",
            "HTTP request sent, awaiting response... 200 OK\n",
            "Length: 16043553 (15M) [text/csv]\n",
            "Saving to: ‘vaccination_all_tweets.csv.1’\n",
            "\n",
            "vaccination_all_twe 100%[===================>]  15.30M  1.52MB/s    in 10s     \n",
            "\n",
            "2021-04-17 19:20:33 (1.51 MB/s) - ‘vaccination_all_tweets.csv.1’ saved [16043553/16043553]\n",
            "\n"
          ],
          "name": "stdout"
        }
      ]
    },
    {
      "cell_type": "code",
      "metadata": {
        "colab": {
          "base_uri": "https://localhost:8080/"
        },
        "id": "lXuNiIWIhy1-",
        "outputId": "6fb317cb-b8ac-42bf-c3e9-850759c7788d"
      },
      "source": [
        "nltk.download('punkt')\n",
        "sent_detector = nltk.data.load('tokenizers/punkt/english.pickle')"
      ],
      "execution_count": null,
      "outputs": [
        {
          "output_type": "stream",
          "text": [
            "[nltk_data] Downloading package punkt to /root/nltk_data...\n",
            "[nltk_data]   Unzipping tokenizers/punkt.zip.\n"
          ],
          "name": "stdout"
        }
      ]
    },
    {
      "cell_type": "markdown",
      "metadata": {
        "id": "IYTHeg11LLte"
      },
      "source": [
        "## Data loading"
      ]
    },
    {
      "cell_type": "code",
      "metadata": {
        "colab": {
          "base_uri": "https://localhost:8080/",
          "height": 513
        },
        "id": "5Wa4UnKshy2B",
        "outputId": "5265b630-9433-4628-ff40-64c18f847f6b"
      },
      "source": [
        "vax_tweets = pd.read_csv(\"vaccination_all_tweets.csv\")\n",
        "vax_tweets.head()"
      ],
      "execution_count": null,
      "outputs": [
        {
          "output_type": "execute_result",
          "data": {
            "text/html": [
              "<div>\n",
              "<style scoped>\n",
              "    .dataframe tbody tr th:only-of-type {\n",
              "        vertical-align: middle;\n",
              "    }\n",
              "\n",
              "    .dataframe tbody tr th {\n",
              "        vertical-align: top;\n",
              "    }\n",
              "\n",
              "    .dataframe thead th {\n",
              "        text-align: right;\n",
              "    }\n",
              "</style>\n",
              "<table border=\"1\" class=\"dataframe\">\n",
              "  <thead>\n",
              "    <tr style=\"text-align: right;\">\n",
              "      <th></th>\n",
              "      <th>id</th>\n",
              "      <th>user_name</th>\n",
              "      <th>user_location</th>\n",
              "      <th>user_description</th>\n",
              "      <th>user_created</th>\n",
              "      <th>user_followers</th>\n",
              "      <th>user_friends</th>\n",
              "      <th>user_favourites</th>\n",
              "      <th>user_verified</th>\n",
              "      <th>date</th>\n",
              "      <th>text</th>\n",
              "      <th>hashtags</th>\n",
              "      <th>source</th>\n",
              "      <th>retweets</th>\n",
              "      <th>favorites</th>\n",
              "      <th>is_retweet</th>\n",
              "    </tr>\n",
              "  </thead>\n",
              "  <tbody>\n",
              "    <tr>\n",
              "      <th>0</th>\n",
              "      <td>1340539111971516416</td>\n",
              "      <td>Rachel Roh</td>\n",
              "      <td>La Crescenta-Montrose, CA</td>\n",
              "      <td>Aggregator of Asian American news; scanning di...</td>\n",
              "      <td>2009-04-08 17:52:46</td>\n",
              "      <td>405</td>\n",
              "      <td>1692</td>\n",
              "      <td>3247</td>\n",
              "      <td>False</td>\n",
              "      <td>2020-12-20 06:06:44</td>\n",
              "      <td>Same folks said daikon paste could treat a cyt...</td>\n",
              "      <td>['PfizerBioNTech']</td>\n",
              "      <td>Twitter for Android</td>\n",
              "      <td>0</td>\n",
              "      <td>0</td>\n",
              "      <td>False</td>\n",
              "    </tr>\n",
              "    <tr>\n",
              "      <th>1</th>\n",
              "      <td>1338158543359250433</td>\n",
              "      <td>Albert Fong</td>\n",
              "      <td>San Francisco, CA</td>\n",
              "      <td>Marketing dude, tech geek, heavy metal &amp; '80s ...</td>\n",
              "      <td>2009-09-21 15:27:30</td>\n",
              "      <td>834</td>\n",
              "      <td>666</td>\n",
              "      <td>178</td>\n",
              "      <td>False</td>\n",
              "      <td>2020-12-13 16:27:13</td>\n",
              "      <td>While the world has been on the wrong side of ...</td>\n",
              "      <td>NaN</td>\n",
              "      <td>Twitter Web App</td>\n",
              "      <td>1</td>\n",
              "      <td>1</td>\n",
              "      <td>False</td>\n",
              "    </tr>\n",
              "    <tr>\n",
              "      <th>2</th>\n",
              "      <td>1337858199140118533</td>\n",
              "      <td>eli🇱🇹🇪🇺👌</td>\n",
              "      <td>Your Bed</td>\n",
              "      <td>heil, hydra 🖐☺</td>\n",
              "      <td>2020-06-25 23:30:28</td>\n",
              "      <td>10</td>\n",
              "      <td>88</td>\n",
              "      <td>155</td>\n",
              "      <td>False</td>\n",
              "      <td>2020-12-12 20:33:45</td>\n",
              "      <td>#coronavirus #SputnikV #AstraZeneca #PfizerBio...</td>\n",
              "      <td>['coronavirus', 'SputnikV', 'AstraZeneca', 'Pf...</td>\n",
              "      <td>Twitter for Android</td>\n",
              "      <td>0</td>\n",
              "      <td>0</td>\n",
              "      <td>False</td>\n",
              "    </tr>\n",
              "    <tr>\n",
              "      <th>3</th>\n",
              "      <td>1337855739918835717</td>\n",
              "      <td>Charles Adler</td>\n",
              "      <td>Vancouver, BC - Canada</td>\n",
              "      <td>Hosting \"CharlesAdlerTonight\" Global News Radi...</td>\n",
              "      <td>2008-09-10 11:28:53</td>\n",
              "      <td>49165</td>\n",
              "      <td>3933</td>\n",
              "      <td>21853</td>\n",
              "      <td>True</td>\n",
              "      <td>2020-12-12 20:23:59</td>\n",
              "      <td>Facts are immutable, Senator, even when you're...</td>\n",
              "      <td>NaN</td>\n",
              "      <td>Twitter Web App</td>\n",
              "      <td>446</td>\n",
              "      <td>2129</td>\n",
              "      <td>False</td>\n",
              "    </tr>\n",
              "    <tr>\n",
              "      <th>4</th>\n",
              "      <td>1337854064604966912</td>\n",
              "      <td>Citizen News Channel</td>\n",
              "      <td>NaN</td>\n",
              "      <td>Citizen News Channel bringing you an alternati...</td>\n",
              "      <td>2020-04-23 17:58:42</td>\n",
              "      <td>152</td>\n",
              "      <td>580</td>\n",
              "      <td>1473</td>\n",
              "      <td>False</td>\n",
              "      <td>2020-12-12 20:17:19</td>\n",
              "      <td>Explain to me again why we need a vaccine @Bor...</td>\n",
              "      <td>['whereareallthesickpeople', 'PfizerBioNTech']</td>\n",
              "      <td>Twitter for iPhone</td>\n",
              "      <td>0</td>\n",
              "      <td>0</td>\n",
              "      <td>False</td>\n",
              "    </tr>\n",
              "  </tbody>\n",
              "</table>\n",
              "</div>"
            ],
            "text/plain": [
              "                    id             user_name  ... favorites is_retweet\n",
              "0  1340539111971516416            Rachel Roh  ...         0      False\n",
              "1  1338158543359250433           Albert Fong  ...         1      False\n",
              "2  1337858199140118533              eli🇱🇹🇪🇺👌  ...         0      False\n",
              "3  1337855739918835717         Charles Adler  ...      2129      False\n",
              "4  1337854064604966912  Citizen News Channel  ...         0      False\n",
              "\n",
              "[5 rows x 16 columns]"
            ]
          },
          "metadata": {
            "tags": []
          },
          "execution_count": 11
        }
      ]
    },
    {
      "cell_type": "code",
      "metadata": {
        "colab": {
          "base_uri": "https://localhost:8080/"
        },
        "id": "hRQamn7K4FPD",
        "outputId": "d5682845-40c7-487d-eb25-7cda7a857c39"
      },
      "source": [
        "vax_tweets.shape"
      ],
      "execution_count": null,
      "outputs": [
        {
          "output_type": "execute_result",
          "data": {
            "text/plain": [
              "(39720, 16)"
            ]
          },
          "metadata": {
            "tags": []
          },
          "execution_count": 12
        }
      ]
    },
    {
      "cell_type": "code",
      "metadata": {
        "colab": {
          "base_uri": "https://localhost:8080/",
          "height": 221
        },
        "id": "bQ-rLpDshy2C",
        "outputId": "1a34198f-c57b-4abc-e9fe-1c0ce6fa412b"
      },
      "source": [
        "tweets = pd.read_csv(\"tweet_dataset.csv\")\n",
        "tweets.head()"
      ],
      "execution_count": null,
      "outputs": [
        {
          "output_type": "execute_result",
          "data": {
            "text/html": [
              "<div>\n",
              "<style scoped>\n",
              "    .dataframe tbody tr th:only-of-type {\n",
              "        vertical-align: middle;\n",
              "    }\n",
              "\n",
              "    .dataframe tbody tr th {\n",
              "        vertical-align: top;\n",
              "    }\n",
              "\n",
              "    .dataframe thead th {\n",
              "        text-align: right;\n",
              "    }\n",
              "</style>\n",
              "<table border=\"1\" class=\"dataframe\">\n",
              "  <thead>\n",
              "    <tr style=\"text-align: right;\">\n",
              "      <th></th>\n",
              "      <th>textID</th>\n",
              "      <th>sentiment</th>\n",
              "      <th>author</th>\n",
              "      <th>text</th>\n",
              "      <th>old_text</th>\n",
              "      <th>aux_id</th>\n",
              "      <th>new_sentiment</th>\n",
              "      <th>selected_text</th>\n",
              "    </tr>\n",
              "  </thead>\n",
              "  <tbody>\n",
              "    <tr>\n",
              "      <th>0</th>\n",
              "      <td>1956967341</td>\n",
              "      <td>empty</td>\n",
              "      <td>xoshayzers</td>\n",
              "      <td>i know  i was listenin to bad habit earlier a...</td>\n",
              "      <td>@tiffanylue i know  i was listenin to bad habi...</td>\n",
              "      <td>p1000000000</td>\n",
              "      <td>NaN</td>\n",
              "      <td>NaN</td>\n",
              "    </tr>\n",
              "    <tr>\n",
              "      <th>1</th>\n",
              "      <td>1956967666</td>\n",
              "      <td>sadness</td>\n",
              "      <td>wannamama</td>\n",
              "      <td>Layin n bed with a headache  ughhhh...waitin o...</td>\n",
              "      <td>Layin n bed with a headache  ughhhh...waitin o...</td>\n",
              "      <td>c811396dc2</td>\n",
              "      <td>negative</td>\n",
              "      <td>headache</td>\n",
              "    </tr>\n",
              "    <tr>\n",
              "      <th>2</th>\n",
              "      <td>1956967696</td>\n",
              "      <td>sadness</td>\n",
              "      <td>coolfunky</td>\n",
              "      <td>Funeral ceremony...gloomy friday...</td>\n",
              "      <td>Funeral ceremony...gloomy friday...</td>\n",
              "      <td>9063631ab1</td>\n",
              "      <td>negative</td>\n",
              "      <td>gloomy</td>\n",
              "    </tr>\n",
              "    <tr>\n",
              "      <th>3</th>\n",
              "      <td>1956967789</td>\n",
              "      <td>enthusiasm</td>\n",
              "      <td>czareaquino</td>\n",
              "      <td>wants to hang out with friends SOON!</td>\n",
              "      <td>wants to hang out with friends SOON!</td>\n",
              "      <td>2a815f151d</td>\n",
              "      <td>positive</td>\n",
              "      <td>wants to hang out with friends SOON!</td>\n",
              "    </tr>\n",
              "    <tr>\n",
              "      <th>4</th>\n",
              "      <td>1956968416</td>\n",
              "      <td>neutral</td>\n",
              "      <td>xkilljoyx</td>\n",
              "      <td>We want to trade with someone who has Houston...</td>\n",
              "      <td>@dannycastillo We want to trade with someone w...</td>\n",
              "      <td>82565a56d3</td>\n",
              "      <td>neutral</td>\n",
              "      <td>We want to trade with someone who has Houston ...</td>\n",
              "    </tr>\n",
              "  </tbody>\n",
              "</table>\n",
              "</div>"
            ],
            "text/plain": [
              "       textID  ...                                      selected_text\n",
              "0  1956967341  ...                                                NaN\n",
              "1  1956967666  ...                                           headache\n",
              "2  1956967696  ...                                             gloomy\n",
              "3  1956967789  ...               wants to hang out with friends SOON!\n",
              "4  1956968416  ...  We want to trade with someone who has Houston ...\n",
              "\n",
              "[5 rows x 8 columns]"
            ]
          },
          "metadata": {
            "tags": []
          },
          "execution_count": 13
        }
      ]
    },
    {
      "cell_type": "code",
      "metadata": {
        "id": "4z0eWORWhy2D"
      },
      "source": [
        "tweets = tweets[['old_text', 'new_sentiment']].rename(columns={'old_text':'text', 'new_sentiment':'sentiment'})"
      ],
      "execution_count": null,
      "outputs": []
    },
    {
      "cell_type": "code",
      "metadata": {
        "colab": {
          "base_uri": "https://localhost:8080/"
        },
        "id": "9dRoF6dRhy2G",
        "outputId": "df24c4d6-4380-4bed-ce16-1a4f4943a981"
      },
      "source": [
        "df_sent = tweets.dropna(subset=['sentiment'])\n",
        "df_sent = df_sent[df_sent['sentiment']!='neutral']\n",
        "print(len(df_sent))"
      ],
      "execution_count": null,
      "outputs": [
        {
          "output_type": "stream",
          "text": [
            "18727\n"
          ],
          "name": "stdout"
        }
      ]
    },
    {
      "cell_type": "code",
      "metadata": {
        "colab": {
          "base_uri": "https://localhost:8080/",
          "height": 204
        },
        "id": "3jmLlZwrfAuU",
        "outputId": "c9922f14-e10c-4447-c60c-c5e3bd12b9a8"
      },
      "source": [
        "df_sent[:5]"
      ],
      "execution_count": null,
      "outputs": [
        {
          "output_type": "execute_result",
          "data": {
            "text/html": [
              "<div>\n",
              "<style scoped>\n",
              "    .dataframe tbody tr th:only-of-type {\n",
              "        vertical-align: middle;\n",
              "    }\n",
              "\n",
              "    .dataframe tbody tr th {\n",
              "        vertical-align: top;\n",
              "    }\n",
              "\n",
              "    .dataframe thead th {\n",
              "        text-align: right;\n",
              "    }\n",
              "</style>\n",
              "<table border=\"1\" class=\"dataframe\">\n",
              "  <thead>\n",
              "    <tr style=\"text-align: right;\">\n",
              "      <th></th>\n",
              "      <th>text</th>\n",
              "      <th>sentiment</th>\n",
              "    </tr>\n",
              "  </thead>\n",
              "  <tbody>\n",
              "    <tr>\n",
              "      <th>1</th>\n",
              "      <td>Layin n bed with a headache  ughhhh...waitin o...</td>\n",
              "      <td>negative</td>\n",
              "    </tr>\n",
              "    <tr>\n",
              "      <th>2</th>\n",
              "      <td>Funeral ceremony...gloomy friday...</td>\n",
              "      <td>negative</td>\n",
              "    </tr>\n",
              "    <tr>\n",
              "      <th>3</th>\n",
              "      <td>wants to hang out with friends SOON!</td>\n",
              "      <td>positive</td>\n",
              "    </tr>\n",
              "    <tr>\n",
              "      <th>5</th>\n",
              "      <td>Re-pinging @ghostridah14: why didn't you go to...</td>\n",
              "      <td>negative</td>\n",
              "    </tr>\n",
              "    <tr>\n",
              "      <th>7</th>\n",
              "      <td>Hmmm. http://www.djhero.com/ is down</td>\n",
              "      <td>negative</td>\n",
              "    </tr>\n",
              "  </tbody>\n",
              "</table>\n",
              "</div>"
            ],
            "text/plain": [
              "                                                text sentiment\n",
              "1  Layin n bed with a headache  ughhhh...waitin o...  negative\n",
              "2                Funeral ceremony...gloomy friday...  negative\n",
              "3               wants to hang out with friends SOON!  positive\n",
              "5  Re-pinging @ghostridah14: why didn't you go to...  negative\n",
              "7               Hmmm. http://www.djhero.com/ is down  negative"
            ]
          },
          "metadata": {
            "tags": []
          },
          "execution_count": 16
        }
      ]
    },
    {
      "cell_type": "markdown",
      "metadata": {
        "id": "BL9N2Vo0LW5F"
      },
      "source": [
        "## Model preparation"
      ]
    },
    {
      "cell_type": "code",
      "metadata": {
        "id": "TWMCEMdboqDg"
      },
      "source": [
        "# we decide to modelise the sentiment by a dummy variable (0 or 1)\n",
        "liste = [1 if sentiment==\"positive\" else 0 for sentiment in list(df_sent['sentiment'])]"
      ],
      "execution_count": null,
      "outputs": []
    },
    {
      "cell_type": "code",
      "metadata": {
        "colab": {
          "base_uri": "https://localhost:8080/",
          "height": 204
        },
        "id": "8mzETrxIo7ly",
        "outputId": "930e40f6-dea9-4de4-c1c0-47691912adae"
      },
      "source": [
        "df_sent[\"sentiment_num\"] = liste\n",
        "df_sent[:5]"
      ],
      "execution_count": null,
      "outputs": [
        {
          "output_type": "execute_result",
          "data": {
            "text/html": [
              "<div>\n",
              "<style scoped>\n",
              "    .dataframe tbody tr th:only-of-type {\n",
              "        vertical-align: middle;\n",
              "    }\n",
              "\n",
              "    .dataframe tbody tr th {\n",
              "        vertical-align: top;\n",
              "    }\n",
              "\n",
              "    .dataframe thead th {\n",
              "        text-align: right;\n",
              "    }\n",
              "</style>\n",
              "<table border=\"1\" class=\"dataframe\">\n",
              "  <thead>\n",
              "    <tr style=\"text-align: right;\">\n",
              "      <th></th>\n",
              "      <th>text</th>\n",
              "      <th>sentiment</th>\n",
              "      <th>sentiment_num</th>\n",
              "    </tr>\n",
              "  </thead>\n",
              "  <tbody>\n",
              "    <tr>\n",
              "      <th>1</th>\n",
              "      <td>Layin n bed with a headache  ughhhh...waitin o...</td>\n",
              "      <td>negative</td>\n",
              "      <td>0</td>\n",
              "    </tr>\n",
              "    <tr>\n",
              "      <th>2</th>\n",
              "      <td>Funeral ceremony...gloomy friday...</td>\n",
              "      <td>negative</td>\n",
              "      <td>0</td>\n",
              "    </tr>\n",
              "    <tr>\n",
              "      <th>3</th>\n",
              "      <td>wants to hang out with friends SOON!</td>\n",
              "      <td>positive</td>\n",
              "      <td>1</td>\n",
              "    </tr>\n",
              "    <tr>\n",
              "      <th>5</th>\n",
              "      <td>Re-pinging @ghostridah14: why didn't you go to...</td>\n",
              "      <td>negative</td>\n",
              "      <td>0</td>\n",
              "    </tr>\n",
              "    <tr>\n",
              "      <th>7</th>\n",
              "      <td>Hmmm. http://www.djhero.com/ is down</td>\n",
              "      <td>negative</td>\n",
              "      <td>0</td>\n",
              "    </tr>\n",
              "  </tbody>\n",
              "</table>\n",
              "</div>"
            ],
            "text/plain": [
              "                                                text sentiment  sentiment_num\n",
              "1  Layin n bed with a headache  ughhhh...waitin o...  negative              0\n",
              "2                Funeral ceremony...gloomy friday...  negative              0\n",
              "3               wants to hang out with friends SOON!  positive              1\n",
              "5  Re-pinging @ghostridah14: why didn't you go to...  negative              0\n",
              "7               Hmmm. http://www.djhero.com/ is down  negative              0"
            ]
          },
          "metadata": {
            "tags": []
          },
          "execution_count": 18
        }
      ]
    },
    {
      "cell_type": "code",
      "metadata": {
        "id": "1e6jWfQUnt5V"
      },
      "source": [
        "# we split the dataset into one train dataset and one test dataset\n",
        "train, test = train_test_split(df_sent, test_size = 0.2,random_state=123)"
      ],
      "execution_count": null,
      "outputs": []
    },
    {
      "cell_type": "code",
      "metadata": {
        "colab": {
          "base_uri": "https://localhost:8080/",
          "height": 204
        },
        "id": "iip8MOu57J2z",
        "outputId": "1555c3ae-68af-4ca2-dc36-835c632b0028"
      },
      "source": [
        "train = train.reset_index()\n",
        "test = test.reset_index()\n",
        "test[:5]"
      ],
      "execution_count": null,
      "outputs": [
        {
          "output_type": "execute_result",
          "data": {
            "text/html": [
              "<div>\n",
              "<style scoped>\n",
              "    .dataframe tbody tr th:only-of-type {\n",
              "        vertical-align: middle;\n",
              "    }\n",
              "\n",
              "    .dataframe tbody tr th {\n",
              "        vertical-align: top;\n",
              "    }\n",
              "\n",
              "    .dataframe thead th {\n",
              "        text-align: right;\n",
              "    }\n",
              "</style>\n",
              "<table border=\"1\" class=\"dataframe\">\n",
              "  <thead>\n",
              "    <tr style=\"text-align: right;\">\n",
              "      <th></th>\n",
              "      <th>index</th>\n",
              "      <th>text</th>\n",
              "      <th>sentiment</th>\n",
              "      <th>sentiment_num</th>\n",
              "    </tr>\n",
              "  </thead>\n",
              "  <tbody>\n",
              "    <tr>\n",
              "      <th>0</th>\n",
              "      <td>2467</td>\n",
              "      <td>Hate be late</td>\n",
              "      <td>negative</td>\n",
              "      <td>0</td>\n",
              "    </tr>\n",
              "    <tr>\n",
              "      <th>1</th>\n",
              "      <td>26758</td>\n",
              "      <td>My phone works! Its whack. Well good morning. ...</td>\n",
              "      <td>positive</td>\n",
              "      <td>1</td>\n",
              "    </tr>\n",
              "    <tr>\n",
              "      <th>2</th>\n",
              "      <td>25151</td>\n",
              "      <td>@gjr02 I can't work out if you're into diesel ...</td>\n",
              "      <td>negative</td>\n",
              "      <td>0</td>\n",
              "    </tr>\n",
              "    <tr>\n",
              "      <th>3</th>\n",
              "      <td>34283</td>\n",
              "      <td>Just wanted to say, positivity is doin me good...</td>\n",
              "      <td>positive</td>\n",
              "      <td>1</td>\n",
              "    </tr>\n",
              "    <tr>\n",
              "      <th>4</th>\n",
              "      <td>141</td>\n",
              "      <td>@softtouchme just answered you- never learned ...</td>\n",
              "      <td>negative</td>\n",
              "      <td>0</td>\n",
              "    </tr>\n",
              "  </tbody>\n",
              "</table>\n",
              "</div>"
            ],
            "text/plain": [
              "   index  ... sentiment_num\n",
              "0   2467  ...             0\n",
              "1  26758  ...             1\n",
              "2  25151  ...             0\n",
              "3  34283  ...             1\n",
              "4    141  ...             0\n",
              "\n",
              "[5 rows x 4 columns]"
            ]
          },
          "metadata": {
            "tags": []
          },
          "execution_count": 20
        }
      ]
    },
    {
      "cell_type": "markdown",
      "metadata": {
        "id": "_gQh4yK8XkYf"
      },
      "source": [
        "# Baseline model"
      ]
    },
    {
      "cell_type": "markdown",
      "metadata": {
        "id": "Poy2kkN7LpOQ"
      },
      "source": [
        "We study here a first lexicon-based model : the sentiment $S$ of sentence is based on the sentiment of each word of the sentence ($\\alpha_i$) and we have then $S(t) = \\mathbb{1}\\{{\\frac{1}{n}\\sum\\limits_{i=1}^n \\alpha_i \\geq \\gamma}\\}$ where\n",
        "* $t$ is the tweet \n",
        "* $n$ is the number of words of the tweet\n",
        "* $\\alpha_i$ is the sentiment of the word $i$ calculated by counting the proportion of positive tweets in which the word is present."
      ]
    },
    {
      "cell_type": "markdown",
      "metadata": {
        "id": "woHRTLVYNrUR"
      },
      "source": [
        "## Corpus preprocessing"
      ]
    },
    {
      "cell_type": "code",
      "metadata": {
        "id": "XcRJHZcaYr-b"
      },
      "source": [
        "def remove_hashtags(tokens):\n",
        "    tokens = map(lambda x: x.replace('#', ''), tokens)\n",
        "    return list(tokens)\n",
        "\n",
        "def remove_url(tokens):\n",
        "    tokens = filter(lambda x: \"http\" not in x, tokens)\n",
        "    return list(tokens)\n",
        "\n",
        "def remove_html(tokens):\n",
        "    tokens = filter(lambda x: x[0]+x[-1] != '<>', tokens)\n",
        "    return list(tokens)\n",
        "\n",
        "def remove_emojis(tokens):\n",
        "    tokens = map(lambda x: x.encode('ascii', 'ignore').decode('ascii'), tokens)\n",
        "    return list(tokens)\n",
        "\n",
        "def remove_at(tokens):\n",
        "    tokens = map(lambda x: x.replace('@', ''), tokens)\n",
        "    return list(tokens)\n",
        "\n",
        "def tokenize_url_hashtags(corpus):\n",
        "    tokenizer = TweetTokenizer()\n",
        "    tokenized_sentences = []\n",
        "    for sample in tqdm(corpus):\n",
        "        tokens_tot = []\n",
        "        for sentence in sent_detector.tokenize(sample):\n",
        "            tokens = tokenizer.tokenize(sentence)\n",
        "            tokens = remove_url(tokens)\n",
        "            tokens = remove_html(tokens)\n",
        "            tokens = remove_hashtags(tokens)\n",
        "            tokens = remove_emojis(tokens)\n",
        "            tokens = remove_at(tokens)\n",
        "            tokens = list(map(lambda x: x.lower(), tokens))\n",
        "            tokens_tot+=tokens\n",
        "        tokenized_sentences.append(tokens_tot)\n",
        "    return tokenized_sentences"
      ],
      "execution_count": null,
      "outputs": []
    },
    {
      "cell_type": "code",
      "metadata": {
        "colab": {
          "base_uri": "https://localhost:8080/",
          "height": 238
        },
        "id": "uRmOQb02Y7FS",
        "outputId": "0556d663-14b6-48b3-bf4c-cb63845d4199"
      },
      "source": [
        "train[\"tokens\"] = tokenize_url_hashtags(train['text'])\n",
        "test[\"tokens\"] = tokenize_url_hashtags(test['text'])\n",
        "train[:5]"
      ],
      "execution_count": null,
      "outputs": [
        {
          "output_type": "stream",
          "text": [
            "100%|██████████| 14981/14981 [00:01<00:00, 9343.19it/s]\n",
            "100%|██████████| 3746/3746 [00:00<00:00, 9009.70it/s]\n"
          ],
          "name": "stderr"
        },
        {
          "output_type": "execute_result",
          "data": {
            "text/html": [
              "<div>\n",
              "<style scoped>\n",
              "    .dataframe tbody tr th:only-of-type {\n",
              "        vertical-align: middle;\n",
              "    }\n",
              "\n",
              "    .dataframe tbody tr th {\n",
              "        vertical-align: top;\n",
              "    }\n",
              "\n",
              "    .dataframe thead th {\n",
              "        text-align: right;\n",
              "    }\n",
              "</style>\n",
              "<table border=\"1\" class=\"dataframe\">\n",
              "  <thead>\n",
              "    <tr style=\"text-align: right;\">\n",
              "      <th></th>\n",
              "      <th>index</th>\n",
              "      <th>text</th>\n",
              "      <th>sentiment</th>\n",
              "      <th>sentiment_num</th>\n",
              "      <th>tokens</th>\n",
              "    </tr>\n",
              "  </thead>\n",
              "  <tbody>\n",
              "    <tr>\n",
              "      <th>0</th>\n",
              "      <td>33550</td>\n",
              "      <td>Woo CAVS.  Happy Mother's Day!</td>\n",
              "      <td>positive</td>\n",
              "      <td>1</td>\n",
              "      <td>[woo, cavs, ., happy, mother's, day, !]</td>\n",
              "    </tr>\n",
              "    <tr>\n",
              "      <th>1</th>\n",
              "      <td>5763</td>\n",
              "      <td>@GatorsNow my feelings are hurt</td>\n",
              "      <td>negative</td>\n",
              "      <td>0</td>\n",
              "      <td>[gatorsnow, my, feelings, are, hurt]</td>\n",
              "    </tr>\n",
              "    <tr>\n",
              "      <th>2</th>\n",
              "      <td>8823</td>\n",
              "      <td>i want so bad to go to the mcfly's concert  an...</td>\n",
              "      <td>positive</td>\n",
              "      <td>1</td>\n",
              "      <td>[i, want, so, bad, to, go, to, the, mcfly's, c...</td>\n",
              "    </tr>\n",
              "    <tr>\n",
              "      <th>3</th>\n",
              "      <td>20611</td>\n",
              "      <td>Monday morning bathing - soooo relaxing! If I ...</td>\n",
              "      <td>positive</td>\n",
              "      <td>1</td>\n",
              "      <td>[monday, morning, bathing, -, soooo, relaxing,...</td>\n",
              "    </tr>\n",
              "    <tr>\n",
              "      <th>4</th>\n",
              "      <td>33683</td>\n",
              "      <td>@AmyPredsfan Oops..too late.  Already popped i...</td>\n",
              "      <td>negative</td>\n",
              "      <td>0</td>\n",
              "      <td>[amypredsfan, oops, .., too, late, ., already,...</td>\n",
              "    </tr>\n",
              "  </tbody>\n",
              "</table>\n",
              "</div>"
            ],
            "text/plain": [
              "   index  ...                                             tokens\n",
              "0  33550  ...            [woo, cavs, ., happy, mother's, day, !]\n",
              "1   5763  ...               [gatorsnow, my, feelings, are, hurt]\n",
              "2   8823  ...  [i, want, so, bad, to, go, to, the, mcfly's, c...\n",
              "3  20611  ...  [monday, morning, bathing, -, soooo, relaxing,...\n",
              "4  33683  ...  [amypredsfan, oops, .., too, late, ., already,...\n",
              "\n",
              "[5 rows x 5 columns]"
            ]
          },
          "metadata": {
            "tags": []
          },
          "execution_count": 22
        }
      ]
    },
    {
      "cell_type": "code",
      "metadata": {
        "colab": {
          "base_uri": "https://localhost:8080/"
        },
        "id": "TQQkmf7Bc7_e",
        "outputId": "0666f73d-27d7-4d13-ae94-e22a87016e12"
      },
      "source": [
        "words = [word for phrase in train['tokens'] for word in phrase]\n",
        "print(words[:5])\n",
        "vocabulary = list(dict.fromkeys(words))\n",
        "index_mot = {index: w for (index, w) in enumerate(vocabulary)}\n",
        "mot_index = {w: index for (index, w) in enumerate(vocabulary)}\n",
        "print(\"Nombre de mots :\", len(words))\n",
        "print(\"Taille du vocabulaire :\", len(vocabulary))"
      ],
      "execution_count": null,
      "outputs": [
        {
          "output_type": "stream",
          "text": [
            "['woo', 'cavs', '.', 'happy', \"mother's\"]\n",
            "Nombre de mots : 234923\n",
            "Taille du vocabulaire : 23811\n"
          ],
          "name": "stdout"
        }
      ]
    },
    {
      "cell_type": "markdown",
      "metadata": {
        "id": "drIWzQBaNt8N"
      },
      "source": [
        "## Sentiment matrix"
      ]
    },
    {
      "cell_type": "code",
      "metadata": {
        "id": "gQ-SDsUidTSO"
      },
      "source": [
        "def sentiment_plus(mot, matrice_sentiments):\n",
        "    plus, moins = matrice_sentiments[mot]\n",
        "    matrice_sentiments[mot] = (plus+1,moins)\n",
        "    \n",
        "def sentiment_moins(mot, matrice_sentiments):\n",
        "    plus, moins = matrice_sentiments[mot]\n",
        "    matrice_sentiments[mot] = (plus,moins+1)\n",
        "\n",
        "# les sentiments des mots appartient à 0 1. \n",
        "def mat_sentiments(corpus, vocabulaire):   \n",
        "    #Initialisation\n",
        "    matrice_sent = {mot:(0,0) for mot in vocabulaire}\n",
        "    for index, row in corpus.iterrows():\n",
        "        tweet = row['tokens']\n",
        "        score = row['sentiment_num']\n",
        "        for mot in tweet:\n",
        "            if score == 1:\n",
        "                sentiment_plus(mot, matrice_sent)\n",
        "            else:\n",
        "                sentiment_moins(mot,matrice_sent)\n",
        "    matrice_sentiments_val = {mot:(matrice_sent[mot][0])/((matrice_sent[mot][0]+matrice_sent[mot][1]))\n",
        "                          for mot in vocabulaire}\n",
        "    return matrice_sentiments_val"
      ],
      "execution_count": null,
      "outputs": []
    },
    {
      "cell_type": "code",
      "metadata": {
        "id": "1svcCPM-eMEN"
      },
      "source": [
        "matrice_sent = mat_sentiments(train[['sentiment_num','tokens']],vocabulary)"
      ],
      "execution_count": null,
      "outputs": []
    },
    {
      "cell_type": "code",
      "metadata": {
        "colab": {
          "base_uri": "https://localhost:8080/"
        },
        "id": "sRQpTLrMetC7",
        "outputId": "51fb18a4-5ce4-489f-f7c1-fd32b0fccf9a"
      },
      "source": [
        "# We check the coherence of the results\n",
        "print(matrice_sent['good'])\n",
        "print(matrice_sent['bad'])\n",
        "print(matrice_sent['.'])"
      ],
      "execution_count": null,
      "outputs": [
        {
          "output_type": "stream",
          "text": [
            "0.8446937014667817\n",
            "0.13099041533546327\n",
            "0.49115530071977553\n"
          ],
          "name": "stdout"
        }
      ]
    },
    {
      "cell_type": "markdown",
      "metadata": {
        "id": "hWhdKzUpMptT"
      },
      "source": [
        "The word \"good\" has a sentiment of 0.84 whereas \"bad\"'s sentiment is 0.13. It \n",
        "seems normal.\n",
        "\n",
        "We check that neutral symbol such as \".\" have a sentiment around 0.5 : it is the case."
      ]
    },
    {
      "cell_type": "markdown",
      "metadata": {
        "id": "cPx61p27Nz3V"
      },
      "source": [
        "## Sentiment score"
      ]
    },
    {
      "cell_type": "code",
      "metadata": {
        "id": "3thEV2Q4fhoM"
      },
      "source": [
        "# The sentiment score of the sentence is the mean of the words sentiment \n",
        "def sentiments_phrase(phrase,matrice_sentiments):\n",
        "    somme = 0\n",
        "    n = 0\n",
        "    for mot in phrase:\n",
        "        if mot in matrice_sentiments.keys():\n",
        "            somme += matrice_sentiments[mot]\n",
        "        n += 1\n",
        "    if(n!=0):\n",
        "        return(somme/n)\n",
        "    else:\n",
        "        return 0"
      ],
      "execution_count": null,
      "outputs": []
    },
    {
      "cell_type": "code",
      "metadata": {
        "id": "_Y_MGXiWflTb"
      },
      "source": [
        "for index, val in train.iterrows():\n",
        "  phrase = val['tokens']\n",
        "  score = sentiments_phrase(phrase,matrice_sent)\n",
        "  train.loc[index,\"pred\"] = [1 if score >=0.5 else 0]"
      ],
      "execution_count": null,
      "outputs": []
    },
    {
      "cell_type": "code",
      "metadata": {
        "colab": {
          "base_uri": "https://localhost:8080/",
          "height": 204
        },
        "id": "xfoFRuMjf7BB",
        "outputId": "08f28b29-f273-42f7-e98c-ca8a44a2e558"
      },
      "source": [
        "train[:5]"
      ],
      "execution_count": null,
      "outputs": [
        {
          "output_type": "execute_result",
          "data": {
            "text/html": [
              "<div>\n",
              "<style scoped>\n",
              "    .dataframe tbody tr th:only-of-type {\n",
              "        vertical-align: middle;\n",
              "    }\n",
              "\n",
              "    .dataframe tbody tr th {\n",
              "        vertical-align: top;\n",
              "    }\n",
              "\n",
              "    .dataframe thead th {\n",
              "        text-align: right;\n",
              "    }\n",
              "</style>\n",
              "<table border=\"1\" class=\"dataframe\">\n",
              "  <thead>\n",
              "    <tr style=\"text-align: right;\">\n",
              "      <th></th>\n",
              "      <th>index</th>\n",
              "      <th>text</th>\n",
              "      <th>sentiment</th>\n",
              "      <th>sentiment_num</th>\n",
              "      <th>tokens</th>\n",
              "      <th>pred</th>\n",
              "    </tr>\n",
              "  </thead>\n",
              "  <tbody>\n",
              "    <tr>\n",
              "      <th>0</th>\n",
              "      <td>33550</td>\n",
              "      <td>Woo CAVS.  Happy Mother's Day!</td>\n",
              "      <td>positive</td>\n",
              "      <td>1</td>\n",
              "      <td>[woo, cavs, ., happy, mother's, day, !]</td>\n",
              "      <td>1.0</td>\n",
              "    </tr>\n",
              "    <tr>\n",
              "      <th>1</th>\n",
              "      <td>5763</td>\n",
              "      <td>@GatorsNow my feelings are hurt</td>\n",
              "      <td>negative</td>\n",
              "      <td>0</td>\n",
              "      <td>[gatorsnow, my, feelings, are, hurt]</td>\n",
              "      <td>0.0</td>\n",
              "    </tr>\n",
              "    <tr>\n",
              "      <th>2</th>\n",
              "      <td>8823</td>\n",
              "      <td>i want so bad to go to the mcfly's concert  an...</td>\n",
              "      <td>positive</td>\n",
              "      <td>1</td>\n",
              "      <td>[i, want, so, bad, to, go, to, the, mcfly's, c...</td>\n",
              "      <td>0.0</td>\n",
              "    </tr>\n",
              "    <tr>\n",
              "      <th>3</th>\n",
              "      <td>20611</td>\n",
              "      <td>Monday morning bathing - soooo relaxing! If I ...</td>\n",
              "      <td>positive</td>\n",
              "      <td>1</td>\n",
              "      <td>[monday, morning, bathing, -, soooo, relaxing,...</td>\n",
              "      <td>1.0</td>\n",
              "    </tr>\n",
              "    <tr>\n",
              "      <th>4</th>\n",
              "      <td>33683</td>\n",
              "      <td>@AmyPredsfan Oops..too late.  Already popped i...</td>\n",
              "      <td>negative</td>\n",
              "      <td>0</td>\n",
              "      <td>[amypredsfan, oops, .., too, late, ., already,...</td>\n",
              "      <td>0.0</td>\n",
              "    </tr>\n",
              "  </tbody>\n",
              "</table>\n",
              "</div>"
            ],
            "text/plain": [
              "   index  ... pred\n",
              "0  33550  ...  1.0\n",
              "1   5763  ...  0.0\n",
              "2   8823  ...  0.0\n",
              "3  20611  ...  1.0\n",
              "4  33683  ...  0.0\n",
              "\n",
              "[5 rows x 6 columns]"
            ]
          },
          "metadata": {
            "tags": []
          },
          "execution_count": 29
        }
      ]
    },
    {
      "cell_type": "code",
      "metadata": {
        "id": "2IEVCy-5gPNN"
      },
      "source": [
        "for index, val in test.iterrows():\n",
        "  phrase = val['tokens']\n",
        "  score = sentiments_phrase(phrase,matrice_sent)\n",
        "  test.loc[index,\"pred\"] = [1 if score >=0.5 else 0]"
      ],
      "execution_count": null,
      "outputs": []
    },
    {
      "cell_type": "code",
      "metadata": {
        "colab": {
          "base_uri": "https://localhost:8080/",
          "height": 204
        },
        "id": "eVTpDABJgVPp",
        "outputId": "4d23ffda-4ce2-4629-df61-a58cff1274c7"
      },
      "source": [
        "test[:5]"
      ],
      "execution_count": null,
      "outputs": [
        {
          "output_type": "execute_result",
          "data": {
            "text/html": [
              "<div>\n",
              "<style scoped>\n",
              "    .dataframe tbody tr th:only-of-type {\n",
              "        vertical-align: middle;\n",
              "    }\n",
              "\n",
              "    .dataframe tbody tr th {\n",
              "        vertical-align: top;\n",
              "    }\n",
              "\n",
              "    .dataframe thead th {\n",
              "        text-align: right;\n",
              "    }\n",
              "</style>\n",
              "<table border=\"1\" class=\"dataframe\">\n",
              "  <thead>\n",
              "    <tr style=\"text-align: right;\">\n",
              "      <th></th>\n",
              "      <th>index</th>\n",
              "      <th>text</th>\n",
              "      <th>sentiment</th>\n",
              "      <th>sentiment_num</th>\n",
              "      <th>tokens</th>\n",
              "      <th>pred</th>\n",
              "    </tr>\n",
              "  </thead>\n",
              "  <tbody>\n",
              "    <tr>\n",
              "      <th>0</th>\n",
              "      <td>2467</td>\n",
              "      <td>Hate be late</td>\n",
              "      <td>negative</td>\n",
              "      <td>0</td>\n",
              "      <td>[hate, be, late]</td>\n",
              "      <td>0.0</td>\n",
              "    </tr>\n",
              "    <tr>\n",
              "      <th>1</th>\n",
              "      <td>26758</td>\n",
              "      <td>My phone works! Its whack. Well good morning. ...</td>\n",
              "      <td>positive</td>\n",
              "      <td>1</td>\n",
              "      <td>[my, phone, works, !, its, whack, ., well, goo...</td>\n",
              "      <td>1.0</td>\n",
              "    </tr>\n",
              "    <tr>\n",
              "      <th>2</th>\n",
              "      <td>25151</td>\n",
              "      <td>@gjr02 I can't work out if you're into diesel ...</td>\n",
              "      <td>negative</td>\n",
              "      <td>0</td>\n",
              "      <td>[gjr02, i, can't, work, out, if, you're, into,...</td>\n",
              "      <td>0.0</td>\n",
              "    </tr>\n",
              "    <tr>\n",
              "      <th>3</th>\n",
              "      <td>34283</td>\n",
              "      <td>Just wanted to say, positivity is doin me good...</td>\n",
              "      <td>positive</td>\n",
              "      <td>1</td>\n",
              "      <td>[just, wanted, to, say, ,, positivity, is, doi...</td>\n",
              "      <td>1.0</td>\n",
              "    </tr>\n",
              "    <tr>\n",
              "      <th>4</th>\n",
              "      <td>141</td>\n",
              "      <td>@softtouchme just answered you- never learned ...</td>\n",
              "      <td>negative</td>\n",
              "      <td>0</td>\n",
              "      <td>[softtouchme, just, answered, you, -, never, l...</td>\n",
              "      <td>1.0</td>\n",
              "    </tr>\n",
              "  </tbody>\n",
              "</table>\n",
              "</div>"
            ],
            "text/plain": [
              "   index  ... pred\n",
              "0   2467  ...  0.0\n",
              "1  26758  ...  1.0\n",
              "2  25151  ...  0.0\n",
              "3  34283  ...  1.0\n",
              "4    141  ...  1.0\n",
              "\n",
              "[5 rows x 6 columns]"
            ]
          },
          "metadata": {
            "tags": []
          },
          "execution_count": 31
        }
      ]
    },
    {
      "cell_type": "code",
      "metadata": {
        "colab": {
          "base_uri": "https://localhost:8080/"
        },
        "id": "IhcCTmjfgZNM",
        "outputId": "7b08315d-8d99-484a-aa5b-3245be144603"
      },
      "source": [
        "tp = 0\n",
        "fp = 0\n",
        "for index, val in test.iterrows():\n",
        "  sent = val[\"sentiment_num\"]\n",
        "  pred = val[\"pred\"]\n",
        "  if sent == 1:\n",
        "    if pred == 1:\n",
        "      tp += 1\n",
        "    else:\n",
        "      fp += 1\n",
        "print(tp/(tp+fp)) # precision"
      ],
      "execution_count": null,
      "outputs": [
        {
          "output_type": "stream",
          "text": [
            "0.6629944917376064\n"
          ],
          "name": "stdout"
        }
      ]
    },
    {
      "cell_type": "code",
      "metadata": {
        "colab": {
          "base_uri": "https://localhost:8080/"
        },
        "id": "lRGgIrcut9x2",
        "outputId": "4de1cbbd-50ec-46f6-9110-536eaea5f0f7"
      },
      "source": [
        "isTrue = 0\n",
        "tot = 0\n",
        "for index, val in test.iterrows():\n",
        "  sent = val[\"sentiment_num\"]\n",
        "  pred = val[\"pred\"]\n",
        "  tot += 1\n",
        "  if sent == pred:\n",
        "    isTrue += 1\n",
        "print(isTrue/(tot)) # accuracy"
      ],
      "execution_count": null,
      "outputs": [
        {
          "output_type": "stream",
          "text": [
            "0.7722904431393487\n"
          ],
          "name": "stdout"
        }
      ]
    },
    {
      "cell_type": "markdown",
      "metadata": {
        "id": "qlNzwpttM41m"
      },
      "source": [
        "We obtain a precision of 66% and an accuracy of 77%, these are our thresholds we hope to improve with our model."
      ]
    },
    {
      "cell_type": "markdown",
      "metadata": {
        "id": "rW-wx85LXiZo"
      },
      "source": [
        "# BERT model"
      ]
    },
    {
      "cell_type": "code",
      "metadata": {
        "colab": {
          "base_uri": "https://localhost:8080/"
        },
        "id": "CGMt6d5EjrHy",
        "outputId": "0adb4227-feb3-4a37-b92c-58fcb854b647"
      },
      "source": [
        "!pip install transformers"
      ],
      "execution_count": null,
      "outputs": [
        {
          "output_type": "stream",
          "text": [
            "Collecting transformers\n",
            "\u001b[?25l  Downloading https://files.pythonhosted.org/packages/d8/b2/57495b5309f09fa501866e225c84532d1fd89536ea62406b2181933fb418/transformers-4.5.1-py3-none-any.whl (2.1MB)\n",
            "\u001b[K     |████████████████████████████████| 2.1MB 7.1MB/s \n",
            "\u001b[?25hCollecting tokenizers<0.11,>=0.10.1\n",
            "\u001b[?25l  Downloading https://files.pythonhosted.org/packages/ae/04/5b870f26a858552025a62f1649c20d29d2672c02ff3c3fb4c688ca46467a/tokenizers-0.10.2-cp37-cp37m-manylinux2010_x86_64.whl (3.3MB)\n",
            "\u001b[K     |████████████████████████████████| 3.3MB 34.4MB/s \n",
            "\u001b[?25hRequirement already satisfied: filelock in /usr/local/lib/python3.7/dist-packages (from transformers) (3.0.12)\n",
            "Requirement already satisfied: tqdm>=4.27 in /usr/local/lib/python3.7/dist-packages (from transformers) (4.41.1)\n",
            "Requirement already satisfied: regex!=2019.12.17 in /usr/local/lib/python3.7/dist-packages (from transformers) (2019.12.20)\n",
            "Requirement already satisfied: packaging in /usr/local/lib/python3.7/dist-packages (from transformers) (20.9)\n",
            "Collecting sacremoses\n",
            "\u001b[?25l  Downloading https://files.pythonhosted.org/packages/08/cd/342e584ee544d044fb573ae697404ce22ede086c9e87ce5960772084cad0/sacremoses-0.0.44.tar.gz (862kB)\n",
            "\u001b[K     |████████████████████████████████| 870kB 50.2MB/s \n",
            "\u001b[?25hRequirement already satisfied: numpy>=1.17 in /usr/local/lib/python3.7/dist-packages (from transformers) (1.19.5)\n",
            "Requirement already satisfied: requests in /usr/local/lib/python3.7/dist-packages (from transformers) (2.23.0)\n",
            "Requirement already satisfied: importlib-metadata; python_version < \"3.8\" in /usr/local/lib/python3.7/dist-packages (from transformers) (3.10.1)\n",
            "Requirement already satisfied: pyparsing>=2.0.2 in /usr/local/lib/python3.7/dist-packages (from packaging->transformers) (2.4.7)\n",
            "Requirement already satisfied: six in /usr/local/lib/python3.7/dist-packages (from sacremoses->transformers) (1.15.0)\n",
            "Requirement already satisfied: click in /usr/local/lib/python3.7/dist-packages (from sacremoses->transformers) (7.1.2)\n",
            "Requirement already satisfied: joblib in /usr/local/lib/python3.7/dist-packages (from sacremoses->transformers) (1.0.1)\n",
            "Requirement already satisfied: idna<3,>=2.5 in /usr/local/lib/python3.7/dist-packages (from requests->transformers) (2.10)\n",
            "Requirement already satisfied: chardet<4,>=3.0.2 in /usr/local/lib/python3.7/dist-packages (from requests->transformers) (3.0.4)\n",
            "Requirement already satisfied: certifi>=2017.4.17 in /usr/local/lib/python3.7/dist-packages (from requests->transformers) (2020.12.5)\n",
            "Requirement already satisfied: urllib3!=1.25.0,!=1.25.1,<1.26,>=1.21.1 in /usr/local/lib/python3.7/dist-packages (from requests->transformers) (1.24.3)\n",
            "Requirement already satisfied: typing-extensions>=3.6.4; python_version < \"3.8\" in /usr/local/lib/python3.7/dist-packages (from importlib-metadata; python_version < \"3.8\"->transformers) (3.7.4.3)\n",
            "Requirement already satisfied: zipp>=0.5 in /usr/local/lib/python3.7/dist-packages (from importlib-metadata; python_version < \"3.8\"->transformers) (3.4.1)\n",
            "Building wheels for collected packages: sacremoses\n",
            "  Building wheel for sacremoses (setup.py) ... \u001b[?25l\u001b[?25hdone\n",
            "  Created wheel for sacremoses: filename=sacremoses-0.0.44-cp37-none-any.whl size=886084 sha256=696b13de583a20db93616454a9c97ed19f06a6c850ea537fd362a918ad19dda2\n",
            "  Stored in directory: /root/.cache/pip/wheels/3e/fb/c0/13ab4d63d537658f448366744654323077c4d90069b6512f3c\n",
            "Successfully built sacremoses\n",
            "Installing collected packages: tokenizers, sacremoses, transformers\n",
            "Successfully installed sacremoses-0.0.44 tokenizers-0.10.2 transformers-4.5.1\n"
          ],
          "name": "stdout"
        }
      ]
    },
    {
      "cell_type": "markdown",
      "metadata": {
        "id": "bXG4eLhCN4fX"
      },
      "source": [
        "## Data preprocessing"
      ]
    },
    {
      "cell_type": "code",
      "metadata": {
        "id": "hSqPb7px36Wa"
      },
      "source": [
        "import torch\n",
        "import torch.nn as nn\n",
        "from transformers import BertTokenizer, AutoModel, AutoTokenizer\n",
        "import pandas as pd\n",
        "from torch.utils.data import DataLoader\n",
        "\n",
        "class VaccineDataset():\n",
        "\n",
        "    def __init__(self, datasetname, maxlen, model_name='bert-base-uncased'):\n",
        "\n",
        "        #Store the contents of the file in a pandas dataframe\n",
        "        self.dataset = datasetname\n",
        "\n",
        "        #Initialize the BERT tokenizer\n",
        "        self.tokenizer = AutoTokenizer.from_pretrained(model_name)\n",
        "\n",
        "        self.maxlen = maxlen\n",
        "\n",
        "    def __len__(self):\n",
        "        return len(self.dataset)\n",
        "\n",
        "    def __getitem__(self, index):\n",
        "\n",
        "        #Selecting the sentence and label at the specified index in the data frame\n",
        "        sentence = self.dataset.loc[index]['text']\n",
        "        label = self.dataset.loc[index]['sentiment_num']\n",
        "\n",
        "        #Preprocessing the text to be suitable for BERT\n",
        "        tokens = self.tokenizer.tokenize(sentence) #Tokenize the sentence\n",
        "        if self.tokenizer.cls_token is None:\n",
        "          bos_token = self.tokenizer.bos_token\n",
        "        else:\n",
        "          bos_token = self.tokenizer.cls_token\n",
        "          \n",
        "        if self.tokenizer.sep_token is None:\n",
        "          eos_token = self.tokenizer.eos_token\n",
        "        else:\n",
        "          eos_token = self.tokenizer.sep_token\n",
        "        \n",
        "        tokens = [bos_token] + tokens + [eos_token] #Insering the CLS and SEP token in the beginning and end of the sentence\n",
        "        if len(tokens) < self.maxlen:\n",
        "            tokens = tokens + [self.tokenizer.pad_token for _ in range(self.maxlen - len(tokens))] #Padding sentences\n",
        "        else:\n",
        "            tokens = tokens[:self.maxlen-1] + [eos_token] #Prunning the list to be of specified max length\n",
        "\n",
        "        tokens_ids = self.tokenizer.convert_tokens_to_ids(tokens) #Obtaining the indices of the tokens in the BERT Vocabulary\n",
        "        tokens_ids_tensor = torch.tensor(tokens_ids) #Converting the list to a pytorch tensor\n",
        "        #Obtaining the attention mask i.e a tensor containing 1s for no padded tokens and 0s for padded ones\n",
        "        attn_mask = (tokens_ids_tensor != 0).long()\n",
        "\n",
        "        return tokens_ids_tensor, attn_mask, label"
      ],
      "execution_count": null,
      "outputs": []
    },
    {
      "cell_type": "code",
      "metadata": {
        "id": "j282q06A4s6g",
        "colab": {
          "base_uri": "https://localhost:8080/",
          "height": 213,
          "referenced_widgets": [
            "b31d0eda76564ae8834b47c79cce9546",
            "c10c382329cb4142a87899757c71af03",
            "4752d301048d424096c6452837ef29dc",
            "b032838c5ff34157a42f3a6640395152",
            "cac7290cee864415bfd1e9ed1d89aa74",
            "8b785cb118e2421889659351ecf65e6a",
            "3cd061236de942e9a6ba5a5d06b33e2d",
            "d624fa36098044989db6e70e6c9c921d",
            "4a5f9f19f5bf4eba9e91efa6cbf190d4",
            "532d12e533494ffc8a643ecd996da5bd",
            "0cd58a2189d74d059ca63dbc973c9701",
            "3ca0fbbe645b4177bba2c0f4e7bc3664",
            "f56813f9312e4b51a73746ad9664767d",
            "e8d6d9d1a06d44679215d67f2c752ec2",
            "d9b8ddbc30ea4805807dcdb4050514b6",
            "8d1ab2a281bc4d68aede9dd4cdb88425",
            "5275f048376f4ad3b53a194b701a17a6",
            "99205ce3cddd458cb8f12df60a1f14fc",
            "2ce3c1afc8ea4a4dbd5d37b5ef103795",
            "7fa42ccf35234688ab5d2d2aa442e9de",
            "182f642d39c442c497bcf1db17625a4f",
            "f3a0f7afd3034b37904cf0307bd3b207",
            "d5e73789712047a7abe703a0a6d504cb",
            "17874940128a4fb492c849a6fe36ed99",
            "a70ce33dccaf406b8401a0676b0e1ec0",
            "79f4a952096b4d469e7aaec034a548d1",
            "76d8160de2cb4266b9e4aa3a843ad47d",
            "1ff379b194f54bf78c4290c560db7975",
            "3673eb3b861f483988dc219e62b713a5",
            "f4ef57fddce841e2b144531ab0366679",
            "412ea12794cb45bdbbac94e67a30f7d4",
            "b29979dbb67549209c428b5955e59e88"
          ]
        },
        "outputId": "07f481a9-de88-4146-c0c5-9a2df57a1faf"
      },
      "source": [
        "train_set = VaccineDataset(datasetname = train, maxlen = 30, model_name='bert-base-uncased')\n",
        "val_set = VaccineDataset(datasetname = test, maxlen = 30, model_name='bert-base-uncased')"
      ],
      "execution_count": null,
      "outputs": [
        {
          "output_type": "display_data",
          "data": {
            "application/vnd.jupyter.widget-view+json": {
              "model_id": "b31d0eda76564ae8834b47c79cce9546",
              "version_minor": 0,
              "version_major": 2
            },
            "text/plain": [
              "HBox(children=(FloatProgress(value=0.0, description='Downloading', max=433.0, style=ProgressStyle(description_…"
            ]
          },
          "metadata": {
            "tags": []
          }
        },
        {
          "output_type": "stream",
          "text": [
            "\n"
          ],
          "name": "stdout"
        },
        {
          "output_type": "display_data",
          "data": {
            "application/vnd.jupyter.widget-view+json": {
              "model_id": "4a5f9f19f5bf4eba9e91efa6cbf190d4",
              "version_minor": 0,
              "version_major": 2
            },
            "text/plain": [
              "HBox(children=(FloatProgress(value=0.0, description='Downloading', max=231508.0, style=ProgressStyle(descripti…"
            ]
          },
          "metadata": {
            "tags": []
          }
        },
        {
          "output_type": "stream",
          "text": [
            "\n"
          ],
          "name": "stdout"
        },
        {
          "output_type": "display_data",
          "data": {
            "application/vnd.jupyter.widget-view+json": {
              "model_id": "5275f048376f4ad3b53a194b701a17a6",
              "version_minor": 0,
              "version_major": 2
            },
            "text/plain": [
              "HBox(children=(FloatProgress(value=0.0, description='Downloading', max=466062.0, style=ProgressStyle(descripti…"
            ]
          },
          "metadata": {
            "tags": []
          }
        },
        {
          "output_type": "stream",
          "text": [
            "\n"
          ],
          "name": "stdout"
        },
        {
          "output_type": "display_data",
          "data": {
            "application/vnd.jupyter.widget-view+json": {
              "model_id": "a70ce33dccaf406b8401a0676b0e1ec0",
              "version_minor": 0,
              "version_major": 2
            },
            "text/plain": [
              "HBox(children=(FloatProgress(value=0.0, description='Downloading', max=28.0, style=ProgressStyle(description_w…"
            ]
          },
          "metadata": {
            "tags": []
          }
        },
        {
          "output_type": "stream",
          "text": [
            "\n"
          ],
          "name": "stdout"
        }
      ]
    },
    {
      "cell_type": "code",
      "metadata": {
        "colab": {
          "base_uri": "https://localhost:8080/"
        },
        "id": "5C86uABu5Ke1",
        "outputId": "33372776-735c-4cbb-98b4-7c367c4a6698"
      },
      "source": [
        "train_loader = DataLoader(train_set, batch_size = 12, num_workers = 5)\n",
        "val_loader = DataLoader(val_set, batch_size = 12, num_workers = 5)"
      ],
      "execution_count": null,
      "outputs": [
        {
          "output_type": "stream",
          "text": [
            "/usr/local/lib/python3.7/dist-packages/torch/utils/data/dataloader.py:477: UserWarning: This DataLoader will create 5 worker processes in total. Our suggested max number of worker in current system is 2, which is smaller than what this DataLoader is going to create. Please be aware that excessive worker creation might get DataLoader running slow or even freeze, lower the worker number to avoid potential slowness/freeze if necessary.\n",
            "  cpuset_checked))\n"
          ],
          "name": "stderr"
        }
      ]
    },
    {
      "cell_type": "code",
      "metadata": {
        "colab": {
          "base_uri": "https://localhost:8080/"
        },
        "id": "qKs5yY0r5OzB",
        "outputId": "580cb569-2ec1-440d-d970-50989538c795"
      },
      "source": [
        "# get the number of sentences\n",
        "print(val_set.__len__())\n",
        "# get  tokenized sentence indexed by 0 \n",
        "val_set.__getitem__(0)"
      ],
      "execution_count": null,
      "outputs": [
        {
          "output_type": "stream",
          "text": [
            "3746\n"
          ],
          "name": "stdout"
        },
        {
          "output_type": "execute_result",
          "data": {
            "text/plain": [
              "(tensor([ 101, 5223, 2022, 2397,  102,    0,    0,    0,    0,    0,    0,    0,\n",
              "            0,    0,    0,    0,    0,    0,    0,    0,    0,    0,    0,    0,\n",
              "            0,    0,    0,    0,    0,    0]),\n",
              " tensor([1, 1, 1, 1, 1, 0, 0, 0, 0, 0, 0, 0, 0, 0, 0, 0, 0, 0, 0, 0, 0, 0, 0, 0,\n",
              "         0, 0, 0, 0, 0, 0]),\n",
              " 0)"
            ]
          },
          "metadata": {
            "tags": []
          },
          "execution_count": 32
        }
      ]
    },
    {
      "cell_type": "code",
      "metadata": {
        "id": "YwlKb4Np59c1"
      },
      "source": [
        "class SentimentClassifier(nn.Module):\n",
        "\n",
        "    def __init__(self, pretrained_model_name='bert-base-uncased'):\n",
        "        super(SentimentClassifier, self).__init__()\n",
        "        \n",
        "        #Loading Mask Language Model \n",
        "        self.encoder = AutoModel.from_pretrained(pretrained_model_name)\n",
        "        #we append an extra layer for Classification (it will be randomly initialized)\n",
        "        self.cls_layer = nn.Linear(self.encoder.pooler.dense.out_features, 1)\n",
        "\n",
        "    def forward(self, seq, attn_masks):\n",
        "        '''\n",
        "        Inputs:\n",
        "            -seq : Tensor of shape [B, T] containing token ids of sequences\n",
        "            -attn_masks : Tensor of shape [B, T] containing attention masks to be used to avoid contibution of PAD tokens\n",
        "        '''\n",
        "\n",
        "        #Feeding the input to BERT model to obtain contextualized representations\n",
        "        # see in the hugging face doc what to input\n",
        "        #cont_reps = #  self.encoder(..)..\n",
        "        cont_reps = self.encoder(seq, attention_mask = attn_masks)\n",
        "        #Obtaining the representation of [CLS] head\n",
        "        pool = cont_reps[\"pooler_output\"]\n",
        "\n",
        "        #Feeding cls_rep to the classifier layer\n",
        "        logits = self.cls_layer(pool)\n",
        "\n",
        "        return logits\n"
      ],
      "execution_count": null,
      "outputs": []
    },
    {
      "cell_type": "code",
      "metadata": {
        "id": "Hd7Tc9sE6lp1",
        "colab": {
          "base_uri": "https://localhost:8080/",
          "height": 66,
          "referenced_widgets": [
            "f3a4123452c74458bdffe1c65407bf34",
            "320f2f0024984ee49209934b13d49110",
            "e997ec34009d4379be67ac7c57102dc6",
            "0ccd24a9cd34422a904824ab04e38f41",
            "0af2b6e40cf5414e81c2f0c2ff4ada11",
            "6061fe13cf1f459dbc3a207f98199b4b",
            "b2094d5efbfd4feb807ec85490d5c66e",
            "a6bd94498c0f4a1b8dcda450d2fb5520"
          ]
        },
        "outputId": "7a109e8d-8488-4754-fb3e-f75fa539383e"
      },
      "source": [
        "sentiment_model = SentimentClassifier('bert-base-uncased')\n",
        "sentiment_model = sentiment_model.to(\"cuda\")"
      ],
      "execution_count": null,
      "outputs": [
        {
          "output_type": "display_data",
          "data": {
            "application/vnd.jupyter.widget-view+json": {
              "model_id": "f3a4123452c74458bdffe1c65407bf34",
              "version_minor": 0,
              "version_major": 2
            },
            "text/plain": [
              "HBox(children=(FloatProgress(value=0.0, description='Downloading', max=440473133.0, style=ProgressStyle(descri…"
            ]
          },
          "metadata": {
            "tags": []
          }
        },
        {
          "output_type": "stream",
          "text": [
            "\n"
          ],
          "name": "stdout"
        }
      ]
    },
    {
      "cell_type": "markdown",
      "metadata": {
        "id": "EJjJGM6IN8FJ"
      },
      "source": [
        "## Finetuning of BERT model"
      ]
    },
    {
      "cell_type": "code",
      "metadata": {
        "id": "Q54V96Ny6rN2"
      },
      "source": [
        "import torch.nn as nn\n",
        "import torch.optim as optim\n",
        "# define the loss and optimizer \n",
        "criterion = nn.BCEWithLogitsLoss()\n",
        "opti = optim.Adam(sentiment_model.parameters(), lr = 1e-5)"
      ],
      "execution_count": null,
      "outputs": []
    },
    {
      "cell_type": "code",
      "metadata": {
        "id": "SdvZaQZq64iq"
      },
      "source": [
        "import pdb\n",
        "def train(model, criterion, opti, train_loader, val_loader, max_eps=1, gpu=False, print_every=1,validate_every=1, break_training_after=None):\n",
        "    if gpu:\n",
        "      model = model.to(\"cuda\")\n",
        "    for ep in range(max_eps):\n",
        "        \n",
        "        for it, (seq, attn_masks, labels) in enumerate(train_loader):\n",
        "            #Clear gradients\n",
        "            opti.zero_grad()  \n",
        "            #Converting these to cuda tensors\n",
        "            if gpu:\n",
        "              seq, attn_masks, labels = seq.cuda(), attn_masks.cuda(), labels.cuda()\n",
        "            #Obtaining the logits from the model\n",
        "            logits = model(seq, attn_masks)\n",
        "\n",
        "            #Computing loss\n",
        "            loss = criterion(logits.squeeze(-1), labels.float())\n",
        "            #Backpropagating the gradients\n",
        "            loss.backward()\n",
        "\n",
        "            #Optimization step\n",
        "            opti.step()\n",
        "            if (it + 1) % print_every == 0:\n",
        "                accuracy = torch.sum((logits>0).int().squeeze(1)==labels)/float(labels.size(0))\n",
        "                print(\"Iteration {} of epoch {} complete. Loss : {}, Accuracy {} \".format(it+1, ep+1, loss.item(),accuracy))\n",
        "            if break_training_after is not None and it>break_training_after:\n",
        "              print(\"Early breaking : did not cover a full epoch but only {} iteration \".format(it))\n",
        "              break\n",
        "        if ep % validate_every==0:\n",
        "          # evaluation on the validation set \n",
        "          n_batch_validation = 0\n",
        "          loss_validation = 0\n",
        "          accuracy_validation = 0\n",
        "          for it, (seq, attn_masks, labels) in enumerate(val_loader):            \n",
        "            if gpu:\n",
        "              seq, attn_masks, labels = seq.cuda(), attn_masks.cuda(), labels.cuda()\n",
        "            #Obtaining the logits from the model\n",
        "            logits_val = model(seq, attn_masks)\n",
        "            n_batch_validation+=1\n",
        "            #Computing loss\n",
        "           \n",
        "            _loss = float(criterion(logits_val.squeeze(-1), labels.float()))\n",
        "            _accu = float(torch.sum((logits_val>0).int().squeeze(1)==labels)/float(labels.size(0)))\n",
        "           \n",
        "            loss_validation += _loss\n",
        "            accuracy_validation += _accu\n",
        "          print(\"EVALUATION Validation set : mean loss {} n mean accuracy {}\".format(loss_validation/n_batch_validation, accuracy_validation/n_batch_validation))"
      ],
      "execution_count": null,
      "outputs": []
    },
    {
      "cell_type": "code",
      "metadata": {
        "colab": {
          "base_uri": "https://localhost:8080/"
        },
        "id": "6iBVXsiL692b",
        "outputId": "7f8273fb-266c-4af9-f320-57aeb68914a9"
      },
      "source": [
        "train(sentiment_model, criterion, opti, train_loader, val_loader, max_eps=5, print_every=100, gpu=True)"
      ],
      "execution_count": null,
      "outputs": [
        {
          "output_type": "stream",
          "text": [
            "/usr/local/lib/python3.7/dist-packages/torch/utils/data/dataloader.py:477: UserWarning: This DataLoader will create 5 worker processes in total. Our suggested max number of worker in current system is 2, which is smaller than what this DataLoader is going to create. Please be aware that excessive worker creation might get DataLoader running slow or even freeze, lower the worker number to avoid potential slowness/freeze if necessary.\n",
            "  cpuset_checked))\n"
          ],
          "name": "stderr"
        },
        {
          "output_type": "stream",
          "text": [
            "Iteration 100 of epoch 1 complete. Loss : 0.2080153226852417, Accuracy 1.0 \n",
            "Iteration 200 of epoch 1 complete. Loss : 0.1778271645307541, Accuracy 1.0 \n",
            "Iteration 300 of epoch 1 complete. Loss : 0.3820924162864685, Accuracy 0.8333333730697632 \n",
            "Iteration 400 of epoch 1 complete. Loss : 0.09157603979110718, Accuracy 1.0 \n",
            "Iteration 500 of epoch 1 complete. Loss : 0.22953712940216064, Accuracy 0.9166666865348816 \n",
            "Iteration 600 of epoch 1 complete. Loss : 0.04371460899710655, Accuracy 1.0 \n",
            "Iteration 700 of epoch 1 complete. Loss : 0.4175238013267517, Accuracy 0.9166666865348816 \n",
            "Iteration 800 of epoch 1 complete. Loss : 0.6179613471031189, Accuracy 0.8333333730697632 \n",
            "Iteration 900 of epoch 1 complete. Loss : 0.13197758793830872, Accuracy 0.9166666865348816 \n",
            "Iteration 1000 of epoch 1 complete. Loss : 0.23055855929851532, Accuracy 0.8333333730697632 \n",
            "Iteration 1100 of epoch 1 complete. Loss : 0.08737066388130188, Accuracy 0.9166666865348816 \n",
            "Iteration 1200 of epoch 1 complete. Loss : 0.013472280465066433, Accuracy 1.0 \n",
            "EVALUATION Validation set : mean loss 0.19577319157449677 n mean accuracy 0.9251863832671803\n",
            "Iteration 100 of epoch 2 complete. Loss : 0.13270024955272675, Accuracy 0.9166666865348816 \n",
            "Iteration 200 of epoch 2 complete. Loss : 0.07235771417617798, Accuracy 1.0 \n",
            "Iteration 300 of epoch 2 complete. Loss : 0.11957080662250519, Accuracy 0.9166666865348816 \n",
            "Iteration 400 of epoch 2 complete. Loss : 0.01764073222875595, Accuracy 1.0 \n",
            "Iteration 500 of epoch 2 complete. Loss : 0.1549416184425354, Accuracy 0.8333333730697632 \n",
            "Iteration 600 of epoch 2 complete. Loss : 0.009713481180369854, Accuracy 1.0 \n",
            "Iteration 700 of epoch 2 complete. Loss : 0.38870012760162354, Accuracy 0.9166666865348816 \n",
            "Iteration 800 of epoch 2 complete. Loss : 0.41115814447402954, Accuracy 0.8333333730697632 \n",
            "Iteration 900 of epoch 2 complete. Loss : 0.05246288329362869, Accuracy 1.0 \n",
            "Iteration 1000 of epoch 2 complete. Loss : 0.014859400689601898, Accuracy 1.0 \n",
            "Iteration 1100 of epoch 2 complete. Loss : 0.008023347705602646, Accuracy 1.0 \n",
            "Iteration 1200 of epoch 2 complete. Loss : 0.004273653496056795, Accuracy 1.0 \n",
            "EVALUATION Validation set : mean loss 0.26190270814812555 n mean accuracy 0.924121420223492\n",
            "Iteration 100 of epoch 3 complete. Loss : 0.005189263727515936, Accuracy 1.0 \n",
            "Iteration 200 of epoch 3 complete. Loss : 0.019391030073165894, Accuracy 1.0 \n",
            "Iteration 300 of epoch 3 complete. Loss : 0.010963957756757736, Accuracy 1.0 \n",
            "Iteration 400 of epoch 3 complete. Loss : 0.004296790808439255, Accuracy 1.0 \n",
            "Iteration 500 of epoch 3 complete. Loss : 0.012413579039275646, Accuracy 1.0 \n",
            "Iteration 600 of epoch 3 complete. Loss : 0.003783321473747492, Accuracy 1.0 \n",
            "Iteration 700 of epoch 3 complete. Loss : 0.18383586406707764, Accuracy 0.9166666865348816 \n",
            "Iteration 800 of epoch 3 complete. Loss : 0.052294597029685974, Accuracy 1.0 \n",
            "Iteration 900 of epoch 3 complete. Loss : 0.002457889961078763, Accuracy 1.0 \n",
            "Iteration 1000 of epoch 3 complete. Loss : 0.00133802299387753, Accuracy 1.0 \n",
            "Iteration 1100 of epoch 3 complete. Loss : 0.0015220835339277983, Accuracy 1.0 \n",
            "Iteration 1200 of epoch 3 complete. Loss : 0.0013137541245669127, Accuracy 1.0 \n",
            "EVALUATION Validation set : mean loss 0.28188790138156267 n mean accuracy 0.9179978846741942\n",
            "Iteration 100 of epoch 4 complete. Loss : 0.011262914165854454, Accuracy 1.0 \n",
            "Iteration 200 of epoch 4 complete. Loss : 0.009798943996429443, Accuracy 1.0 \n",
            "Iteration 300 of epoch 4 complete. Loss : 0.009831855073571205, Accuracy 1.0 \n",
            "Iteration 400 of epoch 4 complete. Loss : 0.01522958092391491, Accuracy 1.0 \n",
            "Iteration 500 of epoch 4 complete. Loss : 0.007609276100993156, Accuracy 1.0 \n",
            "Iteration 600 of epoch 4 complete. Loss : 0.0016777891432866454, Accuracy 1.0 \n",
            "Iteration 700 of epoch 4 complete. Loss : 0.26953256130218506, Accuracy 0.9166666865348816 \n",
            "Iteration 800 of epoch 4 complete. Loss : 0.013226989656686783, Accuracy 1.0 \n",
            "Iteration 900 of epoch 4 complete. Loss : 0.024135148152709007, Accuracy 1.0 \n",
            "Iteration 1000 of epoch 4 complete. Loss : 0.0009708128636702895, Accuracy 1.0 \n",
            "Iteration 1100 of epoch 4 complete. Loss : 0.0017279402818530798, Accuracy 1.0 \n",
            "Iteration 1200 of epoch 4 complete. Loss : 0.001318934140726924, Accuracy 1.0 \n",
            "EVALUATION Validation set : mean loss 0.3258670672187403 n mean accuracy 0.9230564577510944\n",
            "Iteration 100 of epoch 5 complete. Loss : 0.0028353072702884674, Accuracy 1.0 \n",
            "Iteration 200 of epoch 5 complete. Loss : 0.0023774346336722374, Accuracy 1.0 \n",
            "Iteration 300 of epoch 5 complete. Loss : 0.0012406720779836178, Accuracy 1.0 \n",
            "Iteration 400 of epoch 5 complete. Loss : 0.0011513270437717438, Accuracy 1.0 \n",
            "Iteration 500 of epoch 5 complete. Loss : 0.0074501633644104, Accuracy 1.0 \n",
            "Iteration 600 of epoch 5 complete. Loss : 0.0016235819784924388, Accuracy 1.0 \n",
            "Iteration 700 of epoch 5 complete. Loss : 0.0024083754979074, Accuracy 1.0 \n",
            "Iteration 800 of epoch 5 complete. Loss : 0.008530250750482082, Accuracy 1.0 \n",
            "Iteration 900 of epoch 5 complete. Loss : 0.0033928900957107544, Accuracy 1.0 \n",
            "Iteration 1000 of epoch 5 complete. Loss : 0.0007849711691960692, Accuracy 1.0 \n",
            "Iteration 1100 of epoch 5 complete. Loss : 0.0008483848068863153, Accuracy 1.0 \n",
            "Iteration 1200 of epoch 5 complete. Loss : 0.0009055719710886478, Accuracy 1.0 \n",
            "EVALUATION Validation set : mean loss 0.3511464726094293 n mean accuracy 0.9201278105711403\n"
          ],
          "name": "stdout"
        }
      ]
    },
    {
      "cell_type": "markdown",
      "metadata": {
        "id": "wgPHrRHuOBKQ"
      },
      "source": [
        "## Model applied to our dataset"
      ]
    },
    {
      "cell_type": "code",
      "metadata": {
        "id": "UcUb3wWbJAOV"
      },
      "source": [
        "def get_predictions(model, data_loader):\n",
        "  model = model.eval()\n",
        "  tweet = []\n",
        "  predictions = []\n",
        "  prediction_probs = []\n",
        "  with torch.no_grad():\n",
        "    for d in data_loader:\n",
        "      input_ids = d[0].cuda()\n",
        "      attention_mask = d[1].cuda()\n",
        "      outputs = model(\n",
        "        input_ids,\n",
        "        attention_mask\n",
        "      )\n",
        "      out = torch.sigmoid(outputs.squeeze(-1))\n",
        "      tweet.extend(input_ids)\n",
        "      predictions.append(out >= 0.5)\n",
        "      prediction_probs.append(out)\n",
        "  return tweet, predictions, prediction_probs"
      ],
      "execution_count": null,
      "outputs": []
    },
    {
      "cell_type": "code",
      "metadata": {
        "id": "R1xwVnD7Kvw1"
      },
      "source": [
        "vax_tweets['sentiment_num'] = ''\n",
        "vax_tweets['sentiment_prob'] = ''"
      ],
      "execution_count": null,
      "outputs": []
    },
    {
      "cell_type": "code",
      "metadata": {
        "colab": {
          "base_uri": "https://localhost:8080/"
        },
        "id": "AnprQjmzKaua",
        "outputId": "b3a53cc4-cc35-4537-8d12-f71914c938cf"
      },
      "source": [
        "vax_set = VaccineDataset(datasetname = vax_tweets, maxlen = 30, model_name='bert-base-uncased')\n",
        "vax_loader = DataLoader(vax_set, batch_size = 1, num_workers = 5)"
      ],
      "execution_count": null,
      "outputs": [
        {
          "output_type": "stream",
          "text": [
            "/usr/local/lib/python3.7/dist-packages/torch/utils/data/dataloader.py:477: UserWarning: This DataLoader will create 5 worker processes in total. Our suggested max number of worker in current system is 2, which is smaller than what this DataLoader is going to create. Please be aware that excessive worker creation might get DataLoader running slow or even freeze, lower the worker number to avoid potential slowness/freeze if necessary.\n",
            "  cpuset_checked))\n"
          ],
          "name": "stderr"
        }
      ]
    },
    {
      "cell_type": "code",
      "metadata": {
        "colab": {
          "base_uri": "https://localhost:8080/"
        },
        "id": "bZR0z94SKfnP",
        "outputId": "5dd20010-c75a-447c-f5b0-4b6bf47d0c0a"
      },
      "source": [
        "liste = get_predictions(sentiment_model, vax_loader)"
      ],
      "execution_count": null,
      "outputs": [
        {
          "output_type": "stream",
          "text": [
            "/usr/local/lib/python3.7/dist-packages/torch/utils/data/dataloader.py:477: UserWarning: This DataLoader will create 5 worker processes in total. Our suggested max number of worker in current system is 2, which is smaller than what this DataLoader is going to create. Please be aware that excessive worker creation might get DataLoader running slow or even freeze, lower the worker number to avoid potential slowness/freeze if necessary.\n",
            "  cpuset_checked))\n"
          ],
          "name": "stderr"
        }
      ]
    },
    {
      "cell_type": "code",
      "metadata": {
        "id": "H_2oeckYYlL5"
      },
      "source": [
        "val = liste[1]\n",
        "val_prob = liste[2]"
      ],
      "execution_count": null,
      "outputs": []
    },
    {
      "cell_type": "code",
      "metadata": {
        "id": "PaAfKL6CaeO1"
      },
      "source": [
        "val_num = [1 if valeur else 0 for valeur in val]"
      ],
      "execution_count": null,
      "outputs": []
    },
    {
      "cell_type": "code",
      "metadata": {
        "colab": {
          "base_uri": "https://localhost:8080/",
          "height": 333
        },
        "id": "2_y0kiptalo9",
        "outputId": "53172fd4-3648-4d38-93a0-0730b9c4ae62"
      },
      "source": [
        "import matplotlib.pyplot as plt\n",
        "plt.hist(val_num)"
      ],
      "execution_count": null,
      "outputs": [
        {
          "output_type": "execute_result",
          "data": {
            "text/plain": [
              "(array([17085.,     0.,     0.,     0.,     0.,     0.,     0.,     0.,\n",
              "            0., 22635.]),\n",
              " array([0. , 0.1, 0.2, 0.3, 0.4, 0.5, 0.6, 0.7, 0.8, 0.9, 1. ]),\n",
              " <a list of 10 Patch objects>)"
            ]
          },
          "metadata": {
            "tags": []
          },
          "execution_count": 44
        },
        {
          "output_type": "display_data",
          "data": {
            "image/png": "[encoded data removed]",
            "text/plain": [
              "<Figure size 432x288 with 1 Axes>"
            ]
          },
          "metadata": {
            "tags": [],
            "needs_background": "light"
          }
        }
      ]
    },
    {
      "cell_type": "code",
      "metadata": {
        "id": "Q2JA7CsratQD"
      },
      "source": [
        "vax_tweets['sentiment_num'] = val_num\n",
        "vax_tweets['sentiment_prob'] = val_prob"
      ],
      "execution_count": null,
      "outputs": []
    },
    {
      "cell_type": "markdown",
      "metadata": {
        "id": "6rcEaZAzOJSk"
      },
      "source": [
        "## Results"
      ]
    },
    {
      "cell_type": "code",
      "metadata": {
        "id": "Y0D7sP0Ib-_-",
        "colab": {
          "base_uri": "https://localhost:8080/",
          "height": 542
        },
        "outputId": "b8dab865-4c55-4136-fbb6-5c53921ed0c3"
      },
      "source": [
        "vax_tweets['date'] = pd.to_datetime(vax_tweets['date'], errors='coerce').dt.date\n",
        "timeline = vax_tweets.groupby(['date', 'sentiment_num']).agg(**{'tweets': ('id', 'count')}).reset_index().dropna()\n",
        "\n",
        "# Plot results\n",
        "import plotly.express as px\n",
        "fig = px.line(timeline, x='date', y='tweets', color='sentiment_num', category_orders={'sentiment': ['0','1']},\n",
        "             title='Timeline showing sentiment of tweets about COVID-19 vaccines')\n",
        "fig.show()"
      ],
      "execution_count": null,
      "outputs": [
        {
          "output_type": "display_data",
          "data": {
            "text/html": [
              "<html>\n",
              "<head><meta charset=\"utf-8\" /></head>\n",
              "<body>\n",
              "    <div>\n",
              "            <script src=\"https://cdnjs.cloudflare.com/ajax/libs/mathjax/2.7.5/MathJax.js?config=TeX-AMS-MML_SVG\"></script><script type=\"text/javascript\">if (window.MathJax) {MathJax.Hub.Config({SVG: {font: \"STIX-Web\"}});}</script>\n",
              "                <script type=\"text/javascript\">window.PlotlyConfig = {MathJaxConfig: 'local'};</script>\n",
              "        <script src=\"https://cdn.plot.ly/plotly-latest.min.js\"></script>    \n",
              "            <div id=\"ac76eab4-2e91-4b24-be8b-5c003ccd3a27\" class=\"plotly-graph-div\" style=\"height:525px; width:100%;\"></div>\n",
              "            <script type=\"text/javascript\">\n",
              "                \n",
              "                    window.PLOTLYENV=window.PLOTLYENV || {};\n",
              "                    \n",
              "                if (document.getElementById(\"ac76eab4-2e91-4b24-be8b-5c003ccd3a27\")) {\n",
              "                    Plotly.newPlot(\n",
              "                        'ac76eab4-2e91-4b24-be8b-5c003ccd3a27',\n",
              "                        [{\"hoverlabel\": {\"namelength\": 0}, \"hovertemplate\": \"sentiment_num=0<br>date=%{x}<br>tweets=%{y}\", \"legendgroup\": \"sentiment_num=0\", \"line\": {\"color\": \"#636efa\", \"dash\": \"solid\"}, \"mode\": \"lines\", \"name\": \"sentiment_num=0\", \"showlegend\": true, \"type\": \"scatter\", \"x\": [\"2020-12-12\", \"2020-12-13\", \"2020-12-14\", \"2020-12-15\", \"2020-12-16\", \"2020-12-17\", \"2020-12-18\", \"2020-12-19\", \"2020-12-20\", \"2020-12-21\", \"2020-12-22\", \"2020-12-23\", \"2020-12-24\", \"2020-12-25\", \"2020-12-26\", \"2020-12-27\", \"2020-12-28\", \"2020-12-29\", \"2020-12-30\", \"2020-12-31\", \"2021-01-01\", \"2021-01-02\", \"2021-01-03\", \"2021-01-04\", \"2021-01-05\", \"2021-01-06\", \"2021-01-07\", \"2021-01-08\", \"2021-01-09\", \"2021-01-10\", \"2021-01-11\", \"2021-01-12\", \"2021-01-13\", \"2021-01-14\", \"2021-01-15\", \"2021-01-16\", \"2021-01-17\", \"2021-01-18\", \"2021-01-19\", \"2021-01-20\", \"2021-01-21\", \"2021-01-22\", \"2021-01-23\", \"2021-01-24\", \"2021-01-25\", \"2021-01-26\", \"2021-01-27\", \"2021-01-28\", \"2021-01-29\", \"2021-01-30\", \"2021-01-31\", \"2021-02-01\", \"2021-02-02\", \"2021-02-03\", \"2021-02-04\", \"2021-02-05\", \"2021-02-06\", \"2021-02-07\", \"2021-02-08\", \"2021-02-09\", \"2021-02-10\", \"2021-02-11\", \"2021-02-12\", \"2021-02-13\", \"2021-02-14\", \"2021-02-15\", \"2021-02-16\", \"2021-02-17\", \"2021-02-18\", \"2021-02-19\", \"2021-02-20\", \"2021-02-21\", \"2021-02-22\", \"2021-02-23\", \"2021-02-24\", \"2021-02-25\", \"2021-02-26\", \"2021-02-27\", \"2021-02-28\", \"2021-03-01\", \"2021-03-02\", \"2021-03-03\", \"2021-03-04\", \"2021-03-05\", \"2021-03-06\", \"2021-03-07\", \"2021-03-08\", \"2021-03-09\", \"2021-03-10\", \"2021-03-11\", \"2021-03-12\", \"2021-03-13\", \"2021-03-14\", \"2021-03-15\", \"2021-03-16\", \"2021-03-17\", \"2021-03-18\", \"2021-03-19\", \"2021-03-20\", \"2021-03-21\", \"2021-03-22\", \"2021-03-23\", \"2021-03-24\", \"2021-03-25\", \"2021-03-26\", \"2021-03-27\", \"2021-03-28\"], \"xaxis\": \"x\", \"y\": [31, 46, 54, 58, 66, 52, 39, 46, 38, 38, 50, 43, 42, 14, 17, 16, 21, 37, 52, 31, 46, 35, 35, 42, 41, 51, 40, 86, 92, 55, 33, 38, 45, 33, 87, 73, 58, 37, 48, 47, 75, 32, 33, 30, 37, 39, 37, 36, 39, 38, 14, 11, 20, 15, 33, 30, 24, 144, 230, 196, 234, 203, 216, 173, 94, 144, 182, 225, 233, 204, 176, 127, 181, 173, 235, 238, 276, 201, 218, 996, 379, 435, 385, 339, 223, 167, 246, 304, 345, 426, 382, 249, 220, 512, 684, 467, 453, 418, 451, 308, 408, 369, 385, 325, 253, 240, 57], \"yaxis\": \"y\"}, {\"hoverlabel\": {\"namelength\": 0}, \"hovertemplate\": \"sentiment_num=1<br>date=%{x}<br>tweets=%{y}\", \"legendgroup\": \"sentiment_num=1\", \"line\": {\"color\": \"#EF553B\", \"dash\": \"solid\"}, \"mode\": \"lines\", \"name\": \"sentiment_num=1\", \"showlegend\": true, \"type\": \"scatter\", \"x\": [\"2020-12-12\", \"2020-12-13\", \"2020-12-14\", \"2020-12-15\", \"2020-12-16\", \"2020-12-17\", \"2020-12-18\", \"2020-12-19\", \"2020-12-20\", \"2020-12-21\", \"2020-12-22\", \"2020-12-23\", \"2020-12-24\", \"2020-12-25\", \"2020-12-26\", \"2020-12-27\", \"2020-12-28\", \"2020-12-29\", \"2020-12-30\", \"2020-12-31\", \"2021-01-01\", \"2021-01-02\", \"2021-01-03\", \"2021-01-04\", \"2021-01-05\", \"2021-01-06\", \"2021-01-07\", \"2021-01-08\", \"2021-01-09\", \"2021-01-10\", \"2021-01-11\", \"2021-01-12\", \"2021-01-13\", \"2021-01-14\", \"2021-01-15\", \"2021-01-16\", \"2021-01-17\", \"2021-01-18\", \"2021-01-19\", \"2021-01-20\", \"2021-01-21\", \"2021-01-22\", \"2021-01-23\", \"2021-01-24\", \"2021-01-25\", \"2021-01-26\", \"2021-01-27\", \"2021-01-28\", \"2021-01-29\", \"2021-01-30\", \"2021-01-31\", \"2021-02-01\", \"2021-02-02\", \"2021-02-03\", \"2021-02-04\", \"2021-02-05\", \"2021-02-06\", \"2021-02-07\", \"2021-02-08\", \"2021-02-09\", \"2021-02-10\", \"2021-02-11\", \"2021-02-12\", \"2021-02-13\", \"2021-02-14\", \"2021-02-15\", \"2021-02-16\", \"2021-02-17\", \"2021-02-18\", \"2021-02-19\", \"2021-02-20\", \"2021-02-21\", \"2021-02-22\", \"2021-02-23\", \"2021-02-24\", \"2021-02-25\", \"2021-02-26\", \"2021-02-27\", \"2021-02-28\", \"2021-03-01\", \"2021-03-02\", \"2021-03-03\", \"2021-03-04\", \"2021-03-05\", \"2021-03-06\", \"2021-03-07\", \"2021-03-08\", \"2021-03-09\", \"2021-03-10\", \"2021-03-11\", \"2021-03-12\", \"2021-03-13\", \"2021-03-14\", \"2021-03-15\", \"2021-03-16\", \"2021-03-17\", \"2021-03-18\", \"2021-03-19\", \"2021-03-20\", \"2021-03-21\", \"2021-03-22\", \"2021-03-23\", \"2021-03-24\", \"2021-03-25\", \"2021-03-26\", \"2021-03-27\", \"2021-03-28\"], \"xaxis\": \"x\", \"y\": [32, 52, 83, 92, 78, 87, 73, 64, 30, 64, 107, 80, 72, 26, 30, 43, 32, 48, 55, 41, 49, 48, 21, 30, 70, 61, 36, 124, 78, 63, 60, 68, 66, 73, 61, 56, 41, 29, 52, 57, 70, 33, 32, 23, 40, 52, 52, 44, 57, 35, 16, 20, 33, 22, 36, 40, 15, 195, 281, 263, 270, 245, 281, 218, 165, 199, 239, 274, 329, 313, 217, 142, 299, 233, 423, 384, 401, 261, 290, 1915, 480, 914, 630, 478, 334, 220, 300, 404, 415, 485, 471, 289, 227, 446, 731, 514, 516, 554, 544, 311, 509, 431, 486, 396, 372, 310, 79], \"yaxis\": \"y\"}],\n",
              "                        {\"legend\": {\"tracegroupgap\": 0}, \"template\": {\"data\": {\"bar\": [{\"error_x\": {\"color\": \"#2a3f5f\"}, \"error_y\": {\"color\": \"#2a3f5f\"}, \"marker\": {\"line\": {\"color\": \"#E5ECF6\", \"width\": 0.5}}, \"type\": \"bar\"}], \"barpolar\": [{\"marker\": {\"line\": {\"color\": \"#E5ECF6\", \"width\": 0.5}}, \"type\": \"barpolar\"}], \"carpet\": [{\"aaxis\": {\"endlinecolor\": \"#2a3f5f\", \"gridcolor\": \"white\", \"linecolor\": \"white\", \"minorgridcolor\": \"white\", \"startlinecolor\": \"#2a3f5f\"}, \"baxis\": {\"endlinecolor\": \"#2a3f5f\", \"gridcolor\": \"white\", \"linecolor\": \"white\", \"minorgridcolor\": \"white\", \"startlinecolor\": \"#2a3f5f\"}, \"type\": \"carpet\"}], \"choropleth\": [{\"colorbar\": {\"outlinewidth\": 0, \"ticks\": \"\"}, \"type\": \"choropleth\"}], \"contour\": [{\"colorbar\": {\"outlinewidth\": 0, \"ticks\": \"\"}, \"colorscale\": [[0.0, \"#0d0887\"], [0.1111111111111111, \"#46039f\"], [0.2222222222222222, \"#7201a8\"], [0.3333333333333333, \"#9c179e\"], [0.4444444444444444, \"#bd3786\"], [0.5555555555555556, \"#d8576b\"], [0.6666666666666666, \"#ed7953\"], [0.7777777777777778, \"#fb9f3a\"], [0.8888888888888888, \"#fdca26\"], [1.0, \"#f0f921\"]], \"type\": \"contour\"}], \"contourcarpet\": [{\"colorbar\": {\"outlinewidth\": 0, \"ticks\": \"\"}, \"type\": \"contourcarpet\"}], \"heatmap\": [{\"colorbar\": {\"outlinewidth\": 0, \"ticks\": \"\"}, \"colorscale\": [[0.0, \"#0d0887\"], [0.1111111111111111, \"#46039f\"], [0.2222222222222222, \"#7201a8\"], [0.3333333333333333, \"#9c179e\"], [0.4444444444444444, \"#bd3786\"], [0.5555555555555556, \"#d8576b\"], [0.6666666666666666, \"#ed7953\"], [0.7777777777777778, \"#fb9f3a\"], [0.8888888888888888, \"#fdca26\"], [1.0, \"#f0f921\"]], \"type\": \"heatmap\"}], \"heatmapgl\": [{\"colorbar\": {\"outlinewidth\": 0, \"ticks\": \"\"}, \"colorscale\": [[0.0, \"#0d0887\"], [0.1111111111111111, \"#46039f\"], [0.2222222222222222, \"#7201a8\"], [0.3333333333333333, \"#9c179e\"], [0.4444444444444444, \"#bd3786\"], [0.5555555555555556, \"#d8576b\"], [0.6666666666666666, \"#ed7953\"], [0.7777777777777778, \"#fb9f3a\"], [0.8888888888888888, \"#fdca26\"], [1.0, \"#f0f921\"]], \"type\": \"heatmapgl\"}], \"histogram\": [{\"marker\": {\"colorbar\": {\"outlinewidth\": 0, \"ticks\": \"\"}}, \"type\": \"histogram\"}], \"histogram2d\": [{\"colorbar\": {\"outlinewidth\": 0, \"ticks\": \"\"}, \"colorscale\": [[0.0, \"#0d0887\"], [0.1111111111111111, \"#46039f\"], [0.2222222222222222, \"#7201a8\"], [0.3333333333333333, \"#9c179e\"], [0.4444444444444444, \"#bd3786\"], [0.5555555555555556, \"#d8576b\"], [0.6666666666666666, \"#ed7953\"], [0.7777777777777778, \"#fb9f3a\"], [0.8888888888888888, \"#fdca26\"], [1.0, \"#f0f921\"]], \"type\": \"histogram2d\"}], \"histogram2dcontour\": [{\"colorbar\": {\"outlinewidth\": 0, \"ticks\": \"\"}, \"colorscale\": [[0.0, \"#0d0887\"], [0.1111111111111111, \"#46039f\"], [0.2222222222222222, \"#7201a8\"], [0.3333333333333333, \"#9c179e\"], [0.4444444444444444, \"#bd3786\"], [0.5555555555555556, \"#d8576b\"], [0.6666666666666666, \"#ed7953\"], [0.7777777777777778, \"#fb9f3a\"], [0.8888888888888888, \"#fdca26\"], [1.0, \"#f0f921\"]], \"type\": \"histogram2dcontour\"}], \"mesh3d\": [{\"colorbar\": {\"outlinewidth\": 0, \"ticks\": \"\"}, \"type\": \"mesh3d\"}], \"parcoords\": [{\"line\": {\"colorbar\": {\"outlinewidth\": 0, \"ticks\": \"\"}}, \"type\": \"parcoords\"}], \"pie\": [{\"automargin\": true, \"type\": \"pie\"}], \"scatter\": [{\"marker\": {\"colorbar\": {\"outlinewidth\": 0, \"ticks\": \"\"}}, \"type\": \"scatter\"}], \"scatter3d\": [{\"line\": {\"colorbar\": {\"outlinewidth\": 0, \"ticks\": \"\"}}, \"marker\": {\"colorbar\": {\"outlinewidth\": 0, \"ticks\": \"\"}}, \"type\": \"scatter3d\"}], \"scattercarpet\": [{\"marker\": {\"colorbar\": {\"outlinewidth\": 0, \"ticks\": \"\"}}, \"type\": \"scattercarpet\"}], \"scattergeo\": [{\"marker\": {\"colorbar\": {\"outlinewidth\": 0, \"ticks\": \"\"}}, \"type\": \"scattergeo\"}], \"scattergl\": [{\"marker\": {\"colorbar\": {\"outlinewidth\": 0, \"ticks\": \"\"}}, \"type\": \"scattergl\"}], \"scattermapbox\": [{\"marker\": {\"colorbar\": {\"outlinewidth\": 0, \"ticks\": \"\"}}, \"type\": \"scattermapbox\"}], \"scatterpolar\": [{\"marker\": {\"colorbar\": {\"outlinewidth\": 0, \"ticks\": \"\"}}, \"type\": \"scatterpolar\"}], \"scatterpolargl\": [{\"marker\": {\"colorbar\": {\"outlinewidth\": 0, \"ticks\": \"\"}}, \"type\": \"scatterpolargl\"}], \"scatterternary\": [{\"marker\": {\"colorbar\": {\"outlinewidth\": 0, \"ticks\": \"\"}}, \"type\": \"scatterternary\"}], \"surface\": [{\"colorbar\": {\"outlinewidth\": 0, \"ticks\": \"\"}, \"colorscale\": [[0.0, \"#0d0887\"], [0.1111111111111111, \"#46039f\"], [0.2222222222222222, \"#7201a8\"], [0.3333333333333333, \"#9c179e\"], [0.4444444444444444, \"#bd3786\"], [0.5555555555555556, \"#d8576b\"], [0.6666666666666666, \"#ed7953\"], [0.7777777777777778, \"#fb9f3a\"], [0.8888888888888888, \"#fdca26\"], [1.0, \"#f0f921\"]], \"type\": \"surface\"}], \"table\": [{\"cells\": {\"fill\": {\"color\": \"#EBF0F8\"}, \"line\": {\"color\": \"white\"}}, \"header\": {\"fill\": {\"color\": \"#C8D4E3\"}, \"line\": {\"color\": \"white\"}}, \"type\": \"table\"}]}, \"layout\": {\"annotationdefaults\": {\"arrowcolor\": \"#2a3f5f\", \"arrowhead\": 0, \"arrowwidth\": 1}, \"coloraxis\": {\"colorbar\": {\"outlinewidth\": 0, \"ticks\": \"\"}}, \"colorscale\": {\"diverging\": [[0, \"#8e0152\"], [0.1, \"#c51b7d\"], [0.2, \"#de77ae\"], [0.3, \"#f1b6da\"], [0.4, \"#fde0ef\"], [0.5, \"#f7f7f7\"], [0.6, \"#e6f5d0\"], [0.7, \"#b8e186\"], [0.8, \"#7fbc41\"], [0.9, \"#4d9221\"], [1, \"#276419\"]], \"sequential\": [[0.0, \"#0d0887\"], [0.1111111111111111, \"#46039f\"], [0.2222222222222222, \"#7201a8\"], [0.3333333333333333, \"#9c179e\"], [0.4444444444444444, \"#bd3786\"], [0.5555555555555556, \"#d8576b\"], [0.6666666666666666, \"#ed7953\"], [0.7777777777777778, \"#fb9f3a\"], [0.8888888888888888, \"#fdca26\"], [1.0, \"#f0f921\"]], \"sequentialminus\": [[0.0, \"#0d0887\"], [0.1111111111111111, \"#46039f\"], [0.2222222222222222, \"#7201a8\"], [0.3333333333333333, \"#9c179e\"], [0.4444444444444444, \"#bd3786\"], [0.5555555555555556, \"#d8576b\"], [0.6666666666666666, \"#ed7953\"], [0.7777777777777778, \"#fb9f3a\"], [0.8888888888888888, \"#fdca26\"], [1.0, \"#f0f921\"]]}, \"colorway\": [\"#636efa\", \"#EF553B\", \"#00cc96\", \"#ab63fa\", \"#FFA15A\", \"#19d3f3\", \"#FF6692\", \"#B6E880\", \"#FF97FF\", \"#FECB52\"], \"font\": {\"color\": \"#2a3f5f\"}, \"geo\": {\"bgcolor\": \"white\", \"lakecolor\": \"white\", \"landcolor\": \"#E5ECF6\", \"showlakes\": true, \"showland\": true, \"subunitcolor\": \"white\"}, \"hoverlabel\": {\"align\": \"left\"}, \"hovermode\": \"closest\", \"mapbox\": {\"style\": \"light\"}, \"paper_bgcolor\": \"white\", \"plot_bgcolor\": \"#E5ECF6\", \"polar\": {\"angularaxis\": {\"gridcolor\": \"white\", \"linecolor\": \"white\", \"ticks\": \"\"}, \"bgcolor\": \"#E5ECF6\", \"radialaxis\": {\"gridcolor\": \"white\", \"linecolor\": \"white\", \"ticks\": \"\"}}, \"scene\": {\"xaxis\": {\"backgroundcolor\": \"#E5ECF6\", \"gridcolor\": \"white\", \"gridwidth\": 2, \"linecolor\": \"white\", \"showbackground\": true, \"ticks\": \"\", \"zerolinecolor\": \"white\"}, \"yaxis\": {\"backgroundcolor\": \"#E5ECF6\", \"gridcolor\": \"white\", \"gridwidth\": 2, \"linecolor\": \"white\", \"showbackground\": true, \"ticks\": \"\", \"zerolinecolor\": \"white\"}, \"zaxis\": {\"backgroundcolor\": \"#E5ECF6\", \"gridcolor\": \"white\", \"gridwidth\": 2, \"linecolor\": \"white\", \"showbackground\": true, \"ticks\": \"\", \"zerolinecolor\": \"white\"}}, \"shapedefaults\": {\"line\": {\"color\": \"#2a3f5f\"}}, \"ternary\": {\"aaxis\": {\"gridcolor\": \"white\", \"linecolor\": \"white\", \"ticks\": \"\"}, \"baxis\": {\"gridcolor\": \"white\", \"linecolor\": \"white\", \"ticks\": \"\"}, \"bgcolor\": \"#E5ECF6\", \"caxis\": {\"gridcolor\": \"white\", \"linecolor\": \"white\", \"ticks\": \"\"}}, \"title\": {\"x\": 0.05}, \"xaxis\": {\"automargin\": true, \"gridcolor\": \"white\", \"linecolor\": \"white\", \"ticks\": \"\", \"title\": {\"standoff\": 15}, \"zerolinecolor\": \"white\", \"zerolinewidth\": 2}, \"yaxis\": {\"automargin\": true, \"gridcolor\": \"white\", \"linecolor\": \"white\", \"ticks\": \"\", \"title\": {\"standoff\": 15}, \"zerolinecolor\": \"white\", \"zerolinewidth\": 2}}}, \"title\": {\"text\": \"Timeline showing sentiment of tweets about COVID-19 vaccines\"}, \"xaxis\": {\"anchor\": \"y\", \"domain\": [0.0, 1.0], \"title\": {\"text\": \"date\"}}, \"yaxis\": {\"anchor\": \"x\", \"domain\": [0.0, 1.0], \"title\": {\"text\": \"tweets\"}}},\n",
              "                        {\"responsive\": true}\n",
              "                    ).then(function(){\n",
              "                            \n",
              "var gd = document.getElementById('ac76eab4-2e91-4b24-be8b-5c003ccd3a27');\n",
              "var x = new MutationObserver(function (mutations, observer) {{\n",
              "        var display = window.getComputedStyle(gd).display;\n",
              "        if (!display || display === 'none') {{\n",
              "            console.log([gd, 'removed!']);\n",
              "            Plotly.purge(gd);\n",
              "            observer.disconnect();\n",
              "        }}\n",
              "}});\n",
              "\n",
              "// Listen for the removal of the full notebook cells\n",
              "var notebookContainer = gd.closest('#notebook-container');\n",
              "if (notebookContainer) {{\n",
              "    x.observe(notebookContainer, {childList: true});\n",
              "}}\n",
              "\n",
              "// Listen for the clearing of the current output cell\n",
              "var outputEl = gd.closest('.output');\n",
              "if (outputEl) {{\n",
              "    x.observe(outputEl, {childList: true});\n",
              "}}\n",
              "\n",
              "                        })\n",
              "                };\n",
              "                \n",
              "            </script>\n",
              "        </div>\n",
              "</body>\n",
              "</html>"
            ]
          },
          "metadata": {
            "tags": []
          }
        }
      ]
    },
    {
      "cell_type": "markdown",
      "metadata": {
        "id": "gIuxufc_ONQx"
      },
      "source": [
        "We compare the number of tweets positive and negative but it is difficult to say something. We decide to look at the positive tweets proportion among time."
      ]
    },
    {
      "cell_type": "code",
      "metadata": {
        "id": "GZQ1MCUCspc-"
      },
      "source": [
        "dates = list(timeline['date'].unique())"
      ],
      "execution_count": null,
      "outputs": []
    },
    {
      "cell_type": "code",
      "metadata": {
        "id": "R-ZSlGsIs7kN"
      },
      "source": [
        "timeline_pos = []\n",
        "for date in dates:\n",
        "  pos = list(timeline[timeline[\"date\"]==date]['tweets'])\n",
        "  timeline_pos.append([date,pos[1]/(pos[0]+pos[1])])"
      ],
      "execution_count": null,
      "outputs": []
    },
    {
      "cell_type": "code",
      "metadata": {
        "id": "EjwR-EwcuDfs"
      },
      "source": [
        "tl = pd.DataFrame(timeline_pos,columns=['date','sentiment'])"
      ],
      "execution_count": null,
      "outputs": []
    },
    {
      "cell_type": "code",
      "metadata": {
        "colab": {
          "base_uri": "https://localhost:8080/",
          "height": 542
        },
        "id": "wLdQMjyCvB30",
        "outputId": "58ba7fd7-9db6-4bb3-c234-61c335392f23"
      },
      "source": [
        "fig = px.line(tl, x='date', y='sentiment',\n",
        "             title='Timeline showing ratio of positive tweets about COVID-19 vaccines')\n",
        "fig.show()"
      ],
      "execution_count": null,
      "outputs": [
        {
          "output_type": "display_data",
          "data": {
            "text/html": [
              "<html>\n",
              "<head><meta charset=\"utf-8\" /></head>\n",
              "<body>\n",
              "    <div>\n",
              "            <script src=\"https://cdnjs.cloudflare.com/ajax/libs/mathjax/2.7.5/MathJax.js?config=TeX-AMS-MML_SVG\"></script><script type=\"text/javascript\">if (window.MathJax) {MathJax.Hub.Config({SVG: {font: \"STIX-Web\"}});}</script>\n",
              "                <script type=\"text/javascript\">window.PlotlyConfig = {MathJaxConfig: 'local'};</script>\n",
              "        <script src=\"https://cdn.plot.ly/plotly-latest.min.js\"></script>    \n",
              "            <div id=\"0600955f-ab85-480d-b3ff-f1927f23e8fe\" class=\"plotly-graph-div\" style=\"height:525px; width:100%;\"></div>\n",
              "            <script type=\"text/javascript\">\n",
              "                \n",
              "                    window.PLOTLYENV=window.PLOTLYENV || {};\n",
              "                    \n",
              "                if (document.getElementById(\"0600955f-ab85-480d-b3ff-f1927f23e8fe\")) {\n",
              "                    Plotly.newPlot(\n",
              "                        '0600955f-ab85-480d-b3ff-f1927f23e8fe',\n",
              "                        [{\"hoverlabel\": {\"namelength\": 0}, \"hovertemplate\": \"date=%{x}<br>sentiment=%{y}\", \"legendgroup\": \"\", \"line\": {\"color\": \"#636efa\", \"dash\": \"solid\"}, \"mode\": \"lines\", \"name\": \"\", \"showlegend\": false, \"type\": \"scatter\", \"x\": [\"2020-12-12\", \"2020-12-13\", \"2020-12-14\", \"2020-12-15\", \"2020-12-16\", \"2020-12-17\", \"2020-12-18\", \"2020-12-19\", \"2020-12-20\", \"2020-12-21\", \"2020-12-22\", \"2020-12-23\", \"2020-12-24\", \"2020-12-25\", \"2020-12-26\", \"2020-12-27\", \"2020-12-28\", \"2020-12-29\", \"2020-12-30\", \"2020-12-31\", \"2021-01-01\", \"2021-01-02\", \"2021-01-03\", \"2021-01-04\", \"2021-01-05\", \"2021-01-06\", \"2021-01-07\", \"2021-01-08\", \"2021-01-09\", \"2021-01-10\", \"2021-01-11\", \"2021-01-12\", \"2021-01-13\", \"2021-01-14\", \"2021-01-15\", \"2021-01-16\", \"2021-01-17\", \"2021-01-18\", \"2021-01-19\", \"2021-01-20\", \"2021-01-21\", \"2021-01-22\", \"2021-01-23\", \"2021-01-24\", \"2021-01-25\", \"2021-01-26\", \"2021-01-27\", \"2021-01-28\", \"2021-01-29\", \"2021-01-30\", \"2021-01-31\", \"2021-02-01\", \"2021-02-02\", \"2021-02-03\", \"2021-02-04\", \"2021-02-05\", \"2021-02-06\", \"2021-02-07\", \"2021-02-08\", \"2021-02-09\", \"2021-02-10\", \"2021-02-11\", \"2021-02-12\", \"2021-02-13\", \"2021-02-14\", \"2021-02-15\", \"2021-02-16\", \"2021-02-17\", \"2021-02-18\", \"2021-02-19\", \"2021-02-20\", \"2021-02-21\", \"2021-02-22\", \"2021-02-23\", \"2021-02-24\", \"2021-02-25\", \"2021-02-26\", \"2021-02-27\", \"2021-02-28\", \"2021-03-01\", \"2021-03-02\", \"2021-03-03\", \"2021-03-04\", \"2021-03-05\", \"2021-03-06\", \"2021-03-07\", \"2021-03-08\", \"2021-03-09\", \"2021-03-10\", \"2021-03-11\", \"2021-03-12\", \"2021-03-13\", \"2021-03-14\", \"2021-03-15\", \"2021-03-16\", \"2021-03-17\", \"2021-03-18\", \"2021-03-19\", \"2021-03-20\", \"2021-03-21\", \"2021-03-22\", \"2021-03-23\", \"2021-03-24\", \"2021-03-25\", \"2021-03-26\", \"2021-03-27\", \"2021-03-28\"], \"xaxis\": \"x\", \"y\": [0.5079365079365079, 0.5306122448979592, 0.6058394160583942, 0.6133333333333333, 0.5416666666666666, 0.6258992805755396, 0.6517857142857143, 0.5818181818181818, 0.4411764705882353, 0.6274509803921569, 0.6815286624203821, 0.6504065040650406, 0.631578947368421, 0.65, 0.6382978723404256, 0.7288135593220338, 0.6037735849056604, 0.5647058823529412, 0.514018691588785, 0.5694444444444444, 0.5157894736842106, 0.5783132530120482, 0.375, 0.4166666666666667, 0.6306306306306306, 0.5446428571428571, 0.47368421052631576, 0.5904761904761905, 0.4588235294117647, 0.5338983050847458, 0.6451612903225806, 0.6415094339622641, 0.5945945945945946, 0.6886792452830188, 0.41216216216216217, 0.43410852713178294, 0.41414141414141414, 0.4393939393939394, 0.52, 0.5480769230769231, 0.4827586206896552, 0.5076923076923077, 0.49230769230769234, 0.4339622641509434, 0.5194805194805194, 0.5714285714285714, 0.5842696629213483, 0.55, 0.59375, 0.4794520547945205, 0.5333333333333333, 0.6451612903225806, 0.6226415094339622, 0.5945945945945946, 0.5217391304347826, 0.5714285714285714, 0.38461538461538464, 0.5752212389380531, 0.5499021526418787, 0.5729847494553377, 0.5357142857142857, 0.546875, 0.5653923541247485, 0.5575447570332481, 0.637065637065637, 0.5801749271137027, 0.5676959619952494, 0.5490981963927856, 0.5854092526690391, 0.6054158607350096, 0.5521628498727735, 0.5278810408921933, 0.6229166666666667, 0.5738916256157636, 0.6428571428571429, 0.617363344051447, 0.5923190546528804, 0.564935064935065, 0.5708661417322834, 0.6578495362418413, 0.5587892898719441, 0.6775389177168273, 0.6206896551724138, 0.5850673194614443, 0.599640933572711, 0.5684754521963824, 0.5494505494505495, 0.5706214689265536, 0.5460526315789473, 0.5323819978046103, 0.552168815943728, 0.5371747211895911, 0.5078299776286354, 0.46555323590814196, 0.5166077738515901, 0.5239551478083588, 0.5325077399380805, 0.5699588477366255, 0.5467336683417086, 0.5024232633279483, 0.5550708833151581, 0.53875, 0.5579793340987371, 0.5492371705963939, 0.5952, 0.5636363636363636, 0.5808823529411765], \"yaxis\": \"y\"}],\n",
              "                        {\"legend\": {\"tracegroupgap\": 0}, \"template\": {\"data\": {\"bar\": [{\"error_x\": {\"color\": \"#2a3f5f\"}, \"error_y\": {\"color\": \"#2a3f5f\"}, \"marker\": {\"line\": {\"color\": \"#E5ECF6\", \"width\": 0.5}}, \"type\": \"bar\"}], \"barpolar\": [{\"marker\": {\"line\": {\"color\": \"#E5ECF6\", \"width\": 0.5}}, \"type\": \"barpolar\"}], \"carpet\": [{\"aaxis\": {\"endlinecolor\": \"#2a3f5f\", \"gridcolor\": \"white\", \"linecolor\": \"white\", \"minorgridcolor\": \"white\", \"startlinecolor\": \"#2a3f5f\"}, \"baxis\": {\"endlinecolor\": \"#2a3f5f\", \"gridcolor\": \"white\", \"linecolor\": \"white\", \"minorgridcolor\": \"white\", \"startlinecolor\": \"#2a3f5f\"}, \"type\": \"carpet\"}], \"choropleth\": [{\"colorbar\": {\"outlinewidth\": 0, \"ticks\": \"\"}, \"type\": \"choropleth\"}], \"contour\": [{\"colorbar\": {\"outlinewidth\": 0, \"ticks\": \"\"}, \"colorscale\": [[0.0, \"#0d0887\"], [0.1111111111111111, \"#46039f\"], [0.2222222222222222, \"#7201a8\"], [0.3333333333333333, \"#9c179e\"], [0.4444444444444444, \"#bd3786\"], [0.5555555555555556, \"#d8576b\"], [0.6666666666666666, \"#ed7953\"], [0.7777777777777778, \"#fb9f3a\"], [0.8888888888888888, \"#fdca26\"], [1.0, \"#f0f921\"]], \"type\": \"contour\"}], \"contourcarpet\": [{\"colorbar\": {\"outlinewidth\": 0, \"ticks\": \"\"}, \"type\": \"contourcarpet\"}], \"heatmap\": [{\"colorbar\": {\"outlinewidth\": 0, \"ticks\": \"\"}, \"colorscale\": [[0.0, \"#0d0887\"], [0.1111111111111111, \"#46039f\"], [0.2222222222222222, \"#7201a8\"], [0.3333333333333333, \"#9c179e\"], [0.4444444444444444, \"#bd3786\"], [0.5555555555555556, \"#d8576b\"], [0.6666666666666666, \"#ed7953\"], [0.7777777777777778, \"#fb9f3a\"], [0.8888888888888888, \"#fdca26\"], [1.0, \"#f0f921\"]], \"type\": \"heatmap\"}], \"heatmapgl\": [{\"colorbar\": {\"outlinewidth\": 0, \"ticks\": \"\"}, \"colorscale\": [[0.0, \"#0d0887\"], [0.1111111111111111, \"#46039f\"], [0.2222222222222222, \"#7201a8\"], [0.3333333333333333, \"#9c179e\"], [0.4444444444444444, \"#bd3786\"], [0.5555555555555556, \"#d8576b\"], [0.6666666666666666, \"#ed7953\"], [0.7777777777777778, \"#fb9f3a\"], [0.8888888888888888, \"#fdca26\"], [1.0, \"#f0f921\"]], \"type\": \"heatmapgl\"}], \"histogram\": [{\"marker\": {\"colorbar\": {\"outlinewidth\": 0, \"ticks\": \"\"}}, \"type\": \"histogram\"}], \"histogram2d\": [{\"colorbar\": {\"outlinewidth\": 0, \"ticks\": \"\"}, \"colorscale\": [[0.0, \"#0d0887\"], [0.1111111111111111, \"#46039f\"], [0.2222222222222222, \"#7201a8\"], [0.3333333333333333, \"#9c179e\"], [0.4444444444444444, \"#bd3786\"], [0.5555555555555556, \"#d8576b\"], [0.6666666666666666, \"#ed7953\"], [0.7777777777777778, \"#fb9f3a\"], [0.8888888888888888, \"#fdca26\"], [1.0, \"#f0f921\"]], \"type\": \"histogram2d\"}], \"histogram2dcontour\": [{\"colorbar\": {\"outlinewidth\": 0, \"ticks\": \"\"}, \"colorscale\": [[0.0, \"#0d0887\"], [0.1111111111111111, \"#46039f\"], [0.2222222222222222, \"#7201a8\"], [0.3333333333333333, \"#9c179e\"], [0.4444444444444444, \"#bd3786\"], [0.5555555555555556, \"#d8576b\"], [0.6666666666666666, \"#ed7953\"], [0.7777777777777778, \"#fb9f3a\"], [0.8888888888888888, \"#fdca26\"], [1.0, \"#f0f921\"]], \"type\": \"histogram2dcontour\"}], \"mesh3d\": [{\"colorbar\": {\"outlinewidth\": 0, \"ticks\": \"\"}, \"type\": \"mesh3d\"}], \"parcoords\": [{\"line\": {\"colorbar\": {\"outlinewidth\": 0, \"ticks\": \"\"}}, \"type\": \"parcoords\"}], \"pie\": [{\"automargin\": true, \"type\": \"pie\"}], \"scatter\": [{\"marker\": {\"colorbar\": {\"outlinewidth\": 0, \"ticks\": \"\"}}, \"type\": \"scatter\"}], \"scatter3d\": [{\"line\": {\"colorbar\": {\"outlinewidth\": 0, \"ticks\": \"\"}}, \"marker\": {\"colorbar\": {\"outlinewidth\": 0, \"ticks\": \"\"}}, \"type\": \"scatter3d\"}], \"scattercarpet\": [{\"marker\": {\"colorbar\": {\"outlinewidth\": 0, \"ticks\": \"\"}}, \"type\": \"scattercarpet\"}], \"scattergeo\": [{\"marker\": {\"colorbar\": {\"outlinewidth\": 0, \"ticks\": \"\"}}, \"type\": \"scattergeo\"}], \"scattergl\": [{\"marker\": {\"colorbar\": {\"outlinewidth\": 0, \"ticks\": \"\"}}, \"type\": \"scattergl\"}], \"scattermapbox\": [{\"marker\": {\"colorbar\": {\"outlinewidth\": 0, \"ticks\": \"\"}}, \"type\": \"scattermapbox\"}], \"scatterpolar\": [{\"marker\": {\"colorbar\": {\"outlinewidth\": 0, \"ticks\": \"\"}}, \"type\": \"scatterpolar\"}], \"scatterpolargl\": [{\"marker\": {\"colorbar\": {\"outlinewidth\": 0, \"ticks\": \"\"}}, \"type\": \"scatterpolargl\"}], \"scatterternary\": [{\"marker\": {\"colorbar\": {\"outlinewidth\": 0, \"ticks\": \"\"}}, \"type\": \"scatterternary\"}], \"surface\": [{\"colorbar\": {\"outlinewidth\": 0, \"ticks\": \"\"}, \"colorscale\": [[0.0, \"#0d0887\"], [0.1111111111111111, \"#46039f\"], [0.2222222222222222, \"#7201a8\"], [0.3333333333333333, \"#9c179e\"], [0.4444444444444444, \"#bd3786\"], [0.5555555555555556, \"#d8576b\"], [0.6666666666666666, \"#ed7953\"], [0.7777777777777778, \"#fb9f3a\"], [0.8888888888888888, \"#fdca26\"], [1.0, \"#f0f921\"]], \"type\": \"surface\"}], \"table\": [{\"cells\": {\"fill\": {\"color\": \"#EBF0F8\"}, \"line\": {\"color\": \"white\"}}, \"header\": {\"fill\": {\"color\": \"#C8D4E3\"}, \"line\": {\"color\": \"white\"}}, \"type\": \"table\"}]}, \"layout\": {\"annotationdefaults\": {\"arrowcolor\": \"#2a3f5f\", \"arrowhead\": 0, \"arrowwidth\": 1}, \"coloraxis\": {\"colorbar\": {\"outlinewidth\": 0, \"ticks\": \"\"}}, \"colorscale\": {\"diverging\": [[0, \"#8e0152\"], [0.1, \"#c51b7d\"], [0.2, \"#de77ae\"], [0.3, \"#f1b6da\"], [0.4, \"#fde0ef\"], [0.5, \"#f7f7f7\"], [0.6, \"#e6f5d0\"], [0.7, \"#b8e186\"], [0.8, \"#7fbc41\"], [0.9, \"#4d9221\"], [1, \"#276419\"]], \"sequential\": [[0.0, \"#0d0887\"], [0.1111111111111111, \"#46039f\"], [0.2222222222222222, \"#7201a8\"], [0.3333333333333333, \"#9c179e\"], [0.4444444444444444, \"#bd3786\"], [0.5555555555555556, \"#d8576b\"], [0.6666666666666666, \"#ed7953\"], [0.7777777777777778, \"#fb9f3a\"], [0.8888888888888888, \"#fdca26\"], [1.0, \"#f0f921\"]], \"sequentialminus\": [[0.0, \"#0d0887\"], [0.1111111111111111, \"#46039f\"], [0.2222222222222222, \"#7201a8\"], [0.3333333333333333, \"#9c179e\"], [0.4444444444444444, \"#bd3786\"], [0.5555555555555556, \"#d8576b\"], [0.6666666666666666, \"#ed7953\"], [0.7777777777777778, \"#fb9f3a\"], [0.8888888888888888, \"#fdca26\"], [1.0, \"#f0f921\"]]}, \"colorway\": [\"#636efa\", \"#EF553B\", \"#00cc96\", \"#ab63fa\", \"#FFA15A\", \"#19d3f3\", \"#FF6692\", \"#B6E880\", \"#FF97FF\", \"#FECB52\"], \"font\": {\"color\": \"#2a3f5f\"}, \"geo\": {\"bgcolor\": \"white\", \"lakecolor\": \"white\", \"landcolor\": \"#E5ECF6\", \"showlakes\": true, \"showland\": true, \"subunitcolor\": \"white\"}, \"hoverlabel\": {\"align\": \"left\"}, \"hovermode\": \"closest\", \"mapbox\": {\"style\": \"light\"}, \"paper_bgcolor\": \"white\", \"plot_bgcolor\": \"#E5ECF6\", \"polar\": {\"angularaxis\": {\"gridcolor\": \"white\", \"linecolor\": \"white\", \"ticks\": \"\"}, \"bgcolor\": \"#E5ECF6\", \"radialaxis\": {\"gridcolor\": \"white\", \"linecolor\": \"white\", \"ticks\": \"\"}}, \"scene\": {\"xaxis\": {\"backgroundcolor\": \"#E5ECF6\", \"gridcolor\": \"white\", \"gridwidth\": 2, \"linecolor\": \"white\", \"showbackground\": true, \"ticks\": \"\", \"zerolinecolor\": \"white\"}, \"yaxis\": {\"backgroundcolor\": \"#E5ECF6\", \"gridcolor\": \"white\", \"gridwidth\": 2, \"linecolor\": \"white\", \"showbackground\": true, \"ticks\": \"\", \"zerolinecolor\": \"white\"}, \"zaxis\": {\"backgroundcolor\": \"#E5ECF6\", \"gridcolor\": \"white\", \"gridwidth\": 2, \"linecolor\": \"white\", \"showbackground\": true, \"ticks\": \"\", \"zerolinecolor\": \"white\"}}, \"shapedefaults\": {\"line\": {\"color\": \"#2a3f5f\"}}, \"ternary\": {\"aaxis\": {\"gridcolor\": \"white\", \"linecolor\": \"white\", \"ticks\": \"\"}, \"baxis\": {\"gridcolor\": \"white\", \"linecolor\": \"white\", \"ticks\": \"\"}, \"bgcolor\": \"#E5ECF6\", \"caxis\": {\"gridcolor\": \"white\", \"linecolor\": \"white\", \"ticks\": \"\"}}, \"title\": {\"x\": 0.05}, \"xaxis\": {\"automargin\": true, \"gridcolor\": \"white\", \"linecolor\": \"white\", \"ticks\": \"\", \"title\": {\"standoff\": 15}, \"zerolinecolor\": \"white\", \"zerolinewidth\": 2}, \"yaxis\": {\"automargin\": true, \"gridcolor\": \"white\", \"linecolor\": \"white\", \"ticks\": \"\", \"title\": {\"standoff\": 15}, \"zerolinecolor\": \"white\", \"zerolinewidth\": 2}}}, \"title\": {\"text\": \"Timeline showing sentiment of tweets about COVID-19 vaccines\"}, \"xaxis\": {\"anchor\": \"y\", \"domain\": [0.0, 1.0], \"title\": {\"text\": \"date\"}}, \"yaxis\": {\"anchor\": \"x\", \"domain\": [0.0, 1.0], \"title\": {\"text\": \"sentiment\"}}},\n",
              "                        {\"responsive\": true}\n",
              "                    ).then(function(){\n",
              "                            \n",
              "var gd = document.getElementById('0600955f-ab85-480d-b3ff-f1927f23e8fe');\n",
              "var x = new MutationObserver(function (mutations, observer) {{\n",
              "        var display = window.getComputedStyle(gd).display;\n",
              "        if (!display || display === 'none') {{\n",
              "            console.log([gd, 'removed!']);\n",
              "            Plotly.purge(gd);\n",
              "            observer.disconnect();\n",
              "        }}\n",
              "}});\n",
              "\n",
              "// Listen for the removal of the full notebook cells\n",
              "var notebookContainer = gd.closest('#notebook-container');\n",
              "if (notebookContainer) {{\n",
              "    x.observe(notebookContainer, {childList: true});\n",
              "}}\n",
              "\n",
              "// Listen for the clearing of the current output cell\n",
              "var outputEl = gd.closest('.output');\n",
              "if (outputEl) {{\n",
              "    x.observe(outputEl, {childList: true});\n",
              "}}\n",
              "\n",
              "                        })\n",
              "                };\n",
              "                \n",
              "            </script>\n",
              "        </div>\n",
              "</body>\n",
              "</html>"
            ]
          },
          "metadata": {
            "tags": []
          }
        }
      ]
    },
    {
      "cell_type": "markdown",
      "metadata": {
        "id": "sk0xCVh8OUDl"
      },
      "source": [
        "We observe some peaks (positive or negative) on some dates but it can be explained :\n",
        "\n",
        "* **December 20th** : several countries in EU decide to close their boarders with the UK because of the suspicion of English variant. (negative peek)\n",
        "\n",
        "* **January 3rd** : UK announced a new lockdown due to the variant. (negative peek)\n",
        "\n",
        "* **February 6th** : worries about variants in NYC. (negative peek)\n",
        "\n",
        "* **Since February** : improvment due the generalization of the vaccination in the world. (positive trend)"
      ]
    },
    {
      "cell_type": "code",
      "metadata": {
        "id": "Hqz8XOIUvNkY",
        "colab": {
          "base_uri": "https://localhost:8080/",
          "height": 333
        },
        "outputId": "778ffa57-6146-4b77-ec96-1118d26bcf35"
      },
      "source": [
        "plt.hist(vax_tweets['sentiment_prob'].astype('float'),bins=[0,0.1,0.2,0.3,0.4,0.5,0.6,0.7,0.8,0.9,1])"
      ],
      "execution_count": null,
      "outputs": [
        {
          "output_type": "execute_result",
          "data": {
            "text/plain": [
              "(array([12918.,  1480.,  1031.,   837.,   819.,   750.,   918.,  1182.,\n",
              "         2122., 17663.]),\n",
              " array([0. , 0.1, 0.2, 0.3, 0.4, 0.5, 0.6, 0.7, 0.8, 0.9, 1. ]),\n",
              " <a list of 10 Patch objects>)"
            ]
          },
          "metadata": {
            "tags": []
          },
          "execution_count": 52
        },
        {
          "output_type": "display_data",
          "data": {
            "image/png": "[encoded data removed]",
            "text/plain": [
              "<Figure size 432x288 with 1 Axes>"
            ]
          },
          "metadata": {
            "tags": [],
            "needs_background": "light"
          }
        }
      ]
    },
    {
      "cell_type": "markdown",
      "metadata": {
        "id": "RaO0pWYWPLFP"
      },
      "source": [
        "We observe that the sentiment seems very polarized but also that there is some sentiment around 0.5, so we decide to create a new category \"neutral\" for sentiments between 0.3 and 0.7."
      ]
    },
    {
      "cell_type": "code",
      "metadata": {
        "id": "L7uEMlGC7yy0"
      },
      "source": [
        "liste_prob = vax_tweets['sentiment_prob'].astype(float)\n",
        "sent = [\"positif\" if val >= 0.7 else \"negatif\" if val <= 0.3 else \"neutre\" for val in liste_prob]"
      ],
      "execution_count": null,
      "outputs": []
    },
    {
      "cell_type": "code",
      "metadata": {
        "id": "CTiNBwJv891A"
      },
      "source": [
        "vax_tweets['new_sent'] = sent"
      ],
      "execution_count": null,
      "outputs": []
    },
    {
      "cell_type": "code",
      "metadata": {
        "id": "fd-mWTNu-R5P"
      },
      "source": [
        "#vax_tweets.to_csv('/content/drive/MyDrive/NLP/vax_with_neutral.csv')"
      ],
      "execution_count": null,
      "outputs": []
    },
    {
      "cell_type": "code",
      "metadata": {
        "colab": {
          "base_uri": "https://localhost:8080/",
          "height": 542
        },
        "id": "_3GB1omO9Am7",
        "outputId": "a35106f3-0e8b-4021-9ece-694e152b6614"
      },
      "source": [
        "vax_tweets['date'] = pd.to_datetime(vax_tweets['date'], errors='coerce').dt.date\n",
        "timeline = vax_tweets.groupby(['date', 'new_sent']).agg(**{'tweets': ('id', 'count')}).reset_index().dropna()\n",
        "\n",
        "# Plot results\n",
        "import plotly.express as px\n",
        "fig = px.line(timeline, x='date', y='tweets', color='new_sent', category_orders={'sentiment': ['positif','negatif','neutre']},\n",
        "             title='Timeline showing sentiment of tweets about COVID-19 vaccines')\n",
        "fig.show()"
      ],
      "execution_count": null,
      "outputs": [
        {
          "output_type": "display_data",
          "data": {
            "text/html": [
              "<html>\n",
              "<head><meta charset=\"utf-8\" /></head>\n",
              "<body>\n",
              "    <div>\n",
              "            <script src=\"https://cdnjs.cloudflare.com/ajax/libs/mathjax/2.7.5/MathJax.js?config=TeX-AMS-MML_SVG\"></script><script type=\"text/javascript\">if (window.MathJax) {MathJax.Hub.Config({SVG: {font: \"STIX-Web\"}});}</script>\n",
              "                <script type=\"text/javascript\">window.PlotlyConfig = {MathJaxConfig: 'local'};</script>\n",
              "        <script src=\"https://cdn.plot.ly/plotly-latest.min.js\"></script>    \n",
              "            <div id=\"de5cfa57-c383-4e3a-a9f5-3c5e3b6988a8\" class=\"plotly-graph-div\" style=\"height:525px; width:100%;\"></div>\n",
              "            <script type=\"text/javascript\">\n",
              "                \n",
              "                    window.PLOTLYENV=window.PLOTLYENV || {};\n",
              "                    \n",
              "                if (document.getElementById(\"de5cfa57-c383-4e3a-a9f5-3c5e3b6988a8\")) {\n",
              "                    Plotly.newPlot(\n",
              "                        'de5cfa57-c383-4e3a-a9f5-3c5e3b6988a8',\n",
              "                        [{\"hoverlabel\": {\"namelength\": 0}, \"hovertemplate\": \"new_sent=negatif<br>date=%{x}<br>tweets=%{y}\", \"legendgroup\": \"new_sent=negatif\", \"line\": {\"color\": \"#636efa\", \"dash\": \"solid\"}, \"mode\": \"lines\", \"name\": \"new_sent=negatif\", \"showlegend\": true, \"type\": \"scatter\", \"x\": [\"2020-12-12\", \"2020-12-13\", \"2020-12-14\", \"2020-12-15\", \"2020-12-16\", \"2020-12-17\", \"2020-12-18\", \"2020-12-19\", \"2020-12-20\", \"2020-12-21\", \"2020-12-22\", \"2020-12-23\", \"2020-12-24\", \"2020-12-25\", \"2020-12-26\", \"2020-12-27\", \"2020-12-28\", \"2020-12-29\", \"2020-12-30\", \"2020-12-31\", \"2021-01-01\", \"2021-01-02\", \"2021-01-03\", \"2021-01-04\", \"2021-01-05\", \"2021-01-06\", \"2021-01-07\", \"2021-01-08\", \"2021-01-09\", \"2021-01-10\", \"2021-01-11\", \"2021-01-12\", \"2021-01-13\", \"2021-01-14\", \"2021-01-15\", \"2021-01-16\", \"2021-01-17\", \"2021-01-18\", \"2021-01-19\", \"2021-01-20\", \"2021-01-21\", \"2021-01-22\", \"2021-01-23\", \"2021-01-24\", \"2021-01-25\", \"2021-01-26\", \"2021-01-27\", \"2021-01-28\", \"2021-01-29\", \"2021-01-30\", \"2021-01-31\", \"2021-02-01\", \"2021-02-02\", \"2021-02-03\", \"2021-02-04\", \"2021-02-05\", \"2021-02-06\", \"2021-02-07\", \"2021-02-08\", \"2021-02-09\", \"2021-02-10\", \"2021-02-11\", \"2021-02-12\", \"2021-02-13\", \"2021-02-14\", \"2021-02-15\", \"2021-02-16\", \"2021-02-17\", \"2021-02-18\", \"2021-02-19\", \"2021-02-20\", \"2021-02-21\", \"2021-02-22\", \"2021-02-23\", \"2021-02-24\", \"2021-02-25\", \"2021-02-26\", \"2021-02-27\", \"2021-02-28\", \"2021-03-01\", \"2021-03-02\", \"2021-03-03\", \"2021-03-04\", \"2021-03-05\", \"2021-03-06\", \"2021-03-07\", \"2021-03-08\", \"2021-03-09\", \"2021-03-10\", \"2021-03-11\", \"2021-03-12\", \"2021-03-13\", \"2021-03-14\", \"2021-03-15\", \"2021-03-16\", \"2021-03-17\", \"2021-03-18\", \"2021-03-19\", \"2021-03-20\", \"2021-03-21\", \"2021-03-22\", \"2021-03-23\", \"2021-03-24\", \"2021-03-25\", \"2021-03-26\", \"2021-03-27\", \"2021-03-28\"], \"xaxis\": \"x\", \"y\": [24, 43, 43, 50, 60, 48, 34, 42, 34, 32, 42, 38, 39, 12, 16, 15, 19, 35, 47, 29, 37, 33, 31, 40, 37, 47, 37, 76, 86, 52, 33, 36, 41, 29, 82, 69, 57, 37, 45, 42, 66, 30, 29, 28, 34, 38, 35, 34, 36, 36, 11, 8, 17, 12, 29, 28, 21, 131, 207, 182, 210, 189, 201, 161, 85, 132, 161, 205, 208, 184, 153, 116, 157, 157, 195, 202, 249, 177, 199, 888, 330, 382, 341, 297, 202, 155, 224, 273, 301, 384, 357, 233, 209, 467, 611, 430, 403, 384, 409, 281, 370, 351, 354, 295, 223, 223, 50], \"yaxis\": \"y\"}, {\"hoverlabel\": {\"namelength\": 0}, \"hovertemplate\": \"new_sent=neutre<br>date=%{x}<br>tweets=%{y}\", \"legendgroup\": \"new_sent=neutre\", \"line\": {\"color\": \"#EF553B\", \"dash\": \"solid\"}, \"mode\": \"lines\", \"name\": \"new_sent=neutre\", \"showlegend\": true, \"type\": \"scatter\", \"x\": [\"2020-12-12\", \"2020-12-13\", \"2020-12-14\", \"2020-12-15\", \"2020-12-16\", \"2020-12-17\", \"2020-12-18\", \"2020-12-19\", \"2020-12-20\", \"2020-12-21\", \"2020-12-22\", \"2020-12-23\", \"2020-12-24\", \"2020-12-25\", \"2020-12-26\", \"2020-12-27\", \"2020-12-28\", \"2020-12-29\", \"2020-12-30\", \"2020-12-31\", \"2021-01-01\", \"2021-01-02\", \"2021-01-03\", \"2021-01-04\", \"2021-01-05\", \"2021-01-06\", \"2021-01-07\", \"2021-01-08\", \"2021-01-09\", \"2021-01-10\", \"2021-01-11\", \"2021-01-12\", \"2021-01-13\", \"2021-01-14\", \"2021-01-15\", \"2021-01-16\", \"2021-01-17\", \"2021-01-18\", \"2021-01-19\", \"2021-01-20\", \"2021-01-21\", \"2021-01-22\", \"2021-01-23\", \"2021-01-24\", \"2021-01-25\", \"2021-01-26\", \"2021-01-27\", \"2021-01-28\", \"2021-01-29\", \"2021-01-30\", \"2021-01-31\", \"2021-02-01\", \"2021-02-02\", \"2021-02-03\", \"2021-02-04\", \"2021-02-05\", \"2021-02-06\", \"2021-02-07\", \"2021-02-08\", \"2021-02-09\", \"2021-02-10\", \"2021-02-11\", \"2021-02-12\", \"2021-02-13\", \"2021-02-14\", \"2021-02-15\", \"2021-02-16\", \"2021-02-17\", \"2021-02-18\", \"2021-02-19\", \"2021-02-20\", \"2021-02-21\", \"2021-02-22\", \"2021-02-23\", \"2021-02-24\", \"2021-02-25\", \"2021-02-26\", \"2021-02-27\", \"2021-02-28\", \"2021-03-01\", \"2021-03-02\", \"2021-03-03\", \"2021-03-04\", \"2021-03-05\", \"2021-03-06\", \"2021-03-07\", \"2021-03-08\", \"2021-03-09\", \"2021-03-10\", \"2021-03-11\", \"2021-03-12\", \"2021-03-13\", \"2021-03-14\", \"2021-03-15\", \"2021-03-16\", \"2021-03-17\", \"2021-03-18\", \"2021-03-19\", \"2021-03-20\", \"2021-03-21\", \"2021-03-22\", \"2021-03-23\", \"2021-03-24\", \"2021-03-25\", \"2021-03-26\", \"2021-03-27\", \"2021-03-28\"], \"xaxis\": \"x\", \"y\": [11, 5, 17, 19, 19, 9, 9, 6, 6, 15, 14, 13, 6, 3, 3, 3, 5, 5, 12, 3, 13, 6, 5, 4, 5, 5, 5, 18, 9, 6, 3, 6, 7, 10, 9, 6, 2, 2, 6, 10, 15, 2, 7, 5, 7, 5, 7, 6, 6, 4, 4, 4, 6, 5, 6, 8, 5, 30, 48, 34, 41, 26, 28, 31, 19, 27, 47, 43, 50, 42, 36, 33, 54, 35, 74, 59, 60, 49, 37, 232, 84, 112, 93, 76, 45, 28, 47, 62, 69, 77, 57, 28, 35, 91, 126, 78, 79, 81, 84, 52, 71, 48, 67, 58, 64, 39, 16], \"yaxis\": \"y\"}, {\"hoverlabel\": {\"namelength\": 0}, \"hovertemplate\": \"new_sent=positif<br>date=%{x}<br>tweets=%{y}\", \"legendgroup\": \"new_sent=positif\", \"line\": {\"color\": \"#00cc96\", \"dash\": \"solid\"}, \"mode\": \"lines\", \"name\": \"new_sent=positif\", \"showlegend\": true, \"type\": \"scatter\", \"x\": [\"2020-12-12\", \"2020-12-13\", \"2020-12-14\", \"2020-12-15\", \"2020-12-16\", \"2020-12-17\", \"2020-12-18\", \"2020-12-19\", \"2020-12-20\", \"2020-12-21\", \"2020-12-22\", \"2020-12-23\", \"2020-12-24\", \"2020-12-25\", \"2020-12-26\", \"2020-12-27\", \"2020-12-28\", \"2020-12-29\", \"2020-12-30\", \"2020-12-31\", \"2021-01-01\", \"2021-01-02\", \"2021-01-03\", \"2021-01-04\", \"2021-01-05\", \"2021-01-06\", \"2021-01-07\", \"2021-01-08\", \"2021-01-09\", \"2021-01-10\", \"2021-01-11\", \"2021-01-12\", \"2021-01-13\", \"2021-01-14\", \"2021-01-15\", \"2021-01-16\", \"2021-01-17\", \"2021-01-18\", \"2021-01-19\", \"2021-01-20\", \"2021-01-21\", \"2021-01-22\", \"2021-01-23\", \"2021-01-24\", \"2021-01-25\", \"2021-01-26\", \"2021-01-27\", \"2021-01-28\", \"2021-01-29\", \"2021-01-30\", \"2021-01-31\", \"2021-02-01\", \"2021-02-02\", \"2021-02-03\", \"2021-02-04\", \"2021-02-05\", \"2021-02-06\", \"2021-02-07\", \"2021-02-08\", \"2021-02-09\", \"2021-02-10\", \"2021-02-11\", \"2021-02-12\", \"2021-02-13\", \"2021-02-14\", \"2021-02-15\", \"2021-02-16\", \"2021-02-17\", \"2021-02-18\", \"2021-02-19\", \"2021-02-20\", \"2021-02-21\", \"2021-02-22\", \"2021-02-23\", \"2021-02-24\", \"2021-02-25\", \"2021-02-26\", \"2021-02-27\", \"2021-02-28\", \"2021-03-01\", \"2021-03-02\", \"2021-03-03\", \"2021-03-04\", \"2021-03-05\", \"2021-03-06\", \"2021-03-07\", \"2021-03-08\", \"2021-03-09\", \"2021-03-10\", \"2021-03-11\", \"2021-03-12\", \"2021-03-13\", \"2021-03-14\", \"2021-03-15\", \"2021-03-16\", \"2021-03-17\", \"2021-03-18\", \"2021-03-19\", \"2021-03-20\", \"2021-03-21\", \"2021-03-22\", \"2021-03-23\", \"2021-03-24\", \"2021-03-25\", \"2021-03-26\", \"2021-03-27\", \"2021-03-28\"], \"xaxis\": \"x\", \"y\": [28, 50, 77, 81, 65, 82, 69, 62, 28, 55, 101, 72, 69, 25, 28, 41, 29, 45, 48, 40, 45, 44, 20, 28, 69, 60, 34, 116, 75, 60, 57, 64, 63, 67, 57, 54, 40, 27, 49, 52, 64, 33, 29, 20, 36, 48, 47, 40, 54, 33, 15, 19, 30, 20, 34, 34, 13, 178, 256, 243, 253, 233, 268, 199, 155, 184, 213, 251, 304, 291, 204, 120, 269, 214, 389, 361, 368, 236, 272, 1791, 445, 855, 581, 444, 310, 204, 275, 373, 390, 450, 439, 277, 203, 400, 678, 473, 487, 507, 502, 286, 476, 401, 450, 368, 338, 288, 70], \"yaxis\": \"y\"}],\n",
              "                        {\"legend\": {\"tracegroupgap\": 0}, \"template\": {\"data\": {\"bar\": [{\"error_x\": {\"color\": \"#2a3f5f\"}, \"error_y\": {\"color\": \"#2a3f5f\"}, \"marker\": {\"line\": {\"color\": \"#E5ECF6\", \"width\": 0.5}}, \"type\": \"bar\"}], \"barpolar\": [{\"marker\": {\"line\": {\"color\": \"#E5ECF6\", \"width\": 0.5}}, \"type\": \"barpolar\"}], \"carpet\": [{\"aaxis\": {\"endlinecolor\": \"#2a3f5f\", \"gridcolor\": \"white\", \"linecolor\": \"white\", \"minorgridcolor\": \"white\", \"startlinecolor\": \"#2a3f5f\"}, \"baxis\": {\"endlinecolor\": \"#2a3f5f\", \"gridcolor\": \"white\", \"linecolor\": \"white\", \"minorgridcolor\": \"white\", \"startlinecolor\": \"#2a3f5f\"}, \"type\": \"carpet\"}], \"choropleth\": [{\"colorbar\": {\"outlinewidth\": 0, \"ticks\": \"\"}, \"type\": \"choropleth\"}], \"contour\": [{\"colorbar\": {\"outlinewidth\": 0, \"ticks\": \"\"}, \"colorscale\": [[0.0, \"#0d0887\"], [0.1111111111111111, \"#46039f\"], [0.2222222222222222, \"#7201a8\"], [0.3333333333333333, \"#9c179e\"], [0.4444444444444444, \"#bd3786\"], [0.5555555555555556, \"#d8576b\"], [0.6666666666666666, \"#ed7953\"], [0.7777777777777778, \"#fb9f3a\"], [0.8888888888888888, \"#fdca26\"], [1.0, \"#f0f921\"]], \"type\": \"contour\"}], \"contourcarpet\": [{\"colorbar\": {\"outlinewidth\": 0, \"ticks\": \"\"}, \"type\": \"contourcarpet\"}], \"heatmap\": [{\"colorbar\": {\"outlinewidth\": 0, \"ticks\": \"\"}, \"colorscale\": [[0.0, \"#0d0887\"], [0.1111111111111111, \"#46039f\"], [0.2222222222222222, \"#7201a8\"], [0.3333333333333333, \"#9c179e\"], [0.4444444444444444, \"#bd3786\"], [0.5555555555555556, \"#d8576b\"], [0.6666666666666666, \"#ed7953\"], [0.7777777777777778, \"#fb9f3a\"], [0.8888888888888888, \"#fdca26\"], [1.0, \"#f0f921\"]], \"type\": \"heatmap\"}], \"heatmapgl\": [{\"colorbar\": {\"outlinewidth\": 0, \"ticks\": \"\"}, \"colorscale\": [[0.0, \"#0d0887\"], [0.1111111111111111, \"#46039f\"], [0.2222222222222222, \"#7201a8\"], [0.3333333333333333, \"#9c179e\"], [0.4444444444444444, \"#bd3786\"], [0.5555555555555556, \"#d8576b\"], [0.6666666666666666, \"#ed7953\"], [0.7777777777777778, \"#fb9f3a\"], [0.8888888888888888, \"#fdca26\"], [1.0, \"#f0f921\"]], \"type\": \"heatmapgl\"}], \"histogram\": [{\"marker\": {\"colorbar\": {\"outlinewidth\": 0, \"ticks\": \"\"}}, \"type\": \"histogram\"}], \"histogram2d\": [{\"colorbar\": {\"outlinewidth\": 0, \"ticks\": \"\"}, \"colorscale\": [[0.0, \"#0d0887\"], [0.1111111111111111, \"#46039f\"], [0.2222222222222222, \"#7201a8\"], [0.3333333333333333, \"#9c179e\"], [0.4444444444444444, \"#bd3786\"], [0.5555555555555556, \"#d8576b\"], [0.6666666666666666, \"#ed7953\"], [0.7777777777777778, \"#fb9f3a\"], [0.8888888888888888, \"#fdca26\"], [1.0, \"#f0f921\"]], \"type\": \"histogram2d\"}], \"histogram2dcontour\": [{\"colorbar\": {\"outlinewidth\": 0, \"ticks\": \"\"}, \"colorscale\": [[0.0, \"#0d0887\"], [0.1111111111111111, \"#46039f\"], [0.2222222222222222, \"#7201a8\"], [0.3333333333333333, \"#9c179e\"], [0.4444444444444444, \"#bd3786\"], [0.5555555555555556, \"#d8576b\"], [0.6666666666666666, \"#ed7953\"], [0.7777777777777778, \"#fb9f3a\"], [0.8888888888888888, \"#fdca26\"], [1.0, \"#f0f921\"]], \"type\": \"histogram2dcontour\"}], \"mesh3d\": [{\"colorbar\": {\"outlinewidth\": 0, \"ticks\": \"\"}, \"type\": \"mesh3d\"}], \"parcoords\": [{\"line\": {\"colorbar\": {\"outlinewidth\": 0, \"ticks\": \"\"}}, \"type\": \"parcoords\"}], \"pie\": [{\"automargin\": true, \"type\": \"pie\"}], \"scatter\": [{\"marker\": {\"colorbar\": {\"outlinewidth\": 0, \"ticks\": \"\"}}, \"type\": \"scatter\"}], \"scatter3d\": [{\"line\": {\"colorbar\": {\"outlinewidth\": 0, \"ticks\": \"\"}}, \"marker\": {\"colorbar\": {\"outlinewidth\": 0, \"ticks\": \"\"}}, \"type\": \"scatter3d\"}], \"scattercarpet\": [{\"marker\": {\"colorbar\": {\"outlinewidth\": 0, \"ticks\": \"\"}}, \"type\": \"scattercarpet\"}], \"scattergeo\": [{\"marker\": {\"colorbar\": {\"outlinewidth\": 0, \"ticks\": \"\"}}, \"type\": \"scattergeo\"}], \"scattergl\": [{\"marker\": {\"colorbar\": {\"outlinewidth\": 0, \"ticks\": \"\"}}, \"type\": \"scattergl\"}], \"scattermapbox\": [{\"marker\": {\"colorbar\": {\"outlinewidth\": 0, \"ticks\": \"\"}}, \"type\": \"scattermapbox\"}], \"scatterpolar\": [{\"marker\": {\"colorbar\": {\"outlinewidth\": 0, \"ticks\": \"\"}}, \"type\": \"scatterpolar\"}], \"scatterpolargl\": [{\"marker\": {\"colorbar\": {\"outlinewidth\": 0, \"ticks\": \"\"}}, \"type\": \"scatterpolargl\"}], \"scatterternary\": [{\"marker\": {\"colorbar\": {\"outlinewidth\": 0, \"ticks\": \"\"}}, \"type\": \"scatterternary\"}], \"surface\": [{\"colorbar\": {\"outlinewidth\": 0, \"ticks\": \"\"}, \"colorscale\": [[0.0, \"#0d0887\"], [0.1111111111111111, \"#46039f\"], [0.2222222222222222, \"#7201a8\"], [0.3333333333333333, \"#9c179e\"], [0.4444444444444444, \"#bd3786\"], [0.5555555555555556, \"#d8576b\"], [0.6666666666666666, \"#ed7953\"], [0.7777777777777778, \"#fb9f3a\"], [0.8888888888888888, \"#fdca26\"], [1.0, \"#f0f921\"]], \"type\": \"surface\"}], \"table\": [{\"cells\": {\"fill\": {\"color\": \"#EBF0F8\"}, \"line\": {\"color\": \"white\"}}, \"header\": {\"fill\": {\"color\": \"#C8D4E3\"}, \"line\": {\"color\": \"white\"}}, \"type\": \"table\"}]}, \"layout\": {\"annotationdefaults\": {\"arrowcolor\": \"#2a3f5f\", \"arrowhead\": 0, \"arrowwidth\": 1}, \"coloraxis\": {\"colorbar\": {\"outlinewidth\": 0, \"ticks\": \"\"}}, \"colorscale\": {\"diverging\": [[0, \"#8e0152\"], [0.1, \"#c51b7d\"], [0.2, \"#de77ae\"], [0.3, \"#f1b6da\"], [0.4, \"#fde0ef\"], [0.5, \"#f7f7f7\"], [0.6, \"#e6f5d0\"], [0.7, \"#b8e186\"], [0.8, \"#7fbc41\"], [0.9, \"#4d9221\"], [1, \"#276419\"]], \"sequential\": [[0.0, \"#0d0887\"], [0.1111111111111111, \"#46039f\"], [0.2222222222222222, \"#7201a8\"], [0.3333333333333333, \"#9c179e\"], [0.4444444444444444, \"#bd3786\"], [0.5555555555555556, \"#d8576b\"], [0.6666666666666666, \"#ed7953\"], [0.7777777777777778, \"#fb9f3a\"], [0.8888888888888888, \"#fdca26\"], [1.0, \"#f0f921\"]], \"sequentialminus\": [[0.0, \"#0d0887\"], [0.1111111111111111, \"#46039f\"], [0.2222222222222222, \"#7201a8\"], [0.3333333333333333, \"#9c179e\"], [0.4444444444444444, \"#bd3786\"], [0.5555555555555556, \"#d8576b\"], [0.6666666666666666, \"#ed7953\"], [0.7777777777777778, \"#fb9f3a\"], [0.8888888888888888, \"#fdca26\"], [1.0, \"#f0f921\"]]}, \"colorway\": [\"#636efa\", \"#EF553B\", \"#00cc96\", \"#ab63fa\", \"#FFA15A\", \"#19d3f3\", \"#FF6692\", \"#B6E880\", \"#FF97FF\", \"#FECB52\"], \"font\": {\"color\": \"#2a3f5f\"}, \"geo\": {\"bgcolor\": \"white\", \"lakecolor\": \"white\", \"landcolor\": \"#E5ECF6\", \"showlakes\": true, \"showland\": true, \"subunitcolor\": \"white\"}, \"hoverlabel\": {\"align\": \"left\"}, \"hovermode\": \"closest\", \"mapbox\": {\"style\": \"light\"}, \"paper_bgcolor\": \"white\", \"plot_bgcolor\": \"#E5ECF6\", \"polar\": {\"angularaxis\": {\"gridcolor\": \"white\", \"linecolor\": \"white\", \"ticks\": \"\"}, \"bgcolor\": \"#E5ECF6\", \"radialaxis\": {\"gridcolor\": \"white\", \"linecolor\": \"white\", \"ticks\": \"\"}}, \"scene\": {\"xaxis\": {\"backgroundcolor\": \"#E5ECF6\", \"gridcolor\": \"white\", \"gridwidth\": 2, \"linecolor\": \"white\", \"showbackground\": true, \"ticks\": \"\", \"zerolinecolor\": \"white\"}, \"yaxis\": {\"backgroundcolor\": \"#E5ECF6\", \"gridcolor\": \"white\", \"gridwidth\": 2, \"linecolor\": \"white\", \"showbackground\": true, \"ticks\": \"\", \"zerolinecolor\": \"white\"}, \"zaxis\": {\"backgroundcolor\": \"#E5ECF6\", \"gridcolor\": \"white\", \"gridwidth\": 2, \"linecolor\": \"white\", \"showbackground\": true, \"ticks\": \"\", \"zerolinecolor\": \"white\"}}, \"shapedefaults\": {\"line\": {\"color\": \"#2a3f5f\"}}, \"ternary\": {\"aaxis\": {\"gridcolor\": \"white\", \"linecolor\": \"white\", \"ticks\": \"\"}, \"baxis\": {\"gridcolor\": \"white\", \"linecolor\": \"white\", \"ticks\": \"\"}, \"bgcolor\": \"#E5ECF6\", \"caxis\": {\"gridcolor\": \"white\", \"linecolor\": \"white\", \"ticks\": \"\"}}, \"title\": {\"x\": 0.05}, \"xaxis\": {\"automargin\": true, \"gridcolor\": \"white\", \"linecolor\": \"white\", \"ticks\": \"\", \"title\": {\"standoff\": 15}, \"zerolinecolor\": \"white\", \"zerolinewidth\": 2}, \"yaxis\": {\"automargin\": true, \"gridcolor\": \"white\", \"linecolor\": \"white\", \"ticks\": \"\", \"title\": {\"standoff\": 15}, \"zerolinecolor\": \"white\", \"zerolinewidth\": 2}}}, \"title\": {\"text\": \"Timeline showing sentiment of tweets about COVID-19 vaccines\"}, \"xaxis\": {\"anchor\": \"y\", \"domain\": [0.0, 1.0], \"title\": {\"text\": \"date\"}}, \"yaxis\": {\"anchor\": \"x\", \"domain\": [0.0, 1.0], \"title\": {\"text\": \"tweets\"}}},\n",
              "                        {\"responsive\": true}\n",
              "                    ).then(function(){\n",
              "                            \n",
              "var gd = document.getElementById('de5cfa57-c383-4e3a-a9f5-3c5e3b6988a8');\n",
              "var x = new MutationObserver(function (mutations, observer) {{\n",
              "        var display = window.getComputedStyle(gd).display;\n",
              "        if (!display || display === 'none') {{\n",
              "            console.log([gd, 'removed!']);\n",
              "            Plotly.purge(gd);\n",
              "            observer.disconnect();\n",
              "        }}\n",
              "}});\n",
              "\n",
              "// Listen for the removal of the full notebook cells\n",
              "var notebookContainer = gd.closest('#notebook-container');\n",
              "if (notebookContainer) {{\n",
              "    x.observe(notebookContainer, {childList: true});\n",
              "}}\n",
              "\n",
              "// Listen for the clearing of the current output cell\n",
              "var outputEl = gd.closest('.output');\n",
              "if (outputEl) {{\n",
              "    x.observe(outputEl, {childList: true});\n",
              "}}\n",
              "\n",
              "                        })\n",
              "                };\n",
              "                \n",
              "            </script>\n",
              "        </div>\n",
              "</body>\n",
              "</html>"
            ]
          },
          "metadata": {
            "tags": []
          }
        }
      ]
    },
    {
      "cell_type": "code",
      "metadata": {
        "id": "OET-QLci9Hyx"
      },
      "source": [
        "dates = list(timeline['date'].unique())\n",
        "timeline_neutre = []\n",
        "timeline_pos = []\n",
        "timeline_neg = []\n",
        "for date in dates:\n",
        "  pos = list(timeline[timeline[\"date\"]==date]['tweets'])\n",
        "  timeline_pos.append([date,pos[2]/(pos[0]+pos[1]+pos[2])])\n",
        "  timeline_neutre.append([date,pos[1]/(pos[0]+pos[1]+pos[2])])\n",
        "  timeline_neg.append([date,pos[0]/(pos[0]+pos[1]+pos[2])])"
      ],
      "execution_count": null,
      "outputs": []
    },
    {
      "cell_type": "code",
      "metadata": {
        "id": "dIsOmkIb9gyW"
      },
      "source": [
        "tot = []\n",
        "for (a,b,c) in zip(timeline_neg,timeline_neutre,timeline_pos):\n",
        "  tot += [a[1],b[1],c[1]]"
      ],
      "execution_count": null,
      "outputs": []
    },
    {
      "cell_type": "code",
      "metadata": {
        "id": "6IuyC9GBXdge"
      },
      "source": [
        "timeline['sent_ratio'] = tot"
      ],
      "execution_count": null,
      "outputs": []
    },
    {
      "cell_type": "code",
      "metadata": {
        "colab": {
          "base_uri": "https://localhost:8080/",
          "height": 542
        },
        "id": "-Oiz7D85Xk2F",
        "outputId": "fb778ae7-ec3d-4fc2-8468-f7921c5d9d3b"
      },
      "source": [
        "fig = px.line(timeline, x='date', y='sent_ratio', color='new_sent', category_orders={'sentiment': ['positif','negatif','neutre']},\n",
        "             title='Timeline showing sentiment of tweets about COVID-19 vaccines')\n",
        "fig.show()"
      ],
      "execution_count": null,
      "outputs": [
        {
          "output_type": "display_data",
          "data": {
            "text/html": [
              "<html>\n",
              "<head><meta charset=\"utf-8\" /></head>\n",
              "<body>\n",
              "    <div>\n",
              "            <script src=\"https://cdnjs.cloudflare.com/ajax/libs/mathjax/2.7.5/MathJax.js?config=TeX-AMS-MML_SVG\"></script><script type=\"text/javascript\">if (window.MathJax) {MathJax.Hub.Config({SVG: {font: \"STIX-Web\"}});}</script>\n",
              "                <script type=\"text/javascript\">window.PlotlyConfig = {MathJaxConfig: 'local'};</script>\n",
              "        <script src=\"https://cdn.plot.ly/plotly-latest.min.js\"></script>    \n",
              "            <div id=\"6ffc856b-13f5-41c1-a3ef-c7bcc438a127\" class=\"plotly-graph-div\" style=\"height:525px; width:100%;\"></div>\n",
              "            <script type=\"text/javascript\">\n",
              "                \n",
              "                    window.PLOTLYENV=window.PLOTLYENV || {};\n",
              "                    \n",
              "                if (document.getElementById(\"6ffc856b-13f5-41c1-a3ef-c7bcc438a127\")) {\n",
              "                    Plotly.newPlot(\n",
              "                        '6ffc856b-13f5-41c1-a3ef-c7bcc438a127',\n",
              "                        [{\"hoverlabel\": {\"namelength\": 0}, \"hovertemplate\": \"new_sent=negatif<br>date=%{x}<br>sent_ratio=%{y}\", \"legendgroup\": \"new_sent=negatif\", \"line\": {\"color\": \"#636efa\", \"dash\": \"solid\"}, \"mode\": \"lines\", \"name\": \"new_sent=negatif\", \"showlegend\": true, \"type\": \"scatter\", \"x\": [\"2020-12-12\", \"2020-12-13\", \"2020-12-14\", \"2020-12-15\", \"2020-12-16\", \"2020-12-17\", \"2020-12-18\", \"2020-12-19\", \"2020-12-20\", \"2020-12-21\", \"2020-12-22\", \"2020-12-23\", \"2020-12-24\", \"2020-12-25\", \"2020-12-26\", \"2020-12-27\", \"2020-12-28\", \"2020-12-29\", \"2020-12-30\", \"2020-12-31\", \"2021-01-01\", \"2021-01-02\", \"2021-01-03\", \"2021-01-04\", \"2021-01-05\", \"2021-01-06\", \"2021-01-07\", \"2021-01-08\", \"2021-01-09\", \"2021-01-10\", \"2021-01-11\", \"2021-01-12\", \"2021-01-13\", \"2021-01-14\", \"2021-01-15\", \"2021-01-16\", \"2021-01-17\", \"2021-01-18\", \"2021-01-19\", \"2021-01-20\", \"2021-01-21\", \"2021-01-22\", \"2021-01-23\", \"2021-01-24\", \"2021-01-25\", \"2021-01-26\", \"2021-01-27\", \"2021-01-28\", \"2021-01-29\", \"2021-01-30\", \"2021-01-31\", \"2021-02-01\", \"2021-02-02\", \"2021-02-03\", \"2021-02-04\", \"2021-02-05\", \"2021-02-06\", \"2021-02-07\", \"2021-02-08\", \"2021-02-09\", \"2021-02-10\", \"2021-02-11\", \"2021-02-12\", \"2021-02-13\", \"2021-02-14\", \"2021-02-15\", \"2021-02-16\", \"2021-02-17\", \"2021-02-18\", \"2021-02-19\", \"2021-02-20\", \"2021-02-21\", \"2021-02-22\", \"2021-02-23\", \"2021-02-24\", \"2021-02-25\", \"2021-02-26\", \"2021-02-27\", \"2021-02-28\", \"2021-03-01\", \"2021-03-02\", \"2021-03-03\", \"2021-03-04\", \"2021-03-05\", \"2021-03-06\", \"2021-03-07\", \"2021-03-08\", \"2021-03-09\", \"2021-03-10\", \"2021-03-11\", \"2021-03-12\", \"2021-03-13\", \"2021-03-14\", \"2021-03-15\", \"2021-03-16\", \"2021-03-17\", \"2021-03-18\", \"2021-03-19\", \"2021-03-20\", \"2021-03-21\", \"2021-03-22\", \"2021-03-23\", \"2021-03-24\", \"2021-03-25\", \"2021-03-26\", \"2021-03-27\", \"2021-03-28\"], \"xaxis\": \"x\", \"y\": [0.38095238095238093, 0.4387755102040816, 0.31386861313868614, 0.3333333333333333, 0.4166666666666667, 0.34532374100719426, 0.30357142857142855, 0.38181818181818183, 0.5, 0.3137254901960784, 0.267515923566879, 0.3089430894308943, 0.34210526315789475, 0.3, 0.3404255319148936, 0.2542372881355932, 0.3584905660377358, 0.4117647058823529, 0.4392523364485981, 0.4027777777777778, 0.3894736842105263, 0.39759036144578314, 0.5535714285714286, 0.5555555555555556, 0.3333333333333333, 0.41964285714285715, 0.4868421052631579, 0.3619047619047619, 0.5058823529411764, 0.4406779661016949, 0.3548387096774194, 0.33962264150943394, 0.36936936936936937, 0.27358490566037735, 0.5540540540540541, 0.5348837209302325, 0.5757575757575758, 0.5606060606060606, 0.45, 0.40384615384615385, 0.45517241379310347, 0.46153846153846156, 0.4461538461538462, 0.5283018867924528, 0.44155844155844154, 0.4175824175824176, 0.39325842696629215, 0.425, 0.375, 0.4931506849315068, 0.36666666666666664, 0.25806451612903225, 0.32075471698113206, 0.32432432432432434, 0.42028985507246375, 0.4, 0.5384615384615384, 0.3864306784660767, 0.4050880626223092, 0.39651416122004357, 0.4166666666666667, 0.421875, 0.4044265593561368, 0.4117647058823529, 0.3281853281853282, 0.3848396501457726, 0.3824228028503563, 0.41082164328657317, 0.3701067615658363, 0.35589941972920697, 0.3893129770992366, 0.4312267657992565, 0.32708333333333334, 0.3866995073891626, 0.29635258358662614, 0.3247588424437299, 0.36779911373707536, 0.38311688311688313, 0.39173228346456695, 0.30504981106149087, 0.3841676367869616, 0.28317272053372866, 0.3359605911330049, 0.3635250917992656, 0.362657091561939, 0.4005167958656331, 0.41025641025641024, 0.3855932203389831, 0.3960526315789474, 0.42151481888035125, 0.41852286049237986, 0.43308550185873607, 0.46756152125279643, 0.48747390396659707, 0.4318021201413428, 0.4383282364933741, 0.41589267285861714, 0.3950617283950617, 0.41105527638190953, 0.45395799676898224, 0.4034896401308615, 0.43875, 0.40642939150401836, 0.4091539528432732, 0.3568, 0.40545454545454546, 0.36764705882352944], \"yaxis\": \"y\"}, {\"hoverlabel\": {\"namelength\": 0}, \"hovertemplate\": \"new_sent=neutre<br>date=%{x}<br>sent_ratio=%{y}\", \"legendgroup\": \"new_sent=neutre\", \"line\": {\"color\": \"#EF553B\", \"dash\": \"solid\"}, \"mode\": \"lines\", \"name\": \"new_sent=neutre\", \"showlegend\": true, \"type\": \"scatter\", \"x\": [\"2020-12-12\", \"2020-12-13\", \"2020-12-14\", \"2020-12-15\", \"2020-12-16\", \"2020-12-17\", \"2020-12-18\", \"2020-12-19\", \"2020-12-20\", \"2020-12-21\", \"2020-12-22\", \"2020-12-23\", \"2020-12-24\", \"2020-12-25\", \"2020-12-26\", \"2020-12-27\", \"2020-12-28\", \"2020-12-29\", \"2020-12-30\", \"2020-12-31\", \"2021-01-01\", \"2021-01-02\", \"2021-01-03\", \"2021-01-04\", \"2021-01-05\", \"2021-01-06\", \"2021-01-07\", \"2021-01-08\", \"2021-01-09\", \"2021-01-10\", \"2021-01-11\", \"2021-01-12\", \"2021-01-13\", \"2021-01-14\", \"2021-01-15\", \"2021-01-16\", \"2021-01-17\", \"2021-01-18\", \"2021-01-19\", \"2021-01-20\", \"2021-01-21\", \"2021-01-22\", \"2021-01-23\", \"2021-01-24\", \"2021-01-25\", \"2021-01-26\", \"2021-01-27\", \"2021-01-28\", \"2021-01-29\", \"2021-01-30\", \"2021-01-31\", \"2021-02-01\", \"2021-02-02\", \"2021-02-03\", \"2021-02-04\", \"2021-02-05\", \"2021-02-06\", \"2021-02-07\", \"2021-02-08\", \"2021-02-09\", \"2021-02-10\", \"2021-02-11\", \"2021-02-12\", \"2021-02-13\", \"2021-02-14\", \"2021-02-15\", \"2021-02-16\", \"2021-02-17\", \"2021-02-18\", \"2021-02-19\", \"2021-02-20\", \"2021-02-21\", \"2021-02-22\", \"2021-02-23\", \"2021-02-24\", \"2021-02-25\", \"2021-02-26\", \"2021-02-27\", \"2021-02-28\", \"2021-03-01\", \"2021-03-02\", \"2021-03-03\", \"2021-03-04\", \"2021-03-05\", \"2021-03-06\", \"2021-03-07\", \"2021-03-08\", \"2021-03-09\", \"2021-03-10\", \"2021-03-11\", \"2021-03-12\", \"2021-03-13\", \"2021-03-14\", \"2021-03-15\", \"2021-03-16\", \"2021-03-17\", \"2021-03-18\", \"2021-03-19\", \"2021-03-20\", \"2021-03-21\", \"2021-03-22\", \"2021-03-23\", \"2021-03-24\", \"2021-03-25\", \"2021-03-26\", \"2021-03-27\", \"2021-03-28\"], \"xaxis\": \"x\", \"y\": [0.1746031746031746, 0.05102040816326531, 0.12408759124087591, 0.12666666666666668, 0.13194444444444445, 0.06474820143884892, 0.08035714285714286, 0.05454545454545454, 0.08823529411764706, 0.14705882352941177, 0.08917197452229299, 0.10569105691056911, 0.05263157894736842, 0.075, 0.06382978723404255, 0.05084745762711865, 0.09433962264150944, 0.058823529411764705, 0.11214953271028037, 0.041666666666666664, 0.1368421052631579, 0.07228915662650602, 0.08928571428571429, 0.05555555555555555, 0.04504504504504504, 0.044642857142857144, 0.06578947368421052, 0.08571428571428572, 0.052941176470588235, 0.05084745762711865, 0.03225806451612903, 0.05660377358490566, 0.06306306306306306, 0.09433962264150944, 0.060810810810810814, 0.046511627906976744, 0.020202020202020204, 0.030303030303030304, 0.06, 0.09615384615384616, 0.10344827586206896, 0.03076923076923077, 0.1076923076923077, 0.09433962264150944, 0.09090909090909091, 0.054945054945054944, 0.07865168539325842, 0.075, 0.0625, 0.0547945205479452, 0.13333333333333333, 0.12903225806451613, 0.11320754716981132, 0.13513513513513514, 0.08695652173913043, 0.11428571428571428, 0.1282051282051282, 0.08849557522123894, 0.09393346379647749, 0.07407407407407407, 0.08134920634920635, 0.05803571428571429, 0.056338028169014086, 0.0792838874680307, 0.07335907335907337, 0.07871720116618076, 0.11163895486935867, 0.08617234468937876, 0.08896797153024912, 0.08123791102514506, 0.0916030534351145, 0.12267657992565056, 0.1125, 0.08620689655172414, 0.11246200607902736, 0.09485530546623794, 0.08862629246676514, 0.10606060606060606, 0.07283464566929133, 0.07969769838543456, 0.09778812572759023, 0.08302446256486286, 0.0916256157635468, 0.09302325581395349, 0.0807899461400359, 0.07235142118863049, 0.08608058608058608, 0.08757062146892655, 0.09078947368421053, 0.0845225027442371, 0.0668229777256741, 0.05204460966542751, 0.07829977628635347, 0.09498956158663883, 0.08904593639575972, 0.07951070336391437, 0.08152734778121776, 0.08333333333333333, 0.08442211055276382, 0.0840064620355412, 0.07742639040348964, 0.06, 0.07692307692307693, 0.08044382801664356, 0.1024, 0.07090909090909091, 0.11764705882352941], \"yaxis\": \"y\"}, {\"hoverlabel\": {\"namelength\": 0}, \"hovertemplate\": \"new_sent=positif<br>date=%{x}<br>sent_ratio=%{y}\", \"legendgroup\": \"new_sent=positif\", \"line\": {\"color\": \"#00cc96\", \"dash\": \"solid\"}, \"mode\": \"lines\", \"name\": \"new_sent=positif\", \"showlegend\": true, \"type\": \"scatter\", \"x\": [\"2020-12-12\", \"2020-12-13\", \"2020-12-14\", \"2020-12-15\", \"2020-12-16\", \"2020-12-17\", \"2020-12-18\", \"2020-12-19\", \"2020-12-20\", \"2020-12-21\", \"2020-12-22\", \"2020-12-23\", \"2020-12-24\", \"2020-12-25\", \"2020-12-26\", \"2020-12-27\", \"2020-12-28\", \"2020-12-29\", \"2020-12-30\", \"2020-12-31\", \"2021-01-01\", \"2021-01-02\", \"2021-01-03\", \"2021-01-04\", \"2021-01-05\", \"2021-01-06\", \"2021-01-07\", \"2021-01-08\", \"2021-01-09\", \"2021-01-10\", \"2021-01-11\", \"2021-01-12\", \"2021-01-13\", \"2021-01-14\", \"2021-01-15\", \"2021-01-16\", \"2021-01-17\", \"2021-01-18\", \"2021-01-19\", \"2021-01-20\", \"2021-01-21\", \"2021-01-22\", \"2021-01-23\", \"2021-01-24\", \"2021-01-25\", \"2021-01-26\", \"2021-01-27\", \"2021-01-28\", \"2021-01-29\", \"2021-01-30\", \"2021-01-31\", \"2021-02-01\", \"2021-02-02\", \"2021-02-03\", \"2021-02-04\", \"2021-02-05\", \"2021-02-06\", \"2021-02-07\", \"2021-02-08\", \"2021-02-09\", \"2021-02-10\", \"2021-02-11\", \"2021-02-12\", \"2021-02-13\", \"2021-02-14\", \"2021-02-15\", \"2021-02-16\", \"2021-02-17\", \"2021-02-18\", \"2021-02-19\", \"2021-02-20\", \"2021-02-21\", \"2021-02-22\", \"2021-02-23\", \"2021-02-24\", \"2021-02-25\", \"2021-02-26\", \"2021-02-27\", \"2021-02-28\", \"2021-03-01\", \"2021-03-02\", \"2021-03-03\", \"2021-03-04\", \"2021-03-05\", \"2021-03-06\", \"2021-03-07\", \"2021-03-08\", \"2021-03-09\", \"2021-03-10\", \"2021-03-11\", \"2021-03-12\", \"2021-03-13\", \"2021-03-14\", \"2021-03-15\", \"2021-03-16\", \"2021-03-17\", \"2021-03-18\", \"2021-03-19\", \"2021-03-20\", \"2021-03-21\", \"2021-03-22\", \"2021-03-23\", \"2021-03-24\", \"2021-03-25\", \"2021-03-26\", \"2021-03-27\", \"2021-03-28\"], \"xaxis\": \"x\", \"y\": [0.4444444444444444, 0.5102040816326531, 0.5620437956204379, 0.54, 0.4513888888888889, 0.5899280575539568, 0.6160714285714286, 0.5636363636363636, 0.4117647058823529, 0.5392156862745098, 0.643312101910828, 0.5853658536585366, 0.6052631578947368, 0.625, 0.5957446808510638, 0.6949152542372882, 0.5471698113207547, 0.5294117647058824, 0.4485981308411215, 0.5555555555555556, 0.47368421052631576, 0.5301204819277109, 0.35714285714285715, 0.3888888888888889, 0.6216216216216216, 0.5357142857142857, 0.4473684210526316, 0.5523809523809524, 0.4411764705882353, 0.5084745762711864, 0.6129032258064516, 0.6037735849056604, 0.5675675675675675, 0.6320754716981132, 0.38513513513513514, 0.4186046511627907, 0.40404040404040403, 0.4090909090909091, 0.49, 0.5, 0.4413793103448276, 0.5076923076923077, 0.4461538461538462, 0.37735849056603776, 0.4675324675324675, 0.5274725274725275, 0.5280898876404494, 0.5, 0.5625, 0.4520547945205479, 0.5, 0.6129032258064516, 0.5660377358490566, 0.5405405405405406, 0.4927536231884058, 0.4857142857142857, 0.3333333333333333, 0.5250737463126843, 0.5009784735812133, 0.5294117647058824, 0.501984126984127, 0.5200892857142857, 0.5392354124748491, 0.5089514066496164, 0.5984555984555985, 0.5364431486880467, 0.505938242280285, 0.503006012024048, 0.5409252669039146, 0.562862669245648, 0.5190839694656488, 0.44609665427509293, 0.5604166666666667, 0.5270935960591133, 0.5911854103343465, 0.5803858520900321, 0.5435745937961596, 0.5108225108225108, 0.5354330708661418, 0.6152524905530745, 0.5180442374854481, 0.6338028169014085, 0.5724137931034483, 0.543451652386781, 0.5565529622980251, 0.5271317829457365, 0.5036630036630036, 0.5268361581920904, 0.5131578947368421, 0.49396267837541163, 0.5146541617819461, 0.5148698884758365, 0.4541387024608501, 0.4175365344467641, 0.4791519434628975, 0.48216106014271154, 0.5025799793601651, 0.5216049382716049, 0.5045226130653266, 0.4620355411954766, 0.5190839694656488, 0.50125, 0.5166475315729047, 0.5104022191400832, 0.5408, 0.5236363636363637, 0.5147058823529411], \"yaxis\": \"y\"}],\n",
              "                        {\"legend\": {\"tracegroupgap\": 0}, \"template\": {\"data\": {\"bar\": [{\"error_x\": {\"color\": \"#2a3f5f\"}, \"error_y\": {\"color\": \"#2a3f5f\"}, \"marker\": {\"line\": {\"color\": \"#E5ECF6\", \"width\": 0.5}}, \"type\": \"bar\"}], \"barpolar\": [{\"marker\": {\"line\": {\"color\": \"#E5ECF6\", \"width\": 0.5}}, \"type\": \"barpolar\"}], \"carpet\": [{\"aaxis\": {\"endlinecolor\": \"#2a3f5f\", \"gridcolor\": \"white\", \"linecolor\": \"white\", \"minorgridcolor\": \"white\", \"startlinecolor\": \"#2a3f5f\"}, \"baxis\": {\"endlinecolor\": \"#2a3f5f\", \"gridcolor\": \"white\", \"linecolor\": \"white\", \"minorgridcolor\": \"white\", \"startlinecolor\": \"#2a3f5f\"}, \"type\": \"carpet\"}], \"choropleth\": [{\"colorbar\": {\"outlinewidth\": 0, \"ticks\": \"\"}, \"type\": \"choropleth\"}], \"contour\": [{\"colorbar\": {\"outlinewidth\": 0, \"ticks\": \"\"}, \"colorscale\": [[0.0, \"#0d0887\"], [0.1111111111111111, \"#46039f\"], [0.2222222222222222, \"#7201a8\"], [0.3333333333333333, \"#9c179e\"], [0.4444444444444444, \"#bd3786\"], [0.5555555555555556, \"#d8576b\"], [0.6666666666666666, \"#ed7953\"], [0.7777777777777778, \"#fb9f3a\"], [0.8888888888888888, \"#fdca26\"], [1.0, \"#f0f921\"]], \"type\": \"contour\"}], \"contourcarpet\": [{\"colorbar\": {\"outlinewidth\": 0, \"ticks\": \"\"}, \"type\": \"contourcarpet\"}], \"heatmap\": [{\"colorbar\": {\"outlinewidth\": 0, \"ticks\": \"\"}, \"colorscale\": [[0.0, \"#0d0887\"], [0.1111111111111111, \"#46039f\"], [0.2222222222222222, \"#7201a8\"], [0.3333333333333333, \"#9c179e\"], [0.4444444444444444, \"#bd3786\"], [0.5555555555555556, \"#d8576b\"], [0.6666666666666666, \"#ed7953\"], [0.7777777777777778, \"#fb9f3a\"], [0.8888888888888888, \"#fdca26\"], [1.0, \"#f0f921\"]], \"type\": \"heatmap\"}], \"heatmapgl\": [{\"colorbar\": {\"outlinewidth\": 0, \"ticks\": \"\"}, \"colorscale\": [[0.0, \"#0d0887\"], [0.1111111111111111, \"#46039f\"], [0.2222222222222222, \"#7201a8\"], [0.3333333333333333, \"#9c179e\"], [0.4444444444444444, \"#bd3786\"], [0.5555555555555556, \"#d8576b\"], [0.6666666666666666, \"#ed7953\"], [0.7777777777777778, \"#fb9f3a\"], [0.8888888888888888, \"#fdca26\"], [1.0, \"#f0f921\"]], \"type\": \"heatmapgl\"}], \"histogram\": [{\"marker\": {\"colorbar\": {\"outlinewidth\": 0, \"ticks\": \"\"}}, \"type\": \"histogram\"}], \"histogram2d\": [{\"colorbar\": {\"outlinewidth\": 0, \"ticks\": \"\"}, \"colorscale\": [[0.0, \"#0d0887\"], [0.1111111111111111, \"#46039f\"], [0.2222222222222222, \"#7201a8\"], [0.3333333333333333, \"#9c179e\"], [0.4444444444444444, \"#bd3786\"], [0.5555555555555556, \"#d8576b\"], [0.6666666666666666, \"#ed7953\"], [0.7777777777777778, \"#fb9f3a\"], [0.8888888888888888, \"#fdca26\"], [1.0, \"#f0f921\"]], \"type\": \"histogram2d\"}], \"histogram2dcontour\": [{\"colorbar\": {\"outlinewidth\": 0, \"ticks\": \"\"}, \"colorscale\": [[0.0, \"#0d0887\"], [0.1111111111111111, \"#46039f\"], [0.2222222222222222, \"#7201a8\"], [0.3333333333333333, \"#9c179e\"], [0.4444444444444444, \"#bd3786\"], [0.5555555555555556, \"#d8576b\"], [0.6666666666666666, \"#ed7953\"], [0.7777777777777778, \"#fb9f3a\"], [0.8888888888888888, \"#fdca26\"], [1.0, \"#f0f921\"]], \"type\": \"histogram2dcontour\"}], \"mesh3d\": [{\"colorbar\": {\"outlinewidth\": 0, \"ticks\": \"\"}, \"type\": \"mesh3d\"}], \"parcoords\": [{\"line\": {\"colorbar\": {\"outlinewidth\": 0, \"ticks\": \"\"}}, \"type\": \"parcoords\"}], \"pie\": [{\"automargin\": true, \"type\": \"pie\"}], \"scatter\": [{\"marker\": {\"colorbar\": {\"outlinewidth\": 0, \"ticks\": \"\"}}, \"type\": \"scatter\"}], \"scatter3d\": [{\"line\": {\"colorbar\": {\"outlinewidth\": 0, \"ticks\": \"\"}}, \"marker\": {\"colorbar\": {\"outlinewidth\": 0, \"ticks\": \"\"}}, \"type\": \"scatter3d\"}], \"scattercarpet\": [{\"marker\": {\"colorbar\": {\"outlinewidth\": 0, \"ticks\": \"\"}}, \"type\": \"scattercarpet\"}], \"scattergeo\": [{\"marker\": {\"colorbar\": {\"outlinewidth\": 0, \"ticks\": \"\"}}, \"type\": \"scattergeo\"}], \"scattergl\": [{\"marker\": {\"colorbar\": {\"outlinewidth\": 0, \"ticks\": \"\"}}, \"type\": \"scattergl\"}], \"scattermapbox\": [{\"marker\": {\"colorbar\": {\"outlinewidth\": 0, \"ticks\": \"\"}}, \"type\": \"scattermapbox\"}], \"scatterpolar\": [{\"marker\": {\"colorbar\": {\"outlinewidth\": 0, \"ticks\": \"\"}}, \"type\": \"scatterpolar\"}], \"scatterpolargl\": [{\"marker\": {\"colorbar\": {\"outlinewidth\": 0, \"ticks\": \"\"}}, \"type\": \"scatterpolargl\"}], \"scatterternary\": [{\"marker\": {\"colorbar\": {\"outlinewidth\": 0, \"ticks\": \"\"}}, \"type\": \"scatterternary\"}], \"surface\": [{\"colorbar\": {\"outlinewidth\": 0, \"ticks\": \"\"}, \"colorscale\": [[0.0, \"#0d0887\"], [0.1111111111111111, \"#46039f\"], [0.2222222222222222, \"#7201a8\"], [0.3333333333333333, \"#9c179e\"], [0.4444444444444444, \"#bd3786\"], [0.5555555555555556, \"#d8576b\"], [0.6666666666666666, \"#ed7953\"], [0.7777777777777778, \"#fb9f3a\"], [0.8888888888888888, \"#fdca26\"], [1.0, \"#f0f921\"]], \"type\": \"surface\"}], \"table\": [{\"cells\": {\"fill\": {\"color\": \"#EBF0F8\"}, \"line\": {\"color\": \"white\"}}, \"header\": {\"fill\": {\"color\": \"#C8D4E3\"}, \"line\": {\"color\": \"white\"}}, \"type\": \"table\"}]}, \"layout\": {\"annotationdefaults\": {\"arrowcolor\": \"#2a3f5f\", \"arrowhead\": 0, \"arrowwidth\": 1}, \"coloraxis\": {\"colorbar\": {\"outlinewidth\": 0, \"ticks\": \"\"}}, \"colorscale\": {\"diverging\": [[0, \"#8e0152\"], [0.1, \"#c51b7d\"], [0.2, \"#de77ae\"], [0.3, \"#f1b6da\"], [0.4, \"#fde0ef\"], [0.5, \"#f7f7f7\"], [0.6, \"#e6f5d0\"], [0.7, \"#b8e186\"], [0.8, \"#7fbc41\"], [0.9, \"#4d9221\"], [1, \"#276419\"]], \"sequential\": [[0.0, \"#0d0887\"], [0.1111111111111111, \"#46039f\"], [0.2222222222222222, \"#7201a8\"], [0.3333333333333333, \"#9c179e\"], [0.4444444444444444, \"#bd3786\"], [0.5555555555555556, \"#d8576b\"], [0.6666666666666666, \"#ed7953\"], [0.7777777777777778, \"#fb9f3a\"], [0.8888888888888888, \"#fdca26\"], [1.0, \"#f0f921\"]], \"sequentialminus\": [[0.0, \"#0d0887\"], [0.1111111111111111, \"#46039f\"], [0.2222222222222222, \"#7201a8\"], [0.3333333333333333, \"#9c179e\"], [0.4444444444444444, \"#bd3786\"], [0.5555555555555556, \"#d8576b\"], [0.6666666666666666, \"#ed7953\"], [0.7777777777777778, \"#fb9f3a\"], [0.8888888888888888, \"#fdca26\"], [1.0, \"#f0f921\"]]}, \"colorway\": [\"#636efa\", \"#EF553B\", \"#00cc96\", \"#ab63fa\", \"#FFA15A\", \"#19d3f3\", \"#FF6692\", \"#B6E880\", \"#FF97FF\", \"#FECB52\"], \"font\": {\"color\": \"#2a3f5f\"}, \"geo\": {\"bgcolor\": \"white\", \"lakecolor\": \"white\", \"landcolor\": \"#E5ECF6\", \"showlakes\": true, \"showland\": true, \"subunitcolor\": \"white\"}, \"hoverlabel\": {\"align\": \"left\"}, \"hovermode\": \"closest\", \"mapbox\": {\"style\": \"light\"}, \"paper_bgcolor\": \"white\", \"plot_bgcolor\": \"#E5ECF6\", \"polar\": {\"angularaxis\": {\"gridcolor\": \"white\", \"linecolor\": \"white\", \"ticks\": \"\"}, \"bgcolor\": \"#E5ECF6\", \"radialaxis\": {\"gridcolor\": \"white\", \"linecolor\": \"white\", \"ticks\": \"\"}}, \"scene\": {\"xaxis\": {\"backgroundcolor\": \"#E5ECF6\", \"gridcolor\": \"white\", \"gridwidth\": 2, \"linecolor\": \"white\", \"showbackground\": true, \"ticks\": \"\", \"zerolinecolor\": \"white\"}, \"yaxis\": {\"backgroundcolor\": \"#E5ECF6\", \"gridcolor\": \"white\", \"gridwidth\": 2, \"linecolor\": \"white\", \"showbackground\": true, \"ticks\": \"\", \"zerolinecolor\": \"white\"}, \"zaxis\": {\"backgroundcolor\": \"#E5ECF6\", \"gridcolor\": \"white\", \"gridwidth\": 2, \"linecolor\": \"white\", \"showbackground\": true, \"ticks\": \"\", \"zerolinecolor\": \"white\"}}, \"shapedefaults\": {\"line\": {\"color\": \"#2a3f5f\"}}, \"ternary\": {\"aaxis\": {\"gridcolor\": \"white\", \"linecolor\": \"white\", \"ticks\": \"\"}, \"baxis\": {\"gridcolor\": \"white\", \"linecolor\": \"white\", \"ticks\": \"\"}, \"bgcolor\": \"#E5ECF6\", \"caxis\": {\"gridcolor\": \"white\", \"linecolor\": \"white\", \"ticks\": \"\"}}, \"title\": {\"x\": 0.05}, \"xaxis\": {\"automargin\": true, \"gridcolor\": \"white\", \"linecolor\": \"white\", \"ticks\": \"\", \"title\": {\"standoff\": 15}, \"zerolinecolor\": \"white\", \"zerolinewidth\": 2}, \"yaxis\": {\"automargin\": true, \"gridcolor\": \"white\", \"linecolor\": \"white\", \"ticks\": \"\", \"title\": {\"standoff\": 15}, \"zerolinecolor\": \"white\", \"zerolinewidth\": 2}}}, \"title\": {\"text\": \"Timeline showing sentiment of tweets about COVID-19 vaccines\"}, \"xaxis\": {\"anchor\": \"y\", \"domain\": [0.0, 1.0], \"title\": {\"text\": \"date\"}}, \"yaxis\": {\"anchor\": \"x\", \"domain\": [0.0, 1.0], \"title\": {\"text\": \"sent_ratio\"}}},\n",
              "                        {\"responsive\": true}\n",
              "                    ).then(function(){\n",
              "                            \n",
              "var gd = document.getElementById('6ffc856b-13f5-41c1-a3ef-c7bcc438a127');\n",
              "var x = new MutationObserver(function (mutations, observer) {{\n",
              "        var display = window.getComputedStyle(gd).display;\n",
              "        if (!display || display === 'none') {{\n",
              "            console.log([gd, 'removed!']);\n",
              "            Plotly.purge(gd);\n",
              "            observer.disconnect();\n",
              "        }}\n",
              "}});\n",
              "\n",
              "// Listen for the removal of the full notebook cells\n",
              "var notebookContainer = gd.closest('#notebook-container');\n",
              "if (notebookContainer) {{\n",
              "    x.observe(notebookContainer, {childList: true});\n",
              "}}\n",
              "\n",
              "// Listen for the clearing of the current output cell\n",
              "var outputEl = gd.closest('.output');\n",
              "if (outputEl) {{\n",
              "    x.observe(outputEl, {childList: true});\n",
              "}}\n",
              "\n",
              "                        })\n",
              "                };\n",
              "                \n",
              "            </script>\n",
              "        </div>\n",
              "</body>\n",
              "</html>"
            ]
          },
          "metadata": {
            "tags": []
          }
        }
      ]
    },
    {
      "cell_type": "markdown",
      "metadata": {
        "id": "kT-alxILPglf"
      },
      "source": [
        "The trend is the same as before, the dates of peeks are the same with same exaplanation"
      ]
    },
    {
      "cell_type": "code",
      "metadata": {
        "id": "Zqx_nfhAXxx6"
      },
      "source": [
        "tl = pd.DataFrame(timeline_pos,columns=['date','new_sent'])"
      ],
      "execution_count": null,
      "outputs": []
    },
    {
      "cell_type": "code",
      "metadata": {
        "colab": {
          "base_uri": "https://localhost:8080/",
          "height": 542
        },
        "id": "r6Nmz02i9kYc",
        "outputId": "5acfd70a-3ad5-4cbf-aea4-b844ce76d89d"
      },
      "source": [
        "fig = px.line(tl, x='date', y='new_sent',\n",
        "             title='Timeline showing ratio of positive tweets about COVID-19 vaccines')\n",
        "fig.show()"
      ],
      "execution_count": null,
      "outputs": [
        {
          "output_type": "display_data",
          "data": {
            "text/html": [
              "<html>\n",
              "<head><meta charset=\"utf-8\" /></head>\n",
              "<body>\n",
              "    <div>\n",
              "            <script src=\"https://cdnjs.cloudflare.com/ajax/libs/mathjax/2.7.5/MathJax.js?config=TeX-AMS-MML_SVG\"></script><script type=\"text/javascript\">if (window.MathJax) {MathJax.Hub.Config({SVG: {font: \"STIX-Web\"}});}</script>\n",
              "                <script type=\"text/javascript\">window.PlotlyConfig = {MathJaxConfig: 'local'};</script>\n",
              "        <script src=\"https://cdn.plot.ly/plotly-latest.min.js\"></script>    \n",
              "            <div id=\"eaa88184-5ee0-49c6-89db-a4b6a28d49a7\" class=\"plotly-graph-div\" style=\"height:525px; width:100%;\"></div>\n",
              "            <script type=\"text/javascript\">\n",
              "                \n",
              "                    window.PLOTLYENV=window.PLOTLYENV || {};\n",
              "                    \n",
              "                if (document.getElementById(\"eaa88184-5ee0-49c6-89db-a4b6a28d49a7\")) {\n",
              "                    Plotly.newPlot(\n",
              "                        'eaa88184-5ee0-49c6-89db-a4b6a28d49a7',\n",
              "                        [{\"hoverlabel\": {\"namelength\": 0}, \"hovertemplate\": \"date=%{x}<br>new_sent=%{y}\", \"legendgroup\": \"\", \"line\": {\"color\": \"#636efa\", \"dash\": \"solid\"}, \"mode\": \"lines\", \"name\": \"\", \"showlegend\": false, \"type\": \"scatter\", \"x\": [\"2020-12-12\", \"2020-12-13\", \"2020-12-14\", \"2020-12-15\", \"2020-12-16\", \"2020-12-17\", \"2020-12-18\", \"2020-12-19\", \"2020-12-20\", \"2020-12-21\", \"2020-12-22\", \"2020-12-23\", \"2020-12-24\", \"2020-12-25\", \"2020-12-26\", \"2020-12-27\", \"2020-12-28\", \"2020-12-29\", \"2020-12-30\", \"2020-12-31\", \"2021-01-01\", \"2021-01-02\", \"2021-01-03\", \"2021-01-04\", \"2021-01-05\", \"2021-01-06\", \"2021-01-07\", \"2021-01-08\", \"2021-01-09\", \"2021-01-10\", \"2021-01-11\", \"2021-01-12\", \"2021-01-13\", \"2021-01-14\", \"2021-01-15\", \"2021-01-16\", \"2021-01-17\", \"2021-01-18\", \"2021-01-19\", \"2021-01-20\", \"2021-01-21\", \"2021-01-22\", \"2021-01-23\", \"2021-01-24\", \"2021-01-25\", \"2021-01-26\", \"2021-01-27\", \"2021-01-28\", \"2021-01-29\", \"2021-01-30\", \"2021-01-31\", \"2021-02-01\", \"2021-02-02\", \"2021-02-03\", \"2021-02-04\", \"2021-02-05\", \"2021-02-06\", \"2021-02-07\", \"2021-02-08\", \"2021-02-09\", \"2021-02-10\", \"2021-02-11\", \"2021-02-12\", \"2021-02-13\", \"2021-02-14\", \"2021-02-15\", \"2021-02-16\", \"2021-02-17\", \"2021-02-18\", \"2021-02-19\", \"2021-02-20\", \"2021-02-21\", \"2021-02-22\", \"2021-02-23\", \"2021-02-24\", \"2021-02-25\", \"2021-02-26\", \"2021-02-27\", \"2021-02-28\", \"2021-03-01\", \"2021-03-02\", \"2021-03-03\", \"2021-03-04\", \"2021-03-05\", \"2021-03-06\", \"2021-03-07\", \"2021-03-08\", \"2021-03-09\", \"2021-03-10\", \"2021-03-11\", \"2021-03-12\", \"2021-03-13\", \"2021-03-14\", \"2021-03-15\", \"2021-03-16\", \"2021-03-17\", \"2021-03-18\", \"2021-03-19\", \"2021-03-20\", \"2021-03-21\", \"2021-03-22\", \"2021-03-23\", \"2021-03-24\", \"2021-03-25\", \"2021-03-26\", \"2021-03-27\", \"2021-03-28\"], \"xaxis\": \"x\", \"y\": [0.4444444444444444, 0.5102040816326531, 0.5620437956204379, 0.54, 0.4513888888888889, 0.5899280575539568, 0.6160714285714286, 0.5636363636363636, 0.4117647058823529, 0.5392156862745098, 0.643312101910828, 0.5853658536585366, 0.6052631578947368, 0.625, 0.5957446808510638, 0.6949152542372882, 0.5471698113207547, 0.5294117647058824, 0.4485981308411215, 0.5555555555555556, 0.47368421052631576, 0.5301204819277109, 0.35714285714285715, 0.3888888888888889, 0.6216216216216216, 0.5357142857142857, 0.4473684210526316, 0.5523809523809524, 0.4411764705882353, 0.5084745762711864, 0.6129032258064516, 0.6037735849056604, 0.5675675675675675, 0.6320754716981132, 0.38513513513513514, 0.4186046511627907, 0.40404040404040403, 0.4090909090909091, 0.49, 0.5, 0.4413793103448276, 0.5076923076923077, 0.4461538461538462, 0.37735849056603776, 0.4675324675324675, 0.5274725274725275, 0.5280898876404494, 0.5, 0.5625, 0.4520547945205479, 0.5, 0.6129032258064516, 0.5660377358490566, 0.5405405405405406, 0.4927536231884058, 0.4857142857142857, 0.3333333333333333, 0.5250737463126843, 0.5009784735812133, 0.5294117647058824, 0.501984126984127, 0.5200892857142857, 0.5392354124748491, 0.5089514066496164, 0.5984555984555985, 0.5364431486880467, 0.505938242280285, 0.503006012024048, 0.5409252669039146, 0.562862669245648, 0.5190839694656488, 0.44609665427509293, 0.5604166666666667, 0.5270935960591133, 0.5911854103343465, 0.5803858520900321, 0.5435745937961596, 0.5108225108225108, 0.5354330708661418, 0.6152524905530745, 0.5180442374854481, 0.6338028169014085, 0.5724137931034483, 0.543451652386781, 0.5565529622980251, 0.5271317829457365, 0.5036630036630036, 0.5268361581920904, 0.5131578947368421, 0.49396267837541163, 0.5146541617819461, 0.5148698884758365, 0.4541387024608501, 0.4175365344467641, 0.4791519434628975, 0.48216106014271154, 0.5025799793601651, 0.5216049382716049, 0.5045226130653266, 0.4620355411954766, 0.5190839694656488, 0.50125, 0.5166475315729047, 0.5104022191400832, 0.5408, 0.5236363636363637, 0.5147058823529411], \"yaxis\": \"y\"}],\n",
              "                        {\"legend\": {\"tracegroupgap\": 0}, \"template\": {\"data\": {\"bar\": [{\"error_x\": {\"color\": \"#2a3f5f\"}, \"error_y\": {\"color\": \"#2a3f5f\"}, \"marker\": {\"line\": {\"color\": \"#E5ECF6\", \"width\": 0.5}}, \"type\": \"bar\"}], \"barpolar\": [{\"marker\": {\"line\": {\"color\": \"#E5ECF6\", \"width\": 0.5}}, \"type\": \"barpolar\"}], \"carpet\": [{\"aaxis\": {\"endlinecolor\": \"#2a3f5f\", \"gridcolor\": \"white\", \"linecolor\": \"white\", \"minorgridcolor\": \"white\", \"startlinecolor\": \"#2a3f5f\"}, \"baxis\": {\"endlinecolor\": \"#2a3f5f\", \"gridcolor\": \"white\", \"linecolor\": \"white\", \"minorgridcolor\": \"white\", \"startlinecolor\": \"#2a3f5f\"}, \"type\": \"carpet\"}], \"choropleth\": [{\"colorbar\": {\"outlinewidth\": 0, \"ticks\": \"\"}, \"type\": \"choropleth\"}], \"contour\": [{\"colorbar\": {\"outlinewidth\": 0, \"ticks\": \"\"}, \"colorscale\": [[0.0, \"#0d0887\"], [0.1111111111111111, \"#46039f\"], [0.2222222222222222, \"#7201a8\"], [0.3333333333333333, \"#9c179e\"], [0.4444444444444444, \"#bd3786\"], [0.5555555555555556, \"#d8576b\"], [0.6666666666666666, \"#ed7953\"], [0.7777777777777778, \"#fb9f3a\"], [0.8888888888888888, \"#fdca26\"], [1.0, \"#f0f921\"]], \"type\": \"contour\"}], \"contourcarpet\": [{\"colorbar\": {\"outlinewidth\": 0, \"ticks\": \"\"}, \"type\": \"contourcarpet\"}], \"heatmap\": [{\"colorbar\": {\"outlinewidth\": 0, \"ticks\": \"\"}, \"colorscale\": [[0.0, \"#0d0887\"], [0.1111111111111111, \"#46039f\"], [0.2222222222222222, \"#7201a8\"], [0.3333333333333333, \"#9c179e\"], [0.4444444444444444, \"#bd3786\"], [0.5555555555555556, \"#d8576b\"], [0.6666666666666666, \"#ed7953\"], [0.7777777777777778, \"#fb9f3a\"], [0.8888888888888888, \"#fdca26\"], [1.0, \"#f0f921\"]], \"type\": \"heatmap\"}], \"heatmapgl\": [{\"colorbar\": {\"outlinewidth\": 0, \"ticks\": \"\"}, \"colorscale\": [[0.0, \"#0d0887\"], [0.1111111111111111, \"#46039f\"], [0.2222222222222222, \"#7201a8\"], [0.3333333333333333, \"#9c179e\"], [0.4444444444444444, \"#bd3786\"], [0.5555555555555556, \"#d8576b\"], [0.6666666666666666, \"#ed7953\"], [0.7777777777777778, \"#fb9f3a\"], [0.8888888888888888, \"#fdca26\"], [1.0, \"#f0f921\"]], \"type\": \"heatmapgl\"}], \"histogram\": [{\"marker\": {\"colorbar\": {\"outlinewidth\": 0, \"ticks\": \"\"}}, \"type\": \"histogram\"}], \"histogram2d\": [{\"colorbar\": {\"outlinewidth\": 0, \"ticks\": \"\"}, \"colorscale\": [[0.0, \"#0d0887\"], [0.1111111111111111, \"#46039f\"], [0.2222222222222222, \"#7201a8\"], [0.3333333333333333, \"#9c179e\"], [0.4444444444444444, \"#bd3786\"], [0.5555555555555556, \"#d8576b\"], [0.6666666666666666, \"#ed7953\"], [0.7777777777777778, \"#fb9f3a\"], [0.8888888888888888, \"#fdca26\"], [1.0, \"#f0f921\"]], \"type\": \"histogram2d\"}], \"histogram2dcontour\": [{\"colorbar\": {\"outlinewidth\": 0, \"ticks\": \"\"}, \"colorscale\": [[0.0, \"#0d0887\"], [0.1111111111111111, \"#46039f\"], [0.2222222222222222, \"#7201a8\"], [0.3333333333333333, \"#9c179e\"], [0.4444444444444444, \"#bd3786\"], [0.5555555555555556, \"#d8576b\"], [0.6666666666666666, \"#ed7953\"], [0.7777777777777778, \"#fb9f3a\"], [0.8888888888888888, \"#fdca26\"], [1.0, \"#f0f921\"]], \"type\": \"histogram2dcontour\"}], \"mesh3d\": [{\"colorbar\": {\"outlinewidth\": 0, \"ticks\": \"\"}, \"type\": \"mesh3d\"}], \"parcoords\": [{\"line\": {\"colorbar\": {\"outlinewidth\": 0, \"ticks\": \"\"}}, \"type\": \"parcoords\"}], \"pie\": [{\"automargin\": true, \"type\": \"pie\"}], \"scatter\": [{\"marker\": {\"colorbar\": {\"outlinewidth\": 0, \"ticks\": \"\"}}, \"type\": \"scatter\"}], \"scatter3d\": [{\"line\": {\"colorbar\": {\"outlinewidth\": 0, \"ticks\": \"\"}}, \"marker\": {\"colorbar\": {\"outlinewidth\": 0, \"ticks\": \"\"}}, \"type\": \"scatter3d\"}], \"scattercarpet\": [{\"marker\": {\"colorbar\": {\"outlinewidth\": 0, \"ticks\": \"\"}}, \"type\": \"scattercarpet\"}], \"scattergeo\": [{\"marker\": {\"colorbar\": {\"outlinewidth\": 0, \"ticks\": \"\"}}, \"type\": \"scattergeo\"}], \"scattergl\": [{\"marker\": {\"colorbar\": {\"outlinewidth\": 0, \"ticks\": \"\"}}, \"type\": \"scattergl\"}], \"scattermapbox\": [{\"marker\": {\"colorbar\": {\"outlinewidth\": 0, \"ticks\": \"\"}}, \"type\": \"scattermapbox\"}], \"scatterpolar\": [{\"marker\": {\"colorbar\": {\"outlinewidth\": 0, \"ticks\": \"\"}}, \"type\": \"scatterpolar\"}], \"scatterpolargl\": [{\"marker\": {\"colorbar\": {\"outlinewidth\": 0, \"ticks\": \"\"}}, \"type\": \"scatterpolargl\"}], \"scatterternary\": [{\"marker\": {\"colorbar\": {\"outlinewidth\": 0, \"ticks\": \"\"}}, \"type\": \"scatterternary\"}], \"surface\": [{\"colorbar\": {\"outlinewidth\": 0, \"ticks\": \"\"}, \"colorscale\": [[0.0, \"#0d0887\"], [0.1111111111111111, \"#46039f\"], [0.2222222222222222, \"#7201a8\"], [0.3333333333333333, \"#9c179e\"], [0.4444444444444444, \"#bd3786\"], [0.5555555555555556, \"#d8576b\"], [0.6666666666666666, \"#ed7953\"], [0.7777777777777778, \"#fb9f3a\"], [0.8888888888888888, \"#fdca26\"], [1.0, \"#f0f921\"]], \"type\": \"surface\"}], \"table\": [{\"cells\": {\"fill\": {\"color\": \"#EBF0F8\"}, \"line\": {\"color\": \"white\"}}, \"header\": {\"fill\": {\"color\": \"#C8D4E3\"}, \"line\": {\"color\": \"white\"}}, \"type\": \"table\"}]}, \"layout\": {\"annotationdefaults\": {\"arrowcolor\": \"#2a3f5f\", \"arrowhead\": 0, \"arrowwidth\": 1}, \"coloraxis\": {\"colorbar\": {\"outlinewidth\": 0, \"ticks\": \"\"}}, \"colorscale\": {\"diverging\": [[0, \"#8e0152\"], [0.1, \"#c51b7d\"], [0.2, \"#de77ae\"], [0.3, \"#f1b6da\"], [0.4, \"#fde0ef\"], [0.5, \"#f7f7f7\"], [0.6, \"#e6f5d0\"], [0.7, \"#b8e186\"], [0.8, \"#7fbc41\"], [0.9, \"#4d9221\"], [1, \"#276419\"]], \"sequential\": [[0.0, \"#0d0887\"], [0.1111111111111111, \"#46039f\"], [0.2222222222222222, \"#7201a8\"], [0.3333333333333333, \"#9c179e\"], [0.4444444444444444, \"#bd3786\"], [0.5555555555555556, \"#d8576b\"], [0.6666666666666666, \"#ed7953\"], [0.7777777777777778, \"#fb9f3a\"], [0.8888888888888888, \"#fdca26\"], [1.0, \"#f0f921\"]], \"sequentialminus\": [[0.0, \"#0d0887\"], [0.1111111111111111, \"#46039f\"], [0.2222222222222222, \"#7201a8\"], [0.3333333333333333, \"#9c179e\"], [0.4444444444444444, \"#bd3786\"], [0.5555555555555556, \"#d8576b\"], [0.6666666666666666, \"#ed7953\"], [0.7777777777777778, \"#fb9f3a\"], [0.8888888888888888, \"#fdca26\"], [1.0, \"#f0f921\"]]}, \"colorway\": [\"#636efa\", \"#EF553B\", \"#00cc96\", \"#ab63fa\", \"#FFA15A\", \"#19d3f3\", \"#FF6692\", \"#B6E880\", \"#FF97FF\", \"#FECB52\"], \"font\": {\"color\": \"#2a3f5f\"}, \"geo\": {\"bgcolor\": \"white\", \"lakecolor\": \"white\", \"landcolor\": \"#E5ECF6\", \"showlakes\": true, \"showland\": true, \"subunitcolor\": \"white\"}, \"hoverlabel\": {\"align\": \"left\"}, \"hovermode\": \"closest\", \"mapbox\": {\"style\": \"light\"}, \"paper_bgcolor\": \"white\", \"plot_bgcolor\": \"#E5ECF6\", \"polar\": {\"angularaxis\": {\"gridcolor\": \"white\", \"linecolor\": \"white\", \"ticks\": \"\"}, \"bgcolor\": \"#E5ECF6\", \"radialaxis\": {\"gridcolor\": \"white\", \"linecolor\": \"white\", \"ticks\": \"\"}}, \"scene\": {\"xaxis\": {\"backgroundcolor\": \"#E5ECF6\", \"gridcolor\": \"white\", \"gridwidth\": 2, \"linecolor\": \"white\", \"showbackground\": true, \"ticks\": \"\", \"zerolinecolor\": \"white\"}, \"yaxis\": {\"backgroundcolor\": \"#E5ECF6\", \"gridcolor\": \"white\", \"gridwidth\": 2, \"linecolor\": \"white\", \"showbackground\": true, \"ticks\": \"\", \"zerolinecolor\": \"white\"}, \"zaxis\": {\"backgroundcolor\": \"#E5ECF6\", \"gridcolor\": \"white\", \"gridwidth\": 2, \"linecolor\": \"white\", \"showbackground\": true, \"ticks\": \"\", \"zerolinecolor\": \"white\"}}, \"shapedefaults\": {\"line\": {\"color\": \"#2a3f5f\"}}, \"ternary\": {\"aaxis\": {\"gridcolor\": \"white\", \"linecolor\": \"white\", \"ticks\": \"\"}, \"baxis\": {\"gridcolor\": \"white\", \"linecolor\": \"white\", \"ticks\": \"\"}, \"bgcolor\": \"#E5ECF6\", \"caxis\": {\"gridcolor\": \"white\", \"linecolor\": \"white\", \"ticks\": \"\"}}, \"title\": {\"x\": 0.05}, \"xaxis\": {\"automargin\": true, \"gridcolor\": \"white\", \"linecolor\": \"white\", \"ticks\": \"\", \"title\": {\"standoff\": 15}, \"zerolinecolor\": \"white\", \"zerolinewidth\": 2}, \"yaxis\": {\"automargin\": true, \"gridcolor\": \"white\", \"linecolor\": \"white\", \"ticks\": \"\", \"title\": {\"standoff\": 15}, \"zerolinecolor\": \"white\", \"zerolinewidth\": 2}}}, \"title\": {\"text\": \"Timeline showing ratio of positive tweets about COVID-19 vaccines\"}, \"xaxis\": {\"anchor\": \"y\", \"domain\": [0.0, 1.0], \"title\": {\"text\": \"date\"}}, \"yaxis\": {\"anchor\": \"x\", \"domain\": [0.0, 1.0], \"title\": {\"text\": \"new_sent\"}}},\n",
              "                        {\"responsive\": true}\n",
              "                    ).then(function(){\n",
              "                            \n",
              "var gd = document.getElementById('eaa88184-5ee0-49c6-89db-a4b6a28d49a7');\n",
              "var x = new MutationObserver(function (mutations, observer) {{\n",
              "        var display = window.getComputedStyle(gd).display;\n",
              "        if (!display || display === 'none') {{\n",
              "            console.log([gd, 'removed!']);\n",
              "            Plotly.purge(gd);\n",
              "            observer.disconnect();\n",
              "        }}\n",
              "}});\n",
              "\n",
              "// Listen for the removal of the full notebook cells\n",
              "var notebookContainer = gd.closest('#notebook-container');\n",
              "if (notebookContainer) {{\n",
              "    x.observe(notebookContainer, {childList: true});\n",
              "}}\n",
              "\n",
              "// Listen for the clearing of the current output cell\n",
              "var outputEl = gd.closest('.output');\n",
              "if (outputEl) {{\n",
              "    x.observe(outputEl, {childList: true});\n",
              "}}\n",
              "\n",
              "                        })\n",
              "                };\n",
              "                \n",
              "            </script>\n",
              "        </div>\n",
              "</body>\n",
              "</html>"
            ]
          },
          "metadata": {
            "tags": []
          }
        }
      ]
    },
    {
      "cell_type": "markdown",
      "metadata": {
        "id": "t4fH4bZ_Po-A"
      },
      "source": [
        "# Typology of vaccines"
      ]
    },
    {
      "cell_type": "code",
      "metadata": {
        "id": "zZ9gnrb9Kr2_",
        "colab": {
          "base_uri": "https://localhost:8080/"
        },
        "outputId": "ad834019-150a-4b9f-90d7-85b907d9fd85"
      },
      "source": [
        "#Read the file\n",
        "df = pd.read_csv('vaccination_all_tweets.csv')\n",
        "print(len(df))"
      ],
      "execution_count": null,
      "outputs": [
        {
          "output_type": "stream",
          "text": [
            "39720\n"
          ],
          "name": "stdout"
        }
      ]
    },
    {
      "cell_type": "code",
      "metadata": {
        "id": "C9k5wn9IKr3C",
        "colab": {
          "base_uri": "https://localhost:8080/"
        },
        "outputId": "689d8d2f-9eb4-4120-b733-65e417b34ce0"
      },
      "source": [
        "cleaned_df=tokenize_url_hashtags(df.text.array)\n",
        "print(cleaned_df[2])"
      ],
      "execution_count": null,
      "outputs": [
        {
          "output_type": "stream",
          "text": [
            "100%|██████████| 39720/39720 [00:05<00:00, 6640.82it/s]"
          ],
          "name": "stderr"
        },
        {
          "output_type": "stream",
          "text": [
            "['coronavirus', 'sputnikv', 'astrazeneca', 'pfizerbiontech', 'moderna', 'covid_19', 'russian', 'vaccine', 'is', 'created', 'to', 'last', '2-4', 'years', '']\n"
          ],
          "name": "stdout"
        },
        {
          "output_type": "stream",
          "text": [
            "\n"
          ],
          "name": "stderr"
        }
      ]
    },
    {
      "cell_type": "markdown",
      "metadata": {
        "id": "hhjWThimKr3D"
      },
      "source": [
        "## First classification, using basic typology"
      ]
    },
    {
      "cell_type": "code",
      "metadata": {
        "id": "A5PejZuEKr3D"
      },
      "source": [
        "T1=['sinovac', 'sinofarm', 'covaxin']\n",
        "T2=['pfizerbiontech', 'moderna']\n",
        "T3=['astrazeneca', 'sputnikv', 'johnson']\n",
        "T4=['novavax', 'sanofi']"
      ],
      "execution_count": null,
      "outputs": []
    },
    {
      "cell_type": "code",
      "metadata": {
        "id": "ERzFWh6mKr3E"
      },
      "source": [
        "#Detect if the text reffers to a certain type of vaccine\n",
        "def type_vaccine(liste,T):\n",
        "    typevac=False\n",
        "    for mot in liste:\n",
        "        if mot in T:\n",
        "            typevac=True\n",
        "    return(typevac)"
      ],
      "execution_count": null,
      "outputs": []
    },
    {
      "cell_type": "code",
      "metadata": {
        "id": "ZjnhAJgyKr3E"
      },
      "source": [
        "#'Categ_vaccin' : column indicating if the tweet reffers to a specific type of vaccine, to several types or to none\n",
        "n=len(df)\n",
        "tv1=[False]*n\n",
        "tv2=[False]*n\n",
        "tv3=[False]*n\n",
        "tv4=[False]*n\n",
        "t=[\"General\"]*n\n",
        "for i in range(n) : \n",
        "    tv1[i]=type_vaccine(cleaned_df[i], T1)\n",
        "    tv2[i]=type_vaccine(cleaned_df[i], T2)\n",
        "    tv3[i]=type_vaccine(cleaned_df[i], T3)\n",
        "    tv4[i]=type_vaccine(cleaned_df[i], T4)\n",
        "    if (tv1[i]+tv2[i]+tv3[i]+tv4[i]==1):\n",
        "        if (tv1[i]==1):\n",
        "            t[i]=\"Inactiv\"\n",
        "        elif (tv2[i]==1):\n",
        "            t[i]=\"ARNmsg\"\n",
        "        elif (tv3[i]==1):\n",
        "            t[i]=\"Viral\"\n",
        "        else :\n",
        "            t[i]=\"Protein\"\n",
        "    elif (tv1[i]+tv2[i]+tv3[i]+tv4[i]==0):\n",
        "        t[i]=\"None\"\n",
        "    else:\n",
        "        t[i]=\"More than one\"\n",
        "df['categ_vaccin']=t"
      ],
      "execution_count": null,
      "outputs": []
    },
    {
      "cell_type": "code",
      "metadata": {
        "id": "fm38pw2gKr3E",
        "colab": {
          "base_uri": "https://localhost:8080/",
          "height": 282
        },
        "outputId": "66824aa9-fde2-465c-d141-8436b15a221f"
      },
      "source": [
        "%matplotlib inline\n",
        "df.categ_vaccin.hist(bins=40)"
      ],
      "execution_count": null,
      "outputs": [
        {
          "output_type": "execute_result",
          "data": {
            "text/plain": [
              "<matplotlib.axes._subplots.AxesSubplot at 0x7f1513115690>"
            ]
          },
          "metadata": {
            "tags": []
          },
          "execution_count": 41
        },
        {
          "output_type": "display_data",
          "data": {
            "image/png": "[encoded data removed]",
            "text/plain": [
              "<Figure size 432x288 with 1 Axes>"
            ]
          },
          "metadata": {
            "tags": [],
            "needs_background": "light"
          }
        }
      ]
    },
    {
      "cell_type": "code",
      "metadata": {
        "id": "Jc5UY8BCKr3F",
        "colab": {
          "base_uri": "https://localhost:8080/"
        },
        "outputId": "aca6c0e7-8062-4d42-cab7-c51370b37c48"
      },
      "source": [
        "df.categ_vaccin.value_counts()"
      ],
      "execution_count": null,
      "outputs": [
        {
          "output_type": "execute_result",
          "data": {
            "text/plain": [
              "None             17044\n",
              "ARNmsg           10938\n",
              "Inactiv           6753\n",
              "Viral             4085\n",
              "More than one      876\n",
              "Protein             24\n",
              "Name: categ_vaccin, dtype: int64"
            ]
          },
          "metadata": {
            "tags": []
          },
          "execution_count": 42
        }
      ]
    },
    {
      "cell_type": "markdown",
      "metadata": {
        "id": "mWajuGHeSICH"
      },
      "source": [
        "We observe that a lot of tweets have \"None\" classification, it's bad."
      ]
    },
    {
      "cell_type": "code",
      "metadata": {
        "id": "ZjxJjhMuKr3F",
        "colab": {
          "base_uri": "https://localhost:8080/",
          "height": 68
        },
        "outputId": "74613b36-a169-4bda-f206-efcbc2beb84d"
      },
      "source": [
        "#Example of missclassification (if 'pfizer' instead of 'pfizerbiontech'=> not recognised)\n",
        "mycolumns = ['text','categ_vaccin']\n",
        "with pd.option_context('display.max_colwidth', None):\n",
        "    display(df[mycolumns].iloc[57,:])"
      ],
      "execution_count": null,
      "outputs": [
        {
          "output_type": "display_data",
          "data": {
            "text/plain": [
              "text            Members of the @teamsters delivered the first #COVID19Vaccine this morning\\n#teamsters\\n#UPS\\n#COVID19 \\n#Pfizer… https://t.co/Ms3N1s9OES\n",
              "categ_vaccin                                                                                                                                         None\n",
              "Name: 57, dtype: object"
            ]
          },
          "metadata": {
            "tags": []
          }
        }
      ]
    },
    {
      "cell_type": "markdown",
      "metadata": {
        "id": "A8CHtZgvSNcA"
      },
      "source": [
        "So now let's improve the classification by enriching the typology"
      ]
    },
    {
      "cell_type": "markdown",
      "metadata": {
        "id": "GafTV47kKr3G"
      },
      "source": [
        "## Word embedding in order to enrich the initial typology"
      ]
    },
    {
      "cell_type": "code",
      "metadata": {
        "id": "s6e8yFEmKr3G",
        "colab": {
          "base_uri": "https://localhost:8080/"
        },
        "outputId": "d013c596-0733-4c2e-fb3b-bfa9edd4f7e3"
      },
      "source": [
        "from gensim.models import word2vec\n",
        "from multiprocessing import cpu_count\n",
        "cpu = cpu_count()\n",
        "print('The virtual instance has {} cpus, that will be used to train the word2vec model'.format(cpu))\n",
        "print(\"Training our model\")"
      ],
      "execution_count": null,
      "outputs": [
        {
          "output_type": "stream",
          "text": [
            "The virtual instance has 2 cpus, that will be used to train the word2vec model\n",
            "Training our model\n"
          ],
          "name": "stdout"
        }
      ]
    },
    {
      "cell_type": "code",
      "metadata": {
        "id": "4V3GZyeoKr3G",
        "colab": {
          "base_uri": "https://localhost:8080/"
        },
        "outputId": "f19fef4c-9ffd-4ec9-afa5-5bbba4d62a4e"
      },
      "source": [
        "vac = word2vec.Word2Vec(cleaned_df, size=500, window=5, min_count=3, workers=cpu)\n",
        "vac.train(cleaned_df, total_examples=len(cleaned_df), epochs=10)"
      ],
      "execution_count": null,
      "outputs": [
        {
          "output_type": "execute_result",
          "data": {
            "text/plain": [
              "(5216479, 7506120)"
            ]
          },
          "metadata": {
            "tags": []
          },
          "execution_count": 47
        }
      ]
    },
    {
      "cell_type": "code",
      "metadata": {
        "id": "nDPeQjCzKr3H"
      },
      "source": [
        "def closest_to(w, n=10):\n",
        "    if w in vac.wv:\n",
        "      closest_ws =[w[0] for w in vac.wv.most_similar(w, topn=n)]\n",
        "      print(\"According to our database, the closest {}, words to \\\"{}\\\" \" \n",
        "      \"are: \\n {}\".format( n, w, '\"'+'\",\\n then \"'.join(closest_ws)+'\"'))\n",
        "    else:\n",
        "      print(w, \" could not be found in the {} vocabulary\")"
      ],
      "execution_count": null,
      "outputs": []
    },
    {
      "cell_type": "code",
      "metadata": {
        "id": "mlbNV1e3Kr3H",
        "colab": {
          "base_uri": "https://localhost:8080/"
        },
        "outputId": "88383876-8f4e-40c5-8647-5330fdb427ec"
      },
      "source": [
        "vac.wv.most_similar('moderna')"
      ],
      "execution_count": null,
      "outputs": [
        {
          "output_type": "execute_result",
          "data": {
            "text/plain": [
              "[('moderna_tx', 0.5068925619125366),\n",
              " ('johnsonandjohnson', 0.4376550614833832),\n",
              " ('biontech', 0.4154750406742096),\n",
              " ('oxfordastrazeneca', 0.4080994427204132),\n",
              " (\"moderna's\", 0.4035710096359253),\n",
              " ('joy', 0.3997988998889923),\n",
              " ('pfizervaccine', 0.3985365331172943),\n",
              " ('pfizerbiontech', 0.39505377411842346),\n",
              " ('complete', 0.3864707350730896),\n",
              " ('vaccinesafetyadvocate', 0.37450194358825684)]"
            ]
          },
          "metadata": {
            "tags": []
          },
          "execution_count": 49
        }
      ]
    },
    {
      "cell_type": "code",
      "metadata": {
        "id": "kvtwy9wDKr3H"
      },
      "source": [
        "#As a reminder\n",
        "T1=['sinovac', 'sinopharm', 'covaxin']\n",
        "T2=['pfizerbiontech', 'moderna']\n",
        "T3=['astrazeneca', 'sputnikv', 'johnson']\n",
        "T4=['novavax', 'sanofi']"
      ],
      "execution_count": null,
      "outputs": []
    },
    {
      "cell_type": "code",
      "metadata": {
        "id": "aIltI1-KKr3I"
      },
      "source": [
        "T2.extend(['modernavaccine','mrna', \"pfizer's\", \"pfizer-biontech\", \"phizer\",\"pfzier\", \"moderna's\",\"moderna_tx\", \"biontech\"])\n",
        "T3.extend([\"johnsonandjohnson\",\"oxfordastrazeneca\"])"
      ],
      "execution_count": null,
      "outputs": []
    },
    {
      "cell_type": "code",
      "metadata": {
        "id": "t5IAwBQzKr3I"
      },
      "source": [
        "T3.extend([\"astrazenaca\",\"astrazenecavaccine\",\"az\",\"zenica\",\"zeneca\",\"oxford-astrazeneca\", \"sputnik\",\"sputnik-v\", \"johnson's\", 'russian', 'russia', \"russia's\", 'covishield'])\n",
        "T2.extend(['pfizervaccine',\"pfizer\"])"
      ],
      "execution_count": null,
      "outputs": []
    },
    {
      "cell_type": "code",
      "metadata": {
        "id": "ec22kS6TKr3I"
      },
      "source": [
        "T3.extend([\"astrazeneka\",\"jnj\", \"janssen\", 'jansen',\"johnsonjohnson\" ])\n",
        "T4.extend(['merck','novovax'])\n",
        "T2.extend(['pfizervaccine',\"pfizer\", 'pfizer_biontech'])\n",
        "T1.extend([\"sinopharm's\",\"sinovac's\",'gsk',\"sinovac-made\",\"chinese\",'macao',\"china's\",'beijing', \"coronavac\",\"bharatbiotech\",\"india's\",'seruminstindia', 'madeinindia',\"india\", 'narendramodi','modi', 'mohfw_india'])"
      ],
      "execution_count": null,
      "outputs": []
    },
    {
      "cell_type": "code",
      "metadata": {
        "id": "yOnPwAycKr3J"
      },
      "source": [
        "#Check the results with this second typology\n",
        "n=len(df)\n",
        "tv1=[False]*n\n",
        "tv2=[False]*n\n",
        "tv3=[False]*n\n",
        "tv4=[False]*n\n",
        "t=[\"General\"]*n\n",
        "for i in range(n) : \n",
        "    tv1[i]=type_vaccine(cleaned_df[i],T1)\n",
        "    tv2[i]=type_vaccine(cleaned_df[i],T2)\n",
        "    tv3[i]=type_vaccine(cleaned_df[i],T3)\n",
        "    tv4[i]=type_vaccine(cleaned_df[i],T4)\n",
        "    if (tv1[i]+tv2[i]+tv3[i]+tv4[i]==1):\n",
        "        if (tv1[i]==1):\n",
        "            t[i]=\"Inactiv\"\n",
        "        elif (tv2[i]==1):\n",
        "            t[i]=\"ARNmsg\"\n",
        "        elif (tv3[i]==1):\n",
        "            t[i]=\"Viral\"\n",
        "        else :\n",
        "            t[i]=\"Protein\"\n",
        "    elif (tv1[i]+tv2[i]+tv3[i]+tv4[i]==0):\n",
        "        t[i]=\"None\"\n",
        "    else:\n",
        "        t[i]=\"More than one\"\n",
        "df['categ_vaccin2']=t"
      ],
      "execution_count": null,
      "outputs": []
    },
    {
      "cell_type": "code",
      "metadata": {
        "id": "usSqWIeYKr3K",
        "colab": {
          "base_uri": "https://localhost:8080/",
          "height": 690
        },
        "outputId": "7d1cb7d3-7dd4-4672-b386-525be4e66eb9"
      },
      "source": [
        "import matplotlib.pyplot as plt\n",
        "%matplotlib inline\n",
        "plt.hist([df['categ_vaccin'], df['categ_vaccin2']], bins=50, label=['typologie1', 'typologie2'])"
      ],
      "execution_count": null,
      "outputs": [
        {
          "output_type": "execute_result",
          "data": {
            "text/plain": [
              "(array([[1.0938e+04, 0.0000e+00, 0.0000e+00, 0.0000e+00, 0.0000e+00,\n",
              "         0.0000e+00, 0.0000e+00, 0.0000e+00, 0.0000e+00, 0.0000e+00,\n",
              "         1.7044e+04, 0.0000e+00, 0.0000e+00, 0.0000e+00, 0.0000e+00,\n",
              "         0.0000e+00, 0.0000e+00, 0.0000e+00, 0.0000e+00, 0.0000e+00,\n",
              "         8.7600e+02, 0.0000e+00, 0.0000e+00, 0.0000e+00, 0.0000e+00,\n",
              "         0.0000e+00, 0.0000e+00, 0.0000e+00, 0.0000e+00, 0.0000e+00,\n",
              "         4.0850e+03, 0.0000e+00, 0.0000e+00, 0.0000e+00, 0.0000e+00,\n",
              "         0.0000e+00, 0.0000e+00, 0.0000e+00, 0.0000e+00, 0.0000e+00,\n",
              "         6.7530e+03, 0.0000e+00, 0.0000e+00, 0.0000e+00, 0.0000e+00,\n",
              "         0.0000e+00, 0.0000e+00, 0.0000e+00, 0.0000e+00, 2.4000e+01],\n",
              "        [1.1829e+04, 0.0000e+00, 0.0000e+00, 0.0000e+00, 0.0000e+00,\n",
              "         0.0000e+00, 0.0000e+00, 0.0000e+00, 0.0000e+00, 0.0000e+00,\n",
              "         1.0017e+04, 0.0000e+00, 0.0000e+00, 0.0000e+00, 0.0000e+00,\n",
              "         0.0000e+00, 0.0000e+00, 0.0000e+00, 0.0000e+00, 0.0000e+00,\n",
              "         2.3250e+03, 0.0000e+00, 0.0000e+00, 0.0000e+00, 0.0000e+00,\n",
              "         0.0000e+00, 0.0000e+00, 0.0000e+00, 0.0000e+00, 0.0000e+00,\n",
              "         6.4780e+03, 0.0000e+00, 0.0000e+00, 0.0000e+00, 0.0000e+00,\n",
              "         0.0000e+00, 0.0000e+00, 0.0000e+00, 0.0000e+00, 0.0000e+00,\n",
              "         9.0540e+03, 0.0000e+00, 0.0000e+00, 0.0000e+00, 0.0000e+00,\n",
              "         0.0000e+00, 0.0000e+00, 0.0000e+00, 0.0000e+00, 1.7000e+01]]),\n",
              " array([0. , 0.1, 0.2, 0.3, 0.4, 0.5, 0.6, 0.7, 0.8, 0.9, 1. , 1.1, 1.2,\n",
              "        1.3, 1.4, 1.5, 1.6, 1.7, 1.8, 1.9, 2. , 2.1, 2.2, 2.3, 2.4, 2.5,\n",
              "        2.6, 2.7, 2.8, 2.9, 3. , 3.1, 3.2, 3.3, 3.4, 3.5, 3.6, 3.7, 3.8,\n",
              "        3.9, 4. , 4.1, 4.2, 4.3, 4.4, 4.5, 4.6, 4.7, 4.8, 4.9, 5. ]),\n",
              " <a list of 2 Lists of Patches objects>)"
            ]
          },
          "metadata": {
            "tags": []
          },
          "execution_count": 56
        },
        {
          "output_type": "display_data",
          "data": {
            "image/png": "[encoded data removed]",
            "text/plain": [
              "<Figure size 432x288 with 1 Axes>"
            ]
          },
          "metadata": {
            "tags": [],
            "needs_background": "light"
          }
        }
      ]
    },
    {
      "cell_type": "code",
      "metadata": {
        "id": "x-cvD3MDKr3K",
        "colab": {
          "base_uri": "https://localhost:8080/"
        },
        "outputId": "290efb41-5fd3-4358-b9c0-d4d60c6f05e8"
      },
      "source": [
        "df.categ_vaccin2.value_counts()"
      ],
      "execution_count": null,
      "outputs": [
        {
          "output_type": "execute_result",
          "data": {
            "text/plain": [
              "ARNmsg           11829\n",
              "None             10017\n",
              "Inactiv           9054\n",
              "Viral             6478\n",
              "More than one     2325\n",
              "Protein             17\n",
              "Name: categ_vaccin2, dtype: int64"
            ]
          },
          "metadata": {
            "tags": []
          },
          "execution_count": 57
        }
      ]
    },
    {
      "cell_type": "markdown",
      "metadata": {
        "id": "v8JYXkEATCEV"
      },
      "source": [
        "Big improvment : half of the \"None\" vaccines in the previous typology are now assigned to one of our types."
      ]
    },
    {
      "cell_type": "markdown",
      "metadata": {
        "id": "DUFpw_ZWKr3K"
      },
      "source": [
        "### Average embedding - by typology"
      ]
    },
    {
      "cell_type": "code",
      "metadata": {
        "id": "IIg6l8GGKr3L"
      },
      "source": [
        "TC3=T1\n",
        "TC3.extend(T2)\n",
        "TC3.extend(T4)\n",
        "TC2=T1\n",
        "TC2.extend(T3)\n",
        "TC2.extend(T4)\n",
        "TC1=T2\n",
        "TC1.extend(T3)\n",
        "TC1.extend(T4)\n",
        "TC4=T1\n",
        "TC4.extend(T2)\n",
        "TC4.extend(T3)"
      ],
      "execution_count": null,
      "outputs": []
    },
    {
      "cell_type": "code",
      "metadata": {
        "id": "Pxq9xLOdKr3L",
        "colab": {
          "base_uri": "https://localhost:8080/"
        },
        "outputId": "f26e5247-3e1c-40bf-aa42-d05dbd9c96bf"
      },
      "source": [
        "#When introducing only a positive contraint, score are relatively high, but the words similar to T1 and T2 are quite the same\n",
        "vac.wv.most_similar(positive=T1)"
      ],
      "execution_count": null,
      "outputs": [
        {
          "output_type": "execute_result",
          "data": {
            "text/plain": [
              "[('polyethyleneglycol', 0.7574619054794312),\n",
              " ('dictaturesanitaire', 0.7201043367385864),\n",
              " ('single-dose', 0.7143621444702148),\n",
              " ('seeker', 0.7009153962135315),\n",
              " ('grundrechte', 0.6934678554534912),\n",
              " ('asianlivesmatter', 0.688237190246582),\n",
              " ('esreicht', 0.6832340955734253),\n",
              " ('covid19usa', 0.6817169189453125),\n",
              " ('jnjnews', 0.6784499883651733),\n",
              " ('biontech_group', 0.6736606359481812)]"
            ]
          },
          "metadata": {
            "tags": []
          },
          "execution_count": 59
        }
      ]
    },
    {
      "cell_type": "code",
      "metadata": {
        "id": "IalWxfUVKr3L",
        "colab": {
          "base_uri": "https://localhost:8080/"
        },
        "outputId": "ca94c095-e037-42bf-f1a1-b39695c70192"
      },
      "source": [
        "vac.wv.most_similar(positive=T2)"
      ],
      "execution_count": null,
      "outputs": [
        {
          "output_type": "execute_result",
          "data": {
            "text/plain": [
              "[('polyethyleneglycol', 0.7364055514335632),\n",
              " ('jandj', 0.703313410282135),\n",
              " ('biontech_group', 0.6886601448059082),\n",
              " ('grundrechte', 0.6878188848495483),\n",
              " ('johnsonandjohnsonvaccine', 0.6871811747550964),\n",
              " ('dictaturesanitaire', 0.6836273074150085),\n",
              " ('single-dose', 0.6815540790557861),\n",
              " ('esreicht', 0.6800119876861572),\n",
              " ('seeker', 0.6680387258529663),\n",
              " ('jnjnews', 0.665838360786438)]"
            ]
          },
          "metadata": {
            "tags": []
          },
          "execution_count": 60
        }
      ]
    },
    {
      "cell_type": "code",
      "metadata": {
        "id": "O-zyiiffKr3L",
        "colab": {
          "base_uri": "https://localhost:8080/"
        },
        "outputId": "65ffda2a-caad-4697-a699-97c02b1134d8"
      },
      "source": [
        "#When introducing a positive AND a negative contraint, score are highly diminshed and doesn't seem right\n",
        "vac.wv.most_similar(positive=T3, negative=T2)"
      ],
      "execution_count": null,
      "outputs": [
        {
          "output_type": "execute_result",
          "data": {
            "text/plain": [
              "[('minis', 0.4843898117542267),\n",
              " ('tafrishaala', 0.48294514417648315),\n",
              " ('suspects', 0.47655820846557617),\n",
              " (\"nation's\", 0.4675544500350952),\n",
              " ('prime', 0.33205971121788025),\n",
              " ('nivedita', 0.3250318765640259),\n",
              " ('waited', 0.32467231154441833),\n",
              " ('repub', 0.3239045739173889),\n",
              " ('home', 0.2951744794845581),\n",
              " ('asks', 0.2858717143535614)]"
            ]
          },
          "metadata": {
            "tags": []
          },
          "execution_count": 61
        }
      ]
    },
    {
      "cell_type": "code",
      "metadata": {
        "id": "uYe6CghoKr3M",
        "colab": {
          "base_uri": "https://localhost:8080/"
        },
        "outputId": "53d569f4-3740-469c-8dc9-cf503173fee1"
      },
      "source": [
        "vac.wv.most_similar(positive=T3, negative=TC3)"
      ],
      "execution_count": null,
      "outputs": [
        {
          "output_type": "execute_result",
          "data": {
            "text/plain": [
              "[('suspects', 0.48060476779937744),\n",
              " (\"nation's\", 0.3981373906135559),\n",
              " ('tafrishaala', 0.3554260730743408),\n",
              " ('minis', 0.3467510938644409),\n",
              " ('quidangen', 0.31925955414772034),\n",
              " ('went', 0.31595712900161743),\n",
              " ('nivedita', 0.30980440974235535),\n",
              " ('marketers', 0.30604198575019836),\n",
              " ('home', 0.2926156222820282),\n",
              " ('see', 0.27947309613227844)]"
            ]
          },
          "metadata": {
            "tags": []
          },
          "execution_count": 62
        }
      ]
    },
    {
      "cell_type": "markdown",
      "metadata": {
        "id": "QFoUnvH2Kr3M"
      },
      "source": [
        "### Trying the same thing only on the hashtags"
      ]
    },
    {
      "cell_type": "code",
      "metadata": {
        "id": "v62TBMXhKr3M",
        "colab": {
          "base_uri": "https://localhost:8080/"
        },
        "outputId": "aebe1416-4aac-4c89-a9af-bce50534339c"
      },
      "source": [
        "import re\n",
        "hash_prog = re.compile('#')\n",
        "df1 = df.drop_duplicates('text')\n",
        "df1['minuscules']=df1['text'].apply(lambda x: x.lower())\n",
        "ntype = 'hashtags'\n",
        "df1[ntype] = df1['minuscules'].apply(lambda x: len(hash_prog.split(x))-1).array\n",
        "df1[ntype].head()\n",
        "\n",
        "regex = \"#(\\w+)\"\n",
        "df1['hashtag_man'] = df1['minuscules'].apply(lambda x: re.findall(regex, x)).array\n",
        "arrh=df1['minuscules'].apply(lambda x: re.findall(regex, x)).array\n",
        "df1['hashtag_man'].head()\n",
        "DictHashtags = reduce(add, arrh)\n",
        "print(DictHashtags[3])\n",
        "len(set(DictHashtags))"
      ],
      "execution_count": null,
      "outputs": [
        {
          "output_type": "stream",
          "text": [
            "/usr/local/lib/python3.7/dist-packages/ipykernel_launcher.py:4: SettingWithCopyWarning: \n",
            "A value is trying to be set on a copy of a slice from a DataFrame.\n",
            "Try using .loc[row_indexer,col_indexer] = value instead\n",
            "\n",
            "See the caveats in the documentation: https://pandas.pydata.org/pandas-docs/stable/user_guide/indexing.html#returning-a-view-versus-a-copy\n",
            "  after removing the cwd from sys.path.\n",
            "/usr/local/lib/python3.7/dist-packages/ipykernel_launcher.py:6: SettingWithCopyWarning: \n",
            "A value is trying to be set on a copy of a slice from a DataFrame.\n",
            "Try using .loc[row_indexer,col_indexer] = value instead\n",
            "\n",
            "See the caveats in the documentation: https://pandas.pydata.org/pandas-docs/stable/user_guide/indexing.html#returning-a-view-versus-a-copy\n",
            "  \n",
            "/usr/local/lib/python3.7/dist-packages/ipykernel_launcher.py:10: SettingWithCopyWarning: \n",
            "A value is trying to be set on a copy of a slice from a DataFrame.\n",
            "Try using .loc[row_indexer,col_indexer] = value instead\n",
            "\n",
            "See the caveats in the documentation: https://pandas.pydata.org/pandas-docs/stable/user_guide/indexing.html#returning-a-view-versus-a-copy\n",
            "  # Remove the CWD from sys.path while we load stuff.\n"
          ],
          "name": "stderr"
        },
        {
          "output_type": "stream",
          "text": [
            "astrazeneca\n"
          ],
          "name": "stdout"
        },
        {
          "output_type": "execute_result",
          "data": {
            "text/plain": [
              "7912"
            ]
          },
          "metadata": {
            "tags": []
          },
          "execution_count": 63
        }
      ]
    },
    {
      "cell_type": "code",
      "metadata": {
        "id": "XeBOwxh4Kr3N",
        "colab": {
          "base_uri": "https://localhost:8080/"
        },
        "outputId": "b6344371-399a-47fa-dd99-fb7d8df593d8"
      },
      "source": [
        "hasht = word2vec.Word2Vec(arrh, size=500, window=5, min_count=3, workers=cpu)\n",
        "hasht.train(arrh, total_examples=len(arrh), epochs=10)"
      ],
      "execution_count": null,
      "outputs": [
        {
          "output_type": "execute_result",
          "data": {
            "text/plain": [
              "(299212, 744460)"
            ]
          },
          "metadata": {
            "tags": []
          },
          "execution_count": 64
        }
      ]
    },
    {
      "cell_type": "code",
      "metadata": {
        "id": "EGUwocBSKr3N",
        "colab": {
          "base_uri": "https://localhost:8080/"
        },
        "outputId": "f498f124-823d-4da6-f029-b35d15b08ff5"
      },
      "source": [
        "hasht.wv.most_similar('moderna') #Scores are much higher"
      ],
      "execution_count": null,
      "outputs": [
        {
          "output_type": "execute_result",
          "data": {
            "text/plain": [
              "[('pfizerbiontech', 0.9353529810905457),\n",
              " ('pfizercovidvaccine', 0.92970871925354),\n",
              " ('covidvac', 0.9275126457214355),\n",
              " ('pfizervaccine', 0.9252889752388),\n",
              " ('johnsonandjohnson', 0.9215212464332581),\n",
              " ('vaccineswork', 0.9171911478042603),\n",
              " ('oxfordastrazeneca', 0.912535548210144),\n",
              " ('1', 0.9109129309654236),\n",
              " ('vaccinessavelives', 0.9104799032211304),\n",
              " ('2', 0.9076151847839355)]"
            ]
          },
          "metadata": {
            "tags": []
          },
          "execution_count": 65
        }
      ]
    },
    {
      "cell_type": "code",
      "metadata": {
        "id": "7Ef-2iCVKr3N",
        "colab": {
          "base_uri": "https://localhost:8080/"
        },
        "outputId": "f8b81629-939c-4fd0-d8f8-bca074e53437"
      },
      "source": [
        "hasht.wv.most_similar(positive=[\"oxford\",'astrazeneca','astrazenecavaccine','johnson',\"johnsonandjohnsonvaccine\",'jandj','janssen'], negative=['moderna','pfizerbiontech','pfizer'])"
      ],
      "execution_count": null,
      "outputs": [
        {
          "output_type": "execute_result",
          "data": {
            "text/plain": [
              "[('israel', 0.988615870475769),\n",
              " ('slovaks', 0.9853893518447876),\n",
              " ('dollypartonvaccine', 0.9806027412414551),\n",
              " ('bigpharma', 0.9800355434417725),\n",
              " ('goodnews', 0.9789871573448181),\n",
              " ('brexit', 0.9771125316619873),\n",
              " ('vaccinations', 0.9768474698066711),\n",
              " ('fundamental', 0.9747326374053955),\n",
              " ('astrazeneka', 0.9741049408912659),\n",
              " ('pfizer_biontech', 0.9736347198486328)]"
            ]
          },
          "metadata": {
            "tags": []
          },
          "execution_count": 66
        }
      ]
    },
    {
      "cell_type": "code",
      "metadata": {
        "id": "S05tySTUKr3N",
        "colab": {
          "base_uri": "https://localhost:8080/"
        },
        "outputId": "605dbc9e-7a37-4c72-91ec-e09eb0b5e0c6"
      },
      "source": [
        "hasht.wv.most_similar(positive=['moderna','modernavaccine','mrna', 'pfizerbiontech','pfizer', 'biontech', 'phizer'],negative=[\"oxford\",'astrazeneca','astrazenecavaccine','johnson',\"johnsonandjohnsonvaccine\",'jandj','janssen'])"
      ],
      "execution_count": null,
      "outputs": [
        {
          "output_type": "execute_result",
          "data": {
            "text/plain": [
              "[('flybhaarathinternational', 0.08001767098903656),\n",
              " ('vaccinated', 0.05667128413915634),\n",
              " ('sandiegocounty', 0.03992065414786339),\n",
              " ('pfizercovidvaccine', 0.035539425909519196),\n",
              " ('1', 0.03489479795098305),\n",
              " ('ndtvexclusive', 0.028033098205924034),\n",
              " ('biontechleaks', 0.027339862659573555),\n",
              " ('vaccineswork', 0.02344806119799614),\n",
              " ('getvaccinated', 0.023033447563648224),\n",
              " ('2', 0.02026567980647087)]"
            ]
          },
          "metadata": {
            "tags": []
          },
          "execution_count": 67
        }
      ]
    },
    {
      "cell_type": "markdown",
      "metadata": {
        "id": "CilEOnJ6Kr3O"
      },
      "source": [
        "The embedding works better (higher scores for T3), but we cannot use the same typology, as there are fewer words. \n",
        "So we prefer to stay on the text corpus, for the embedding, and try a last type of classification"
      ]
    },
    {
      "cell_type": "markdown",
      "metadata": {
        "id": "dm8FmEKRKr3O"
      },
      "source": [
        "### Average embedding"
      ]
    },
    {
      "cell_type": "code",
      "metadata": {
        "id": "pfwSq_K9Kr3O"
      },
      "source": [
        "#Compute an average score\n",
        "def score(word,T):\n",
        "    len=0\n",
        "    sum=0\n",
        "    for i in T :\n",
        "        sum+=vac.wv.similarity(word,i)\n",
        "        len=len+1\n",
        "    if (len!=0):\n",
        "        score=sum/len\n",
        "    else :\n",
        "        score=0\n",
        "    return score\n",
        "#Associate an average score at every text\n",
        "def avg_embedding(phrase,T):\n",
        "    return(sum(score(w, T) for w in phrase if w in vac.wv))"
      ],
      "execution_count": null,
      "outputs": []
    },
    {
      "cell_type": "code",
      "metadata": {
        "id": "Ppxg_LfYKr3P"
      },
      "source": [
        "t=[\"General\"]*n\n",
        "for i in range(n):\n",
        "    X=cleaned_df[i]\n",
        "    m1=avg_embedding(X,T1)\n",
        "    m2=avg_embedding(X,T2)\n",
        "    m3=avg_embedding(X,T3)\n",
        "    m4=avg_embedding(X,T4)\n",
        "    maximum=max(m1,m2,m3,m4)\n",
        "    if (maximum!=0):\n",
        "        if (maximum==m1):\n",
        "            t[i]=\"Inactiv\"\n",
        "        elif (maximum==m2):\n",
        "             t[i]=\"ARNmsg\"\n",
        "        elif (maximum==m3):\n",
        "             t[i]==\"Viral\"\n",
        "        else :\n",
        "            t[i]==\"Protein\"\n",
        "df['categ_vaccin3']=t         "
      ],
      "execution_count": null,
      "outputs": []
    },
    {
      "cell_type": "code",
      "metadata": {
        "id": "lbN5kz4RKr3P",
        "colab": {
          "base_uri": "https://localhost:8080/",
          "height": 709
        },
        "outputId": "279b87ee-717b-40a5-b8fc-d8294a71a4b9"
      },
      "source": [
        "import matplotlib.pyplot as plt\n",
        "%matplotlib inline\n",
        "plt.hist([df['categ_vaccin2'], df['categ_vaccin3']], bins=50, label=['typologie2', 'typologie3'])"
      ],
      "execution_count": null,
      "outputs": [
        {
          "output_type": "execute_result",
          "data": {
            "text/plain": [
              "(array([[1.1829e+04, 0.0000e+00, 0.0000e+00, 0.0000e+00, 0.0000e+00,\n",
              "         0.0000e+00, 0.0000e+00, 0.0000e+00, 1.0017e+04, 0.0000e+00,\n",
              "         0.0000e+00, 0.0000e+00, 0.0000e+00, 0.0000e+00, 0.0000e+00,\n",
              "         0.0000e+00, 2.3250e+03, 0.0000e+00, 0.0000e+00, 0.0000e+00,\n",
              "         0.0000e+00, 0.0000e+00, 0.0000e+00, 0.0000e+00, 0.0000e+00,\n",
              "         6.4780e+03, 0.0000e+00, 0.0000e+00, 0.0000e+00, 0.0000e+00,\n",
              "         0.0000e+00, 0.0000e+00, 0.0000e+00, 9.0540e+03, 0.0000e+00,\n",
              "         0.0000e+00, 0.0000e+00, 0.0000e+00, 0.0000e+00, 0.0000e+00,\n",
              "         0.0000e+00, 1.7000e+01, 0.0000e+00, 0.0000e+00, 0.0000e+00,\n",
              "         0.0000e+00, 0.0000e+00, 0.0000e+00, 0.0000e+00, 0.0000e+00],\n",
              "        [8.3820e+03, 0.0000e+00, 0.0000e+00, 0.0000e+00, 0.0000e+00,\n",
              "         0.0000e+00, 0.0000e+00, 0.0000e+00, 0.0000e+00, 0.0000e+00,\n",
              "         0.0000e+00, 0.0000e+00, 0.0000e+00, 0.0000e+00, 0.0000e+00,\n",
              "         0.0000e+00, 0.0000e+00, 0.0000e+00, 0.0000e+00, 0.0000e+00,\n",
              "         0.0000e+00, 0.0000e+00, 0.0000e+00, 0.0000e+00, 0.0000e+00,\n",
              "         0.0000e+00, 0.0000e+00, 0.0000e+00, 0.0000e+00, 0.0000e+00,\n",
              "         0.0000e+00, 0.0000e+00, 0.0000e+00, 2.4340e+03, 0.0000e+00,\n",
              "         0.0000e+00, 0.0000e+00, 0.0000e+00, 0.0000e+00, 0.0000e+00,\n",
              "         0.0000e+00, 0.0000e+00, 0.0000e+00, 0.0000e+00, 0.0000e+00,\n",
              "         0.0000e+00, 0.0000e+00, 0.0000e+00, 0.0000e+00, 2.8904e+04]]),\n",
              " array([0.  , 0.12, 0.24, 0.36, 0.48, 0.6 , 0.72, 0.84, 0.96, 1.08, 1.2 ,\n",
              "        1.32, 1.44, 1.56, 1.68, 1.8 , 1.92, 2.04, 2.16, 2.28, 2.4 , 2.52,\n",
              "        2.64, 2.76, 2.88, 3.  , 3.12, 3.24, 3.36, 3.48, 3.6 , 3.72, 3.84,\n",
              "        3.96, 4.08, 4.2 , 4.32, 4.44, 4.56, 4.68, 4.8 , 4.92, 5.04, 5.16,\n",
              "        5.28, 5.4 , 5.52, 5.64, 5.76, 5.88, 6.  ]),\n",
              " <a list of 2 Lists of Patches objects>)"
            ]
          },
          "metadata": {
            "tags": []
          },
          "execution_count": 70
        },
        {
          "output_type": "display_data",
          "data": {
            "image/png": "[encoded data removed]",
            "text/plain": [
              "<Figure size 432x288 with 1 Axes>"
            ]
          },
          "metadata": {
            "tags": [],
            "needs_background": "light"
          }
        }
      ]
    },
    {
      "cell_type": "markdown",
      "metadata": {
        "id": "iISyYUdoWrCK"
      },
      "source": [
        "The best typology is the second one, that is the one we decide to keep for further analysis."
      ]
    },
    {
      "cell_type": "code",
      "metadata": {
        "id": "GMgzUhtFKr3P"
      },
      "source": [
        "#df.to_csv(r'data\\vax_classif.csv', index = False)"
      ],
      "execution_count": null,
      "outputs": []
    },
    {
      "cell_type": "markdown",
      "metadata": {
        "id": "Wv9mGLeeW0pA"
      },
      "source": [
        "### Descriptive statistics"
      ]
    },
    {
      "cell_type": "code",
      "metadata": {
        "colab": {
          "base_uri": "https://localhost:8080/",
          "height": 266
        },
        "id": "Lt-iwD_jW1Fn",
        "outputId": "e93f951b-8085-427a-b5a6-959508835c37"
      },
      "source": [
        "df.groupby(\"categ_vaccin2\")[\"retweets\"].agg([np.mean, np.std])"
      ],
      "execution_count": null,
      "outputs": [
        {
          "output_type": "execute_result",
          "data": {
            "text/html": [
              "<div>\n",
              "<style scoped>\n",
              "    .dataframe tbody tr th:only-of-type {\n",
              "        vertical-align: middle;\n",
              "    }\n",
              "\n",
              "    .dataframe tbody tr th {\n",
              "        vertical-align: top;\n",
              "    }\n",
              "\n",
              "    .dataframe thead th {\n",
              "        text-align: right;\n",
              "    }\n",
              "</style>\n",
              "<table border=\"1\" class=\"dataframe\">\n",
              "  <thead>\n",
              "    <tr style=\"text-align: right;\">\n",
              "      <th></th>\n",
              "      <th>mean</th>\n",
              "      <th>std</th>\n",
              "    </tr>\n",
              "    <tr>\n",
              "      <th>categ_vaccin2</th>\n",
              "      <th></th>\n",
              "      <th></th>\n",
              "    </tr>\n",
              "  </thead>\n",
              "  <tbody>\n",
              "    <tr>\n",
              "      <th>ARNmsg</th>\n",
              "      <td>1.341534</td>\n",
              "      <td>23.202218</td>\n",
              "    </tr>\n",
              "    <tr>\n",
              "      <th>Inactiv</th>\n",
              "      <td>5.222112</td>\n",
              "      <td>50.575273</td>\n",
              "    </tr>\n",
              "    <tr>\n",
              "      <th>More than one</th>\n",
              "      <td>1.901505</td>\n",
              "      <td>17.034546</td>\n",
              "    </tr>\n",
              "    <tr>\n",
              "      <th>None</th>\n",
              "      <td>2.212738</td>\n",
              "      <td>22.083150</td>\n",
              "    </tr>\n",
              "    <tr>\n",
              "      <th>Protein</th>\n",
              "      <td>0.176471</td>\n",
              "      <td>0.392953</td>\n",
              "    </tr>\n",
              "    <tr>\n",
              "      <th>Viral</th>\n",
              "      <td>5.081352</td>\n",
              "      <td>37.999411</td>\n",
              "    </tr>\n",
              "  </tbody>\n",
              "</table>\n",
              "</div>"
            ],
            "text/plain": [
              "                   mean        std\n",
              "categ_vaccin2                     \n",
              "ARNmsg         1.341534  23.202218\n",
              "Inactiv        5.222112  50.575273\n",
              "More than one  1.901505  17.034546\n",
              "None           2.212738  22.083150\n",
              "Protein        0.176471   0.392953\n",
              "Viral          5.081352  37.999411"
            ]
          },
          "metadata": {
            "tags": []
          },
          "execution_count": 71
        }
      ]
    },
    {
      "cell_type": "markdown",
      "metadata": {
        "id": "SotVPqSOcLRD"
      },
      "source": [
        "Tweets about inactiv and viral vaccines (such as AZ) have more retweets than other, surely because they are more controversial so people expect to have more information about them."
      ]
    },
    {
      "cell_type": "markdown",
      "metadata": {
        "id": "d7XRSf3uXIMb"
      },
      "source": [
        "# Timeline evolution for different types of vaccines"
      ]
    },
    {
      "cell_type": "code",
      "metadata": {
        "colab": {
          "base_uri": "https://localhost:8080/"
        },
        "id": "RMxAUBixXMg6",
        "outputId": "1f7e1509-4ff0-4160-f681-54bd67cf5ed9"
      },
      "source": [
        "!wget https://dazzling-payne-62d225.netlify.app/data/vax_with_neutral.csv"
      ],
      "execution_count": null,
      "outputs": [
        {
          "output_type": "stream",
          "text": [
            "--2021-04-17 20:23:14--  https://dazzling-payne-62d225.netlify.app/data/vax_with_neutral.csv\n",
            "Resolving dazzling-payne-62d225.netlify.app (dazzling-payne-62d225.netlify.app)... 50.18.120.10, 138.68.235.89, 2604:a880:2:d0::212a:f001, ...\n",
            "Connecting to dazzling-payne-62d225.netlify.app (dazzling-payne-62d225.netlify.app)|50.18.120.10|:443... connected.\n",
            "HTTP request sent, awaiting response... 200 OK\n",
            "Length: 17696870 (17M) [text/csv]\n",
            "Saving to: ‘vax_with_neutral.csv’\n",
            "\n",
            "vax_with_neutral.cs 100%[===================>]  16.88M  1.25MB/s    in 14s     \n",
            "\n",
            "2021-04-17 20:23:28 (1.24 MB/s) - ‘vax_with_neutral.csv’ saved [17696870/17696870]\n",
            "\n"
          ],
          "name": "stdout"
        }
      ]
    },
    {
      "cell_type": "code",
      "metadata": {
        "colab": {
          "base_uri": "https://localhost:8080/"
        },
        "id": "ZzvXd8vicPoN",
        "outputId": "fc5cd981-762d-498d-9302-c6c03077c576"
      },
      "source": [
        "vax_tweets = pd.read_csv('vax_with_neutral.csv')\n",
        "vax_tweets.shape"
      ],
      "execution_count": null,
      "outputs": [
        {
          "output_type": "stream",
          "text": [
            "/usr/local/lib/python3.7/dist-packages/IPython/core/interactiveshell.py:2718: DtypeWarning: Columns (0,1,6,7,8,9,14,15,16) have mixed types.Specify dtype option on import or set low_memory=False.\n",
            "  interactivity=interactivity, compiler=compiler, result=result)\n"
          ],
          "name": "stderr"
        },
        {
          "output_type": "execute_result",
          "data": {
            "text/plain": [
              "(39720, 20)"
            ]
          },
          "metadata": {
            "tags": []
          },
          "execution_count": 114
        }
      ]
    },
    {
      "cell_type": "code",
      "metadata": {
        "id": "hKiR84k4cWd4"
      },
      "source": [
        "vax_tweets = df[['id','categ_vaccin2']].merge(vax_tweets,on=['id'],how='inner')"
      ],
      "execution_count": null,
      "outputs": []
    },
    {
      "cell_type": "code",
      "metadata": {
        "colab": {
          "base_uri": "https://localhost:8080/"
        },
        "id": "7D1tF4LGgpAK",
        "outputId": "806b83b8-d8b3-4337-99c0-1f5ac937a685"
      },
      "source": [
        "vax_tweets['categ_vaccin2'].value_counts()"
      ],
      "execution_count": null,
      "outputs": [
        {
          "output_type": "execute_result",
          "data": {
            "text/plain": [
              "ARNmsg           1850\n",
              "None             1810\n",
              "Viral            1736\n",
              "Inactiv          1106\n",
              "More than one     448\n",
              "Protein             2\n",
              "Name: categ_vaccin2, dtype: int64"
            ]
          },
          "metadata": {
            "tags": []
          },
          "execution_count": 116
        }
      ]
    },
    {
      "cell_type": "code",
      "metadata": {
        "colab": {
          "base_uri": "https://localhost:8080/"
        },
        "id": "7nF0KI7Nc-ec",
        "outputId": "9215949d-9167-4abd-db3c-df0969218d95"
      },
      "source": [
        "arn = vax_tweets[vax_tweets['categ_vaccin2']=='ARNmsg']\n",
        "viral = vax_tweets[vax_tweets['categ_vaccin2']=='Viral']\n",
        "inact = vax_tweets[vax_tweets['categ_vaccin2']=='Inactiv']\n",
        "\n",
        "arn['date'] = pd.to_datetime(arn['date'], errors='coerce').dt.date\n",
        "viral['date'] = pd.to_datetime(viral['date'], errors='coerce').dt.date\n",
        "inact['date'] = pd.to_datetime(inact['date'], errors='coerce').dt.date\n",
        "\n",
        "timeline1 = arn.groupby(['date', 'new_sent']).agg(**{'tweets': ('id', 'count')}).reset_index().dropna()\n",
        "timeline2 = viral.groupby(['date', 'new_sent']).agg(**{'tweets': ('id', 'count')}).reset_index().dropna()\n",
        "timeline3 = inact.groupby(['date', 'new_sent']).agg(**{'tweets': ('id', 'count')}).reset_index().dropna()"
      ],
      "execution_count": null,
      "outputs": [
        {
          "output_type": "stream",
          "text": [
            "/usr/local/lib/python3.7/dist-packages/ipykernel_launcher.py:5: SettingWithCopyWarning: \n",
            "A value is trying to be set on a copy of a slice from a DataFrame.\n",
            "Try using .loc[row_indexer,col_indexer] = value instead\n",
            "\n",
            "See the caveats in the documentation: https://pandas.pydata.org/pandas-docs/stable/user_guide/indexing.html#returning-a-view-versus-a-copy\n",
            "  \"\"\"\n",
            "/usr/local/lib/python3.7/dist-packages/ipykernel_launcher.py:6: SettingWithCopyWarning: \n",
            "A value is trying to be set on a copy of a slice from a DataFrame.\n",
            "Try using .loc[row_indexer,col_indexer] = value instead\n",
            "\n",
            "See the caveats in the documentation: https://pandas.pydata.org/pandas-docs/stable/user_guide/indexing.html#returning-a-view-versus-a-copy\n",
            "  \n",
            "/usr/local/lib/python3.7/dist-packages/ipykernel_launcher.py:7: SettingWithCopyWarning: \n",
            "A value is trying to be set on a copy of a slice from a DataFrame.\n",
            "Try using .loc[row_indexer,col_indexer] = value instead\n",
            "\n",
            "See the caveats in the documentation: https://pandas.pydata.org/pandas-docs/stable/user_guide/indexing.html#returning-a-view-versus-a-copy\n",
            "  import sys\n"
          ],
          "name": "stderr"
        }
      ]
    },
    {
      "cell_type": "markdown",
      "metadata": {
        "id": "33faozY5iDMZ"
      },
      "source": [
        "## MRNA\n",
        "\n",
        "(ARN messager in French)"
      ]
    },
    {
      "cell_type": "code",
      "metadata": {
        "id": "UlOFckLJhF7w"
      },
      "source": [
        "dates = list(timeline1['date'].unique())\n",
        "timeline_pos1 = []\n",
        "for date in dates:\n",
        "  pos = list(timeline1[timeline1[\"date\"]==date]['tweets'])\n",
        "  try:\n",
        "    timeline_pos1.append([date,pos[2]/(pos[0]+pos[1]+pos[2])])\n",
        "  except:\n",
        "    timeline_pos1.append([date,0.5])"
      ],
      "execution_count": null,
      "outputs": []
    },
    {
      "cell_type": "markdown",
      "metadata": {
        "id": "SoTfxw5Ji_vI"
      },
      "source": [
        "## Viral"
      ]
    },
    {
      "cell_type": "code",
      "metadata": {
        "id": "VNPdbocBi_OJ"
      },
      "source": [
        "dates = list(timeline2['date'].unique())\n",
        "timeline_pos2 = []\n",
        "for date in dates:\n",
        "  pos = list(timeline2[timeline2[\"date\"]==date]['tweets'])\n",
        "  try:\n",
        "    timeline_pos2.append([date,pos[2]/(pos[0]+pos[1]+pos[2])])\n",
        "  except:\n",
        "    timeline_pos2.append([date,0.5])"
      ],
      "execution_count": null,
      "outputs": []
    },
    {
      "cell_type": "markdown",
      "metadata": {
        "id": "1OVt-_4Mkpid"
      },
      "source": [
        "## Inactiv"
      ]
    },
    {
      "cell_type": "code",
      "metadata": {
        "id": "AbX6vYq_kqR8"
      },
      "source": [
        "dates = list(timeline3['date'].unique())\n",
        "timeline_pos3 = []\n",
        "for date in dates:\n",
        "  pos = list(timeline3[timeline3[\"date\"]==date]['tweets'])\n",
        "  try:\n",
        "    timeline_pos3.append([date,pos[2]/(pos[0]+pos[1]+pos[2])])\n",
        "  except:\n",
        "    timeline_pos3.append([date,0.5])"
      ],
      "execution_count": null,
      "outputs": []
    },
    {
      "cell_type": "markdown",
      "metadata": {
        "id": "_Dvcz2atlW38"
      },
      "source": [
        "## Comparison"
      ]
    },
    {
      "cell_type": "code",
      "metadata": {
        "id": "5PsKWkzwlZGl"
      },
      "source": [
        "t1 = pd.DataFrame(timeline_pos1,columns=['date','new_sent'])\n",
        "t1['type'] = 'MRNA'\n",
        "t2 = pd.DataFrame(timeline_pos2,columns=['date','new_sent'])\n",
        "t2['type'] ='VIRAL'\n",
        "t3 = pd.DataFrame(timeline_pos3,columns=['date','new_sent'])\n",
        "t3['type'] = 'INACTIV'"
      ],
      "execution_count": null,
      "outputs": []
    },
    {
      "cell_type": "code",
      "metadata": {
        "id": "ZwM_MfSelkWR"
      },
      "source": [
        "tl = pd.concat([t1,t2,t3])"
      ],
      "execution_count": null,
      "outputs": []
    },
    {
      "cell_type": "code",
      "metadata": {
        "colab": {
          "base_uri": "https://localhost:8080/",
          "height": 542
        },
        "id": "KjsNyv54kx6h",
        "outputId": "6e6162f5-29c8-4c32-aa0f-76a7367060ae"
      },
      "source": [
        "fig = px.line(tl, x='date', y='new_sent', color='type',\n",
        "             title='Timeline showing sentiment of tweets about COVID-19 vaccines according to their type')\n",
        "fig.show()"
      ],
      "execution_count": null,
      "outputs": [
        {
          "output_type": "display_data",
          "data": {
            "text/html": [
              "<html>\n",
              "<head><meta charset=\"utf-8\" /></head>\n",
              "<body>\n",
              "    <div>\n",
              "            <script src=\"https://cdnjs.cloudflare.com/ajax/libs/mathjax/2.7.5/MathJax.js?config=TeX-AMS-MML_SVG\"></script><script type=\"text/javascript\">if (window.MathJax) {MathJax.Hub.Config({SVG: {font: \"STIX-Web\"}});}</script>\n",
              "                <script type=\"text/javascript\">window.PlotlyConfig = {MathJaxConfig: 'local'};</script>\n",
              "        <script src=\"https://cdn.plot.ly/plotly-latest.min.js\"></script>    \n",
              "            <div id=\"74e88ce2-20d9-4983-be84-34cec9974770\" class=\"plotly-graph-div\" style=\"height:525px; width:100%;\"></div>\n",
              "            <script type=\"text/javascript\">\n",
              "                \n",
              "                    window.PLOTLYENV=window.PLOTLYENV || {};\n",
              "                    \n",
              "                if (document.getElementById(\"74e88ce2-20d9-4983-be84-34cec9974770\")) {\n",
              "                    Plotly.newPlot(\n",
              "                        '74e88ce2-20d9-4983-be84-34cec9974770',\n",
              "                        [{\"hoverlabel\": {\"namelength\": 0}, \"hovertemplate\": \"type=MRNA<br>date=%{x}<br>new_sent=%{y}\", \"legendgroup\": \"type=MRNA\", \"line\": {\"color\": \"#636efa\", \"dash\": \"solid\"}, \"mode\": \"lines\", \"name\": \"type=MRNA\", \"showlegend\": true, \"type\": \"scatter\", \"x\": [\"2021-03-19\", \"2021-03-20\", \"2021-03-21\", \"2021-03-22\", \"2021-03-23\", \"2021-03-24\", \"2021-03-25\", \"2021-03-26\", \"2021-03-27\", \"2021-03-28\"], \"xaxis\": \"x\", \"y\": [0.5567567567567567, 0.5714285714285714, 0.5620437956204379, 0.6188118811881188, 0.5459183673469388, 0.6139705882352942, 0.56, 0.6150442477876106, 0.5841584158415841, 0.5333333333333333], \"yaxis\": \"y\"}, {\"hoverlabel\": {\"namelength\": 0}, \"hovertemplate\": \"type=VIRAL<br>date=%{x}<br>new_sent=%{y}\", \"legendgroup\": \"type=VIRAL\", \"line\": {\"color\": \"#EF553B\", \"dash\": \"solid\"}, \"mode\": \"lines\", \"name\": \"type=VIRAL\", \"showlegend\": true, \"type\": \"scatter\", \"x\": [\"2021-03-18\", \"2021-03-19\", \"2021-03-20\", \"2021-03-21\", \"2021-03-22\", \"2021-03-23\", \"2021-03-24\", \"2021-03-25\", \"2021-03-26\", \"2021-03-27\", \"2021-03-28\"], \"xaxis\": \"x\", \"y\": [0.4, 0.5435684647302904, 0.6296296296296297, 0.44594594594594594, 0.4912891986062718, 0.5348837209302325, 0.49206349206349204, 0.4925373134328358, 0.3879310344827586, 0.43037974683544306, 0.5], \"yaxis\": \"y\"}, {\"hoverlabel\": {\"namelength\": 0}, \"hovertemplate\": \"type=INACTIV<br>date=%{x}<br>new_sent=%{y}\", \"legendgroup\": \"type=INACTIV\", \"line\": {\"color\": \"#00cc96\", \"dash\": \"solid\"}, \"mode\": \"lines\", \"name\": \"type=INACTIV\", \"showlegend\": true, \"type\": \"scatter\", \"x\": [\"2021-03-18\", \"2021-03-19\", \"2021-03-20\", \"2021-03-21\", \"2021-03-22\", \"2021-03-23\", \"2021-03-24\", \"2021-03-25\", \"2021-03-26\", \"2021-03-27\", \"2021-03-28\"], \"xaxis\": \"x\", \"y\": [0.5, 0.5714285714285714, 0.3828996282527881, 0.46534653465346537, 0.6015037593984962, 0.4945054945054945, 0.5420560747663551, 0.5391304347826087, 0.6470588235294118, 0.575, 0.5833333333333334], \"yaxis\": \"y\"}],\n",
              "                        {\"legend\": {\"tracegroupgap\": 0}, \"template\": {\"data\": {\"bar\": [{\"error_x\": {\"color\": \"#2a3f5f\"}, \"error_y\": {\"color\": \"#2a3f5f\"}, \"marker\": {\"line\": {\"color\": \"#E5ECF6\", \"width\": 0.5}}, \"type\": \"bar\"}], \"barpolar\": [{\"marker\": {\"line\": {\"color\": \"#E5ECF6\", \"width\": 0.5}}, \"type\": \"barpolar\"}], \"carpet\": [{\"aaxis\": {\"endlinecolor\": \"#2a3f5f\", \"gridcolor\": \"white\", \"linecolor\": \"white\", \"minorgridcolor\": \"white\", \"startlinecolor\": \"#2a3f5f\"}, \"baxis\": {\"endlinecolor\": \"#2a3f5f\", \"gridcolor\": \"white\", \"linecolor\": \"white\", \"minorgridcolor\": \"white\", \"startlinecolor\": \"#2a3f5f\"}, \"type\": \"carpet\"}], \"choropleth\": [{\"colorbar\": {\"outlinewidth\": 0, \"ticks\": \"\"}, \"type\": \"choropleth\"}], \"contour\": [{\"colorbar\": {\"outlinewidth\": 0, \"ticks\": \"\"}, \"colorscale\": [[0.0, \"#0d0887\"], [0.1111111111111111, \"#46039f\"], [0.2222222222222222, \"#7201a8\"], [0.3333333333333333, \"#9c179e\"], [0.4444444444444444, \"#bd3786\"], [0.5555555555555556, \"#d8576b\"], [0.6666666666666666, \"#ed7953\"], [0.7777777777777778, \"#fb9f3a\"], [0.8888888888888888, \"#fdca26\"], [1.0, \"#f0f921\"]], \"type\": \"contour\"}], \"contourcarpet\": [{\"colorbar\": {\"outlinewidth\": 0, \"ticks\": \"\"}, \"type\": \"contourcarpet\"}], \"heatmap\": [{\"colorbar\": {\"outlinewidth\": 0, \"ticks\": \"\"}, \"colorscale\": [[0.0, \"#0d0887\"], [0.1111111111111111, \"#46039f\"], [0.2222222222222222, \"#7201a8\"], [0.3333333333333333, \"#9c179e\"], [0.4444444444444444, \"#bd3786\"], [0.5555555555555556, \"#d8576b\"], [0.6666666666666666, \"#ed7953\"], [0.7777777777777778, \"#fb9f3a\"], [0.8888888888888888, \"#fdca26\"], [1.0, \"#f0f921\"]], \"type\": \"heatmap\"}], \"heatmapgl\": [{\"colorbar\": {\"outlinewidth\": 0, \"ticks\": \"\"}, \"colorscale\": [[0.0, \"#0d0887\"], [0.1111111111111111, \"#46039f\"], [0.2222222222222222, \"#7201a8\"], [0.3333333333333333, \"#9c179e\"], [0.4444444444444444, \"#bd3786\"], [0.5555555555555556, \"#d8576b\"], [0.6666666666666666, \"#ed7953\"], [0.7777777777777778, \"#fb9f3a\"], [0.8888888888888888, \"#fdca26\"], [1.0, \"#f0f921\"]], \"type\": \"heatmapgl\"}], \"histogram\": [{\"marker\": {\"colorbar\": {\"outlinewidth\": 0, \"ticks\": \"\"}}, \"type\": \"histogram\"}], \"histogram2d\": [{\"colorbar\": {\"outlinewidth\": 0, \"ticks\": \"\"}, \"colorscale\": [[0.0, \"#0d0887\"], [0.1111111111111111, \"#46039f\"], [0.2222222222222222, \"#7201a8\"], [0.3333333333333333, \"#9c179e\"], [0.4444444444444444, \"#bd3786\"], [0.5555555555555556, \"#d8576b\"], [0.6666666666666666, \"#ed7953\"], [0.7777777777777778, \"#fb9f3a\"], [0.8888888888888888, \"#fdca26\"], [1.0, \"#f0f921\"]], \"type\": \"histogram2d\"}], \"histogram2dcontour\": [{\"colorbar\": {\"outlinewidth\": 0, \"ticks\": \"\"}, \"colorscale\": [[0.0, \"#0d0887\"], [0.1111111111111111, \"#46039f\"], [0.2222222222222222, \"#7201a8\"], [0.3333333333333333, \"#9c179e\"], [0.4444444444444444, \"#bd3786\"], [0.5555555555555556, \"#d8576b\"], [0.6666666666666666, \"#ed7953\"], [0.7777777777777778, \"#fb9f3a\"], [0.8888888888888888, \"#fdca26\"], [1.0, \"#f0f921\"]], \"type\": \"histogram2dcontour\"}], \"mesh3d\": [{\"colorbar\": {\"outlinewidth\": 0, \"ticks\": \"\"}, \"type\": \"mesh3d\"}], \"parcoords\": [{\"line\": {\"colorbar\": {\"outlinewidth\": 0, \"ticks\": \"\"}}, \"type\": \"parcoords\"}], \"pie\": [{\"automargin\": true, \"type\": \"pie\"}], \"scatter\": [{\"marker\": {\"colorbar\": {\"outlinewidth\": 0, \"ticks\": \"\"}}, \"type\": \"scatter\"}], \"scatter3d\": [{\"line\": {\"colorbar\": {\"outlinewidth\": 0, \"ticks\": \"\"}}, \"marker\": {\"colorbar\": {\"outlinewidth\": 0, \"ticks\": \"\"}}, \"type\": \"scatter3d\"}], \"scattercarpet\": [{\"marker\": {\"colorbar\": {\"outlinewidth\": 0, \"ticks\": \"\"}}, \"type\": \"scattercarpet\"}], \"scattergeo\": [{\"marker\": {\"colorbar\": {\"outlinewidth\": 0, \"ticks\": \"\"}}, \"type\": \"scattergeo\"}], \"scattergl\": [{\"marker\": {\"colorbar\": {\"outlinewidth\": 0, \"ticks\": \"\"}}, \"type\": \"scattergl\"}], \"scattermapbox\": [{\"marker\": {\"colorbar\": {\"outlinewidth\": 0, \"ticks\": \"\"}}, \"type\": \"scattermapbox\"}], \"scatterpolar\": [{\"marker\": {\"colorbar\": {\"outlinewidth\": 0, \"ticks\": \"\"}}, \"type\": \"scatterpolar\"}], \"scatterpolargl\": [{\"marker\": {\"colorbar\": {\"outlinewidth\": 0, \"ticks\": \"\"}}, \"type\": \"scatterpolargl\"}], \"scatterternary\": [{\"marker\": {\"colorbar\": {\"outlinewidth\": 0, \"ticks\": \"\"}}, \"type\": \"scatterternary\"}], \"surface\": [{\"colorbar\": {\"outlinewidth\": 0, \"ticks\": \"\"}, \"colorscale\": [[0.0, \"#0d0887\"], [0.1111111111111111, \"#46039f\"], [0.2222222222222222, \"#7201a8\"], [0.3333333333333333, \"#9c179e\"], [0.4444444444444444, \"#bd3786\"], [0.5555555555555556, \"#d8576b\"], [0.6666666666666666, \"#ed7953\"], [0.7777777777777778, \"#fb9f3a\"], [0.8888888888888888, \"#fdca26\"], [1.0, \"#f0f921\"]], \"type\": \"surface\"}], \"table\": [{\"cells\": {\"fill\": {\"color\": \"#EBF0F8\"}, \"line\": {\"color\": \"white\"}}, \"header\": {\"fill\": {\"color\": \"#C8D4E3\"}, \"line\": {\"color\": \"white\"}}, \"type\": \"table\"}]}, \"layout\": {\"annotationdefaults\": {\"arrowcolor\": \"#2a3f5f\", \"arrowhead\": 0, \"arrowwidth\": 1}, \"coloraxis\": {\"colorbar\": {\"outlinewidth\": 0, \"ticks\": \"\"}}, \"colorscale\": {\"diverging\": [[0, \"#8e0152\"], [0.1, \"#c51b7d\"], [0.2, \"#de77ae\"], [0.3, \"#f1b6da\"], [0.4, \"#fde0ef\"], [0.5, \"#f7f7f7\"], [0.6, \"#e6f5d0\"], [0.7, \"#b8e186\"], [0.8, \"#7fbc41\"], [0.9, \"#4d9221\"], [1, \"#276419\"]], \"sequential\": [[0.0, \"#0d0887\"], [0.1111111111111111, \"#46039f\"], [0.2222222222222222, \"#7201a8\"], [0.3333333333333333, \"#9c179e\"], [0.4444444444444444, \"#bd3786\"], [0.5555555555555556, \"#d8576b\"], [0.6666666666666666, \"#ed7953\"], [0.7777777777777778, \"#fb9f3a\"], [0.8888888888888888, \"#fdca26\"], [1.0, \"#f0f921\"]], \"sequentialminus\": [[0.0, \"#0d0887\"], [0.1111111111111111, \"#46039f\"], [0.2222222222222222, \"#7201a8\"], [0.3333333333333333, \"#9c179e\"], [0.4444444444444444, \"#bd3786\"], [0.5555555555555556, \"#d8576b\"], [0.6666666666666666, \"#ed7953\"], [0.7777777777777778, \"#fb9f3a\"], [0.8888888888888888, \"#fdca26\"], [1.0, \"#f0f921\"]]}, \"colorway\": [\"#636efa\", \"#EF553B\", \"#00cc96\", \"#ab63fa\", \"#FFA15A\", \"#19d3f3\", \"#FF6692\", \"#B6E880\", \"#FF97FF\", \"#FECB52\"], \"font\": {\"color\": \"#2a3f5f\"}, \"geo\": {\"bgcolor\": \"white\", \"lakecolor\": \"white\", \"landcolor\": \"#E5ECF6\", \"showlakes\": true, \"showland\": true, \"subunitcolor\": \"white\"}, \"hoverlabel\": {\"align\": \"left\"}, \"hovermode\": \"closest\", \"mapbox\": {\"style\": \"light\"}, \"paper_bgcolor\": \"white\", \"plot_bgcolor\": \"#E5ECF6\", \"polar\": {\"angularaxis\": {\"gridcolor\": \"white\", \"linecolor\": \"white\", \"ticks\": \"\"}, \"bgcolor\": \"#E5ECF6\", \"radialaxis\": {\"gridcolor\": \"white\", \"linecolor\": \"white\", \"ticks\": \"\"}}, \"scene\": {\"xaxis\": {\"backgroundcolor\": \"#E5ECF6\", \"gridcolor\": \"white\", \"gridwidth\": 2, \"linecolor\": \"white\", \"showbackground\": true, \"ticks\": \"\", \"zerolinecolor\": \"white\"}, \"yaxis\": {\"backgroundcolor\": \"#E5ECF6\", \"gridcolor\": \"white\", \"gridwidth\": 2, \"linecolor\": \"white\", \"showbackground\": true, \"ticks\": \"\", \"zerolinecolor\": \"white\"}, \"zaxis\": {\"backgroundcolor\": \"#E5ECF6\", \"gridcolor\": \"white\", \"gridwidth\": 2, \"linecolor\": \"white\", \"showbackground\": true, \"ticks\": \"\", \"zerolinecolor\": \"white\"}}, \"shapedefaults\": {\"line\": {\"color\": \"#2a3f5f\"}}, \"ternary\": {\"aaxis\": {\"gridcolor\": \"white\", \"linecolor\": \"white\", \"ticks\": \"\"}, \"baxis\": {\"gridcolor\": \"white\", \"linecolor\": \"white\", \"ticks\": \"\"}, \"bgcolor\": \"#E5ECF6\", \"caxis\": {\"gridcolor\": \"white\", \"linecolor\": \"white\", \"ticks\": \"\"}}, \"title\": {\"x\": 0.05}, \"xaxis\": {\"automargin\": true, \"gridcolor\": \"white\", \"linecolor\": \"white\", \"ticks\": \"\", \"title\": {\"standoff\": 15}, \"zerolinecolor\": \"white\", \"zerolinewidth\": 2}, \"yaxis\": {\"automargin\": true, \"gridcolor\": \"white\", \"linecolor\": \"white\", \"ticks\": \"\", \"title\": {\"standoff\": 15}, \"zerolinecolor\": \"white\", \"zerolinewidth\": 2}}}, \"title\": {\"text\": \"Timeline showing sentiment of tweets about COVID-19 vaccines according to their type\"}, \"xaxis\": {\"anchor\": \"y\", \"domain\": [0.0, 1.0], \"title\": {\"text\": \"date\"}}, \"yaxis\": {\"anchor\": \"x\", \"domain\": [0.0, 1.0], \"title\": {\"text\": \"new_sent\"}}},\n",
              "                        {\"responsive\": true}\n",
              "                    ).then(function(){\n",
              "                            \n",
              "var gd = document.getElementById('74e88ce2-20d9-4983-be84-34cec9974770');\n",
              "var x = new MutationObserver(function (mutations, observer) {{\n",
              "        var display = window.getComputedStyle(gd).display;\n",
              "        if (!display || display === 'none') {{\n",
              "            console.log([gd, 'removed!']);\n",
              "            Plotly.purge(gd);\n",
              "            observer.disconnect();\n",
              "        }}\n",
              "}});\n",
              "\n",
              "// Listen for the removal of the full notebook cells\n",
              "var notebookContainer = gd.closest('#notebook-container');\n",
              "if (notebookContainer) {{\n",
              "    x.observe(notebookContainer, {childList: true});\n",
              "}}\n",
              "\n",
              "// Listen for the clearing of the current output cell\n",
              "var outputEl = gd.closest('.output');\n",
              "if (outputEl) {{\n",
              "    x.observe(outputEl, {childList: true});\n",
              "}}\n",
              "\n",
              "                        })\n",
              "                };\n",
              "                \n",
              "            </script>\n",
              "        </div>\n",
              "</body>\n",
              "</html>"
            ]
          },
          "metadata": {
            "tags": []
          }
        }
      ]
    },
    {
      "cell_type": "markdown",
      "metadata": {
        "id": "KfKiHwHdnZxH"
      },
      "source": [
        "Whereas MRNA vaccines are related to a positive, steady sentiment, the attitude for viral and inactive vaccine is more unstable and dependent on the news (for example, debates around thrombosis in relation to AstraZaeneca vaccine's effects)."
      ]
    }
  ]
}